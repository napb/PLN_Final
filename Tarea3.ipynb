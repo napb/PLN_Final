{
 "cells": [
  {
   "cell_type": "markdown",
   "source": [
    "# Installaciones de paquetes requeridos\n",
    "\n",
    "- LIWC: se usa este paquete para poder cargar el diccionario provisto en el directorio ```data```"
   ],
   "metadata": {
    "collapsed": false,
    "pycharm": {
     "name": "#%% md\n"
    }
   }
  },
  {
   "cell_type": "code",
   "execution_count": 63,
   "outputs": [],
   "source": [
    "#%pip install liwc"
   ],
   "metadata": {
    "collapsed": false,
    "pycharm": {
     "name": "#%%\n"
    }
   }
  },
  {
   "cell_type": "code",
   "execution_count": 64,
   "outputs": [],
   "source": [
    "#!python -m spacy download es_core_news_sm\n",
    "#nltk.download('punkt')\n",
    "#nltk.download('stopwords')"
   ],
   "metadata": {
    "collapsed": false,
    "pycharm": {
     "name": "#%%\n"
    }
   }
  },
  {
   "cell_type": "code",
   "execution_count": 65,
   "outputs": [],
   "source": [
    "import nltk\n",
    "import string\n",
    "import re\n",
    "from collections import Counter\n",
    "import pandas as pd\n",
    "import spacy\n",
    "from itertools import compress\n",
    "import warnings\n",
    "warnings.filterwarnings(\"ignore\")\n",
    "import liwc\n",
    "parse, category_names = liwc.load_token_parser('data/dict_r.dic')"
   ],
   "metadata": {
    "collapsed": false,
    "pycharm": {
     "name": "#%%\n"
    }
   }
  },
  {
   "cell_type": "code",
   "execution_count": 66,
   "outputs": [],
   "source": [
    "nlp = spacy.load('es_core_news_sm')"
   ],
   "metadata": {
    "collapsed": false,
    "pycharm": {
     "name": "#%%\n"
    }
   }
  },
  {
   "cell_type": "code",
   "execution_count": 67,
   "outputs": [],
   "source": [
    "institutions = pd.read_excel('data/ELA - Instituciones.xlsx')"
   ],
   "metadata": {
    "collapsed": false,
    "pycharm": {
     "name": "#%%\n"
    }
   }
  },
  {
   "cell_type": "markdown",
   "source": [
    "# Preprocesamiento\n",
    "\n",
    "Este proceso se realiza con el fin de poder modificar o eliminar algunos componentes dentro de los corpus de texto:\n",
    "- convierte todos los corpus a minuscula\n",
    "- elimina signos de punctuacion\n",
    "- elimina espacios en blanco dentro del corpus\n",
    "- elimina posibles saltos de linea\n",
    "- selecciona solo corpus que tienen mas de una palabra"
   ],
   "metadata": {
    "collapsed": false,
    "pycharm": {
     "name": "#%% md\n"
    }
   }
  },
  {
   "cell_type": "code",
   "execution_count": 68,
   "outputs": [],
   "source": [
    "def preprocess(df, concept = None, all_less_concept = None):\n",
    "  institutions = df\n",
    "  if concept is not None:\n",
    "    institutions = institutions[institutions[\"categoria\"] == concept]\n",
    "\n",
    "  if all_less_concept is not None:\n",
    "    institutions = institutions[institutions[\"categoria\"] != all_less_concept]\n",
    "\n",
    "  institutions['fundamento'] = institutions['fundamento'].str.lower()\n",
    "  institutions['fundamento'] = institutions['fundamento'].str.translate(str.maketrans(' ', ' ', string.punctuation))\n",
    "  institutions['fundamento'] = institutions['fundamento'].str.strip()\n",
    "  institutions['fundamento'] = institutions['fundamento'].str.replace('\\n', ' ')\n",
    "\n",
    "  institutions = institutions[[len(str(x).split()) > 2 for x in institutions.fundamento]]\n",
    "  return institutions.reset_index(drop=True)"
   ],
   "metadata": {
    "collapsed": false,
    "pycharm": {
     "name": "#%%\n"
    }
   }
  },
  {
   "cell_type": "markdown",
   "source": [
    "# Eleccion de concepto target\n",
    "\n",
    "Se elige el concepto de **Fuerzas Armadas** como concepto target para trabajar en el procesamiento, para ser cargado dentro del dataframe ```institutions_ffaa```"
   ],
   "metadata": {
    "collapsed": false,
    "pycharm": {
     "name": "#%% md\n"
    }
   }
  },
  {
   "cell_type": "code",
   "execution_count": 69,
   "outputs": [],
   "source": [
    "institutions_ffaa = preprocess(institutions, \"Fuerzas Armadas\")"
   ],
   "metadata": {
    "collapsed": false,
    "pycharm": {
     "name": "#%%\n"
    }
   }
  },
  {
   "cell_type": "markdown",
   "source": [
    "# Carga y preprocesamiento de todos los conceptos, menos el concepto target\n",
    "\n",
    "Se cargan todos los conceptos, menos el concepto target (en este caso **Fuerzas Armadas**) para ser cargados en el dataframe ```institutions_less_ffaa```"
   ],
   "metadata": {
    "collapsed": false,
    "pycharm": {
     "name": "#%% md\n"
    }
   }
  },
  {
   "cell_type": "code",
   "execution_count": 70,
   "outputs": [],
   "source": [
    "institutions_less_ffaa = preprocess(institutions, all_less_concept = \"Fuerzas Armadas\")"
   ],
   "metadata": {
    "collapsed": false,
    "pycharm": {
     "name": "#%%\n"
    }
   }
  },
  {
   "cell_type": "markdown",
   "source": [
    "# Carga y preprocesamiento de todos los conceptos\n",
    "\n",
    "Se cargan todos los conceptos, incluido el concepto target (en este caso **Fuerzas Armadas**) para ser cargados en el dataframe ```institutions_all```"
   ],
   "metadata": {
    "collapsed": false,
    "pycharm": {
     "name": "#%% md\n"
    }
   }
  },
  {
   "cell_type": "code",
   "execution_count": 71,
   "outputs": [],
   "source": [
    "institutions_all = preprocess(institutions)"
   ],
   "metadata": {
    "collapsed": false,
    "pycharm": {
     "name": "#%%\n"
    }
   }
  },
  {
   "cell_type": "markdown",
   "source": [
    "### 1 - Construccion de diccionario\n",
    "\n",
    "Se construye el diccionario con el concepto target **Fuerzas Armadas** para parear las palabras de los corpus, con termino del diccionario cargado en ```data/dict_r.dic```.\n",
    "Por cada corpus se cuenta la cantidad de veces que se repite el termino del diccionario."
   ],
   "metadata": {
    "collapsed": false,
    "pycharm": {
     "name": "#%% md\n"
    }
   }
  },
  {
   "cell_type": "code",
   "execution_count": 72,
   "outputs": [
    {
     "data": {
      "text/plain": "       termino  count\n0     proteger     73\n2     defender     58\n9     respetar     25\n8      cumplir     21\n13       decir     15\n7      ejercer     13\n5   contribuir     12\n3    responder      9\n11    trabajar      5\n12    procurar      5\n4         usar      4\n1       apoyar      4\n15     conocer      4\n16      servir      3\n14       tomar      2\n6        vivir      1\n10      educar      1\n17     guardar      1\n18   conservar      1",
      "text/html": "<div>\n<style scoped>\n    .dataframe tbody tr th:only-of-type {\n        vertical-align: middle;\n    }\n\n    .dataframe tbody tr th {\n        vertical-align: top;\n    }\n\n    .dataframe thead th {\n        text-align: right;\n    }\n</style>\n<table border=\"1\" class=\"dataframe\">\n  <thead>\n    <tr style=\"text-align: right;\">\n      <th></th>\n      <th>termino</th>\n      <th>count</th>\n    </tr>\n  </thead>\n  <tbody>\n    <tr>\n      <th>0</th>\n      <td>proteger</td>\n      <td>73</td>\n    </tr>\n    <tr>\n      <th>2</th>\n      <td>defender</td>\n      <td>58</td>\n    </tr>\n    <tr>\n      <th>9</th>\n      <td>respetar</td>\n      <td>25</td>\n    </tr>\n    <tr>\n      <th>8</th>\n      <td>cumplir</td>\n      <td>21</td>\n    </tr>\n    <tr>\n      <th>13</th>\n      <td>decir</td>\n      <td>15</td>\n    </tr>\n    <tr>\n      <th>7</th>\n      <td>ejercer</td>\n      <td>13</td>\n    </tr>\n    <tr>\n      <th>5</th>\n      <td>contribuir</td>\n      <td>12</td>\n    </tr>\n    <tr>\n      <th>3</th>\n      <td>responder</td>\n      <td>9</td>\n    </tr>\n    <tr>\n      <th>11</th>\n      <td>trabajar</td>\n      <td>5</td>\n    </tr>\n    <tr>\n      <th>12</th>\n      <td>procurar</td>\n      <td>5</td>\n    </tr>\n    <tr>\n      <th>4</th>\n      <td>usar</td>\n      <td>4</td>\n    </tr>\n    <tr>\n      <th>1</th>\n      <td>apoyar</td>\n      <td>4</td>\n    </tr>\n    <tr>\n      <th>15</th>\n      <td>conocer</td>\n      <td>4</td>\n    </tr>\n    <tr>\n      <th>16</th>\n      <td>servir</td>\n      <td>3</td>\n    </tr>\n    <tr>\n      <th>14</th>\n      <td>tomar</td>\n      <td>2</td>\n    </tr>\n    <tr>\n      <th>6</th>\n      <td>vivir</td>\n      <td>1</td>\n    </tr>\n    <tr>\n      <th>10</th>\n      <td>educar</td>\n      <td>1</td>\n    </tr>\n    <tr>\n      <th>17</th>\n      <td>guardar</td>\n      <td>1</td>\n    </tr>\n    <tr>\n      <th>18</th>\n      <td>conservar</td>\n      <td>1</td>\n    </tr>\n  </tbody>\n</table>\n</div>"
     },
     "execution_count": 72,
     "metadata": {},
     "output_type": "execute_result"
    }
   ],
   "source": [
    "df = pd.DataFrame()\n",
    "l_derechos = []\n",
    "\n",
    "for ix in range(institutions_ffaa.shape[0]):\n",
    "  texto = str(institutions_ffaa.fundamento[ix]).lower()\n",
    "  doc = nlp(texto)\n",
    "  tokens = [word.orth_ for word in doc]\n",
    "  tcounts1 = Counter(category for token in tokens for category in parse(token))\n",
    "  word_derechos = list(compress(tokens, ['derechos' in parse(token) for token in tokens]))\n",
    "  df_counts = pd.DataFrame.from_dict([tcounts1]).reset_index()\n",
    "  df_counts['index'] = ix\n",
    "  df_counts['texto'] = texto\n",
    "  df_counts['word_derechos'] =  ['' if len(word_derechos) == 0 else word_derechos]\n",
    "  df = pd.concat([df,df_counts], axis=0, ignore_index=True)\n",
    "\n",
    "  if len(word_derechos)>0:\n",
    "        l_derechos.extend(word_derechos)\n",
    "\n",
    "df_concept_ffaa = pd.DataFrame.from_dict(Counter(l_derechos), orient = 'index').reset_index()\n",
    "df_concept_ffaa = df_concept_ffaa.rename(columns = {'index' : 'termino', 0 : 'count'})\n",
    "df_concept_ffaa.sort_values('count', ascending = False)[0:20]"
   ],
   "metadata": {
    "collapsed": false,
    "pycharm": {
     "name": "#%%\n"
    }
   }
  },
  {
   "cell_type": "markdown",
   "source": [
    "### 2 (1) - Verificacion/Validacion diccionario"
   ],
   "metadata": {
    "collapsed": false,
    "pycharm": {
     "name": "#%% md\n"
    }
   }
  },
  {
   "cell_type": "markdown",
   "source": [
    "### Diccionario original\n",
    "\n",
    "Se dejan los terminos cargados en el diccionario ```dict_r.dic``` y pareados con cada corpus del concepto **Fuerzas Armadas**. Con esto se obtiene la cantidad (ordenada de mayor a menor) de veces en que estos aparecen dentro de cada corpus procesado con el concepto target **Fuerzas Armadas**"
   ],
   "metadata": {
    "collapsed": false,
    "pycharm": {
     "name": "#%% md\n"
    }
   }
  },
  {
   "cell_type": "code",
   "execution_count": 73,
   "outputs": [
    {
     "data": {
      "text/plain": "       termino  count\n0     proteger     73\n2     defender     58\n9     respetar     25\n8      cumplir     21\n13       decir     15\n7      ejercer     13\n5   contribuir     12\n3    responder      9\n11    trabajar      5\n12    procurar      5\n4         usar      4\n1       apoyar      4\n15     conocer      4\n16      servir      3\n14       tomar      2\n6        vivir      1\n10      educar      1\n17     guardar      1\n18   conservar      1",
      "text/html": "<div>\n<style scoped>\n    .dataframe tbody tr th:only-of-type {\n        vertical-align: middle;\n    }\n\n    .dataframe tbody tr th {\n        vertical-align: top;\n    }\n\n    .dataframe thead th {\n        text-align: right;\n    }\n</style>\n<table border=\"1\" class=\"dataframe\">\n  <thead>\n    <tr style=\"text-align: right;\">\n      <th></th>\n      <th>termino</th>\n      <th>count</th>\n    </tr>\n  </thead>\n  <tbody>\n    <tr>\n      <th>0</th>\n      <td>proteger</td>\n      <td>73</td>\n    </tr>\n    <tr>\n      <th>2</th>\n      <td>defender</td>\n      <td>58</td>\n    </tr>\n    <tr>\n      <th>9</th>\n      <td>respetar</td>\n      <td>25</td>\n    </tr>\n    <tr>\n      <th>8</th>\n      <td>cumplir</td>\n      <td>21</td>\n    </tr>\n    <tr>\n      <th>13</th>\n      <td>decir</td>\n      <td>15</td>\n    </tr>\n    <tr>\n      <th>7</th>\n      <td>ejercer</td>\n      <td>13</td>\n    </tr>\n    <tr>\n      <th>5</th>\n      <td>contribuir</td>\n      <td>12</td>\n    </tr>\n    <tr>\n      <th>3</th>\n      <td>responder</td>\n      <td>9</td>\n    </tr>\n    <tr>\n      <th>11</th>\n      <td>trabajar</td>\n      <td>5</td>\n    </tr>\n    <tr>\n      <th>12</th>\n      <td>procurar</td>\n      <td>5</td>\n    </tr>\n    <tr>\n      <th>4</th>\n      <td>usar</td>\n      <td>4</td>\n    </tr>\n    <tr>\n      <th>1</th>\n      <td>apoyar</td>\n      <td>4</td>\n    </tr>\n    <tr>\n      <th>15</th>\n      <td>conocer</td>\n      <td>4</td>\n    </tr>\n    <tr>\n      <th>16</th>\n      <td>servir</td>\n      <td>3</td>\n    </tr>\n    <tr>\n      <th>14</th>\n      <td>tomar</td>\n      <td>2</td>\n    </tr>\n    <tr>\n      <th>6</th>\n      <td>vivir</td>\n      <td>1</td>\n    </tr>\n    <tr>\n      <th>10</th>\n      <td>educar</td>\n      <td>1</td>\n    </tr>\n    <tr>\n      <th>17</th>\n      <td>guardar</td>\n      <td>1</td>\n    </tr>\n    <tr>\n      <th>18</th>\n      <td>conservar</td>\n      <td>1</td>\n    </tr>\n  </tbody>\n</table>\n</div>"
     },
     "execution_count": 73,
     "metadata": {},
     "output_type": "execute_result"
    }
   ],
   "source": [
    "df_concept_ffaa.sort_values(by = [\"count\"], ascending = False)"
   ],
   "metadata": {
    "collapsed": false,
    "pycharm": {
     "name": "#%%\n"
    }
   }
  },
  {
   "cell_type": "markdown",
   "source": [
    "### 3 (1) - Desempeño diccionario\n",
    "\n",
    "De los terminos propuestos en el procesamiento del punto **2 (1) - Verificacion/Validacion diccionario**, se genera una matriz de verificacion por todos los conceptos de la base de datos ```ELA - Instituciones.xlsx```. Todos los conceptos seran sumados al indicador, de acuerdo a cuantas veces se repita dicho termino del diccionario, dentro de la frase de cada concepto dentro de la base ```ELA - Instituciones.xlsx```"
   ],
   "metadata": {
    "collapsed": false,
    "pycharm": {
     "name": "#%% md\n"
    }
   }
  },
  {
   "cell_type": "code",
   "execution_count": 74,
   "outputs": [],
   "source": [
    "df_dummy_categories_ffaa = pd.get_dummies(df_concept_ffaa.groupby(by = ['termino']).count().reset_index()['termino'])\n",
    "df_dummy_categories_ffaa = df_dummy_categories_ffaa[0:0]\n",
    "df_institutions_all_group = institutions_all.groupby(by = ['categoria']).count().reset_index()['categoria']\n",
    "df_dummy_categories_ffaa['categoria'] = df_institutions_all_group\n",
    "\n",
    "df_dummy_categories_ffaa = df_dummy_categories_ffaa.set_index(\"categoria\")\n",
    "\n",
    "for col in df_dummy_categories_ffaa.columns:\n",
    "    df_dummy_categories_ffaa[col].values[:] = 0\n",
    "\n",
    "for index, row in institutions_all.iterrows():\n",
    "  for i, v in df_dummy_categories_ffaa.loc[row['categoria']].items():\n",
    "    df_dummy_categories_ffaa.loc[row['categoria']][i] = df_dummy_categories_ffaa.loc[row['categoria']][i] + row['fundamento'].count(i)"
   ],
   "metadata": {
    "collapsed": false,
    "pycharm": {
     "name": "#%%\n"
    }
   }
  },
  {
   "cell_type": "code",
   "execution_count": 75,
   "outputs": [
    {
     "data": {
      "text/plain": "                                                    apoyar  conocer  \\\ncategoria                                                             \nDefensor del Pueblo / Ciudadano                       10.0     10.0   \nPlebiscitos, referendos y consultas                    6.0     58.0   \nFuerzas Armadas                                        6.0      6.0   \nPoder judicial (estructura y funciones)                0.0     19.0   \nCongreso o parlamento                                  2.0     10.0   \nGobierno regional                                      9.0     13.0   \nGobierno nacional (estructura y funciones)             2.0     10.0   \nGobierno local / Municipal                            12.0     17.0   \nPresidencia de la República                            3.0     10.0   \nForma de Estado                                        1.0     22.0   \nJuicio político /acusación constitucional              1.0      3.0   \nMinisterio Público / Defensoría Pública                2.0      4.0   \nJusticia constitucional                                1.0      5.0   \nContraloría general / Tribunales de cuentas            2.0      3.0   \nRégimen de gobierno presidencial /Semi-presiden...     1.0      6.0   \nCambio o reforma constitucional                        0.0      6.0   \nEstado de excepción                                    1.0      1.0   \nJusticia electoral                                     0.0      4.0   \nOtro                                                   1.0      6.0   \nInclasificable/No corresponde                          0.0      9.0   \nDivisión territorial                                   0.0      8.0   \nAsamblea Constituyente                                 0.0      2.0   \nGobierno provincial                                    2.0      4.0   \nAsambleas y Cabildos                                   2.0      2.0   \nOrganizaciones de la sociedad civil                    0.0      1.0   \nExistencia de Tribunal Constitucional                  0.0      0.0   \nJefatura de gobierno                                   0.0      0.0   \nCongreso o Parlamento Unicameral                       0.0      0.0   \nCarabineros                                            0.0      1.0   \nAutonomía Banco Central                                0.0      0.0   \nIniciativa popular de Ley                              0.0      1.0   \nTribunal de Defensa de la Libre Competencia            0.0      0.0   \nAutonomía regional                                     0.0      0.0   \nEliminacion de Tribunal Constitucional                 0.0      0.0   \nServicio Nacional de Asuntos Religiosos                0.0      0.0   \n\n                                                    conservar  contribuir  \\\ncategoria                                                                   \nDefensor del Pueblo / Ciudadano                           1.0         2.0   \nPlebiscitos, referendos y consultas                       1.0         3.0   \nFuerzas Armadas                                           1.0        12.0   \nPoder judicial (estructura y funciones)                   2.0         1.0   \nCongreso o parlamento                                     5.0         0.0   \nGobierno regional                                         4.0         6.0   \nGobierno nacional (estructura y funciones)                0.0         2.0   \nGobierno local / Municipal                                1.0         5.0   \nPresidencia de la República                               3.0         0.0   \nForma de Estado                                           2.0         3.0   \nJuicio político /acusación constitucional                 2.0         0.0   \nMinisterio Público / Defensoría Pública                   0.0         0.0   \nJusticia constitucional                                   0.0         0.0   \nContraloría general / Tribunales de cuentas               0.0         0.0   \nRégimen de gobierno presidencial /Semi-presiden...        4.0         2.0   \nCambio o reforma constitucional                           3.0         2.0   \nEstado de excepción                                       2.0         0.0   \nJusticia electoral                                        0.0         0.0   \nOtro                                                      0.0         0.0   \nInclasificable/No corresponde                             0.0         0.0   \nDivisión territorial                                      2.0         0.0   \nAsamblea Constituyente                                    0.0         0.0   \nGobierno provincial                                       0.0         2.0   \nAsambleas y Cabildos                                      0.0         0.0   \nOrganizaciones de la sociedad civil                       0.0         3.0   \nExistencia de Tribunal Constitucional                     0.0         0.0   \nJefatura de gobierno                                      0.0         0.0   \nCongreso o Parlamento Unicameral                          0.0         0.0   \nCarabineros                                               0.0         1.0   \nAutonomía Banco Central                                   0.0         0.0   \nIniciativa popular de Ley                                 0.0         0.0   \nTribunal de Defensa de la Libre Competencia               0.0         0.0   \nAutonomía regional                                        0.0         0.0   \nEliminacion de Tribunal Constitucional                    0.0         0.0   \nServicio Nacional de Asuntos Religiosos                   0.0         0.0   \n\n                                                    cumplir  decir  defender  \\\ncategoria                                                                      \nDefensor del Pueblo / Ciudadano                        16.0    4.0     307.0   \nPlebiscitos, referendos y consultas                     9.0   14.0       5.0   \nFuerzas Armadas                                        22.0   15.0      64.0   \nPoder judicial (estructura y funciones)                91.0    6.0       6.0   \nCongreso o parlamento                                  33.0   11.0       2.0   \nGobierno regional                                      10.0    4.0       2.0   \nGobierno nacional (estructura y funciones)             18.0    3.0      10.0   \nGobierno local / Municipal                              5.0    3.0       1.0   \nPresidencia de la República                            29.0    3.0       6.0   \nForma de Estado                                         2.0    3.0       0.0   \nJuicio político /acusación constitucional              11.0    3.0       5.0   \nMinisterio Público / Defensoría Pública                 7.0    2.0      33.0   \nJusticia constitucional                                19.0    3.0       6.0   \nContraloría general / Tribunales de cuentas            18.0    3.0       1.0   \nRégimen de gobierno presidencial /Semi-presiden...     11.0    9.0       1.0   \nCambio o reforma constitucional                         4.0    5.0       2.0   \nEstado de excepción                                     2.0    1.0       0.0   \nJusticia electoral                                      8.0    3.0       1.0   \nOtro                                                    6.0    1.0       2.0   \nInclasificable/No corresponde                           3.0    0.0       1.0   \nDivisión territorial                                    2.0    2.0       1.0   \nAsamblea Constituyente                                  4.0    4.0       0.0   \nGobierno provincial                                     2.0    0.0       1.0   \nAsambleas y Cabildos                                    1.0    0.0       0.0   \nOrganizaciones de la sociedad civil                     1.0    0.0       2.0   \nExistencia de Tribunal Constitucional                   4.0    0.0       0.0   \nJefatura de gobierno                                    1.0    0.0       0.0   \nCongreso o Parlamento Unicameral                        0.0    5.0       0.0   \nCarabineros                                             2.0    0.0       1.0   \nAutonomía Banco Central                                 1.0    1.0       0.0   \nIniciativa popular de Ley                               0.0    0.0       0.0   \nTribunal de Defensa de la Libre Competencia             0.0    0.0       1.0   \nAutonomía regional                                      0.0    0.0       0.0   \nEliminacion de Tribunal Constitucional                  0.0    1.0       0.0   \nServicio Nacional de Asuntos Religiosos                 0.0    0.0       0.0   \n\n                                                    educar  ejercer  guardar  \\\ncategoria                                                                      \nDefensor del Pueblo / Ciudadano                        1.0     26.0     42.0   \nPlebiscitos, referendos y consultas                    7.0     76.0     14.0   \nFuerzas Armadas                                        1.0     13.0     90.0   \nPoder judicial (estructura y funciones)                2.0     28.0     22.0   \nCongreso o parlamento                                  0.0     21.0     33.0   \nGobierno regional                                      0.0      8.0      6.0   \nGobierno nacional (estructura y funciones)             3.0     11.0     10.0   \nGobierno local / Municipal                             0.0     10.0      5.0   \nPresidencia de la República                            1.0     10.0     12.0   \nForma de Estado                                        0.0      4.0      2.0   \nJuicio político /acusación constitucional              0.0     22.0      6.0   \nMinisterio Público / Defensoría Pública                0.0     11.0     11.0   \nJusticia constitucional                                0.0     15.0     13.0   \nContraloría general / Tribunales de cuentas            0.0     25.0     16.0   \nRégimen de gobierno presidencial /Semi-presiden...     0.0      8.0      1.0   \nCambio o reforma constitucional                        1.0      9.0      4.0   \nEstado de excepción                                    0.0      2.0      8.0   \nJusticia electoral                                     0.0      6.0      6.0   \nOtro                                                   1.0      5.0      2.0   \nInclasificable/No corresponde                          2.0      3.0      3.0   \nDivisión territorial                                   0.0      3.0      2.0   \nAsamblea Constituyente                                 0.0      7.0      1.0   \nGobierno provincial                                    0.0      2.0      0.0   \nAsambleas y Cabildos                                   8.0      4.0      0.0   \nOrganizaciones de la sociedad civil                    1.0      1.0      2.0   \nExistencia de Tribunal Constitucional                  0.0      3.0      2.0   \nJefatura de gobierno                                   0.0      2.0      0.0   \nCongreso o Parlamento Unicameral                       0.0      2.0      0.0   \nCarabineros                                            0.0      0.0      3.0   \nAutonomía Banco Central                                0.0      1.0      2.0   \nIniciativa popular de Ley                              0.0      2.0      0.0   \nTribunal de Defensa de la Libre Competencia            0.0      1.0      0.0   \nAutonomía regional                                     0.0      0.0      0.0   \nEliminacion de Tribunal Constitucional                 0.0      0.0      0.0   \nServicio Nacional de Asuntos Religiosos                0.0      0.0      0.0   \n\n                                                    procurar  proteger  \\\ncategoria                                                                \nDefensor del Pueblo / Ciudadano                          3.0     112.0   \nPlebiscitos, referendos y consultas                      0.0       3.0   \nFuerzas Armadas                                          5.0      77.0   \nPoder judicial (estructura y funciones)                  2.0      14.0   \nCongreso o parlamento                                    1.0       5.0   \nGobierno regional                                        1.0       1.0   \nGobierno nacional (estructura y funciones)               1.0      20.0   \nGobierno local / Municipal                               2.0       4.0   \nPresidencia de la República                              1.0       4.0   \nForma de Estado                                          1.0       2.0   \nJuicio político /acusación constitucional                0.0       1.0   \nMinisterio Público / Defensoría Pública                  1.0       8.0   \nJusticia constitucional                                  0.0      10.0   \nContraloría general / Tribunales de cuentas              0.0       6.0   \nRégimen de gobierno presidencial /Semi-presiden...       0.0       1.0   \nCambio o reforma constitucional                          0.0       2.0   \nEstado de excepción                                      0.0      33.0   \nJusticia electoral                                       1.0       5.0   \nOtro                                                     0.0       7.0   \nInclasificable/No corresponde                            1.0       4.0   \nDivisión territorial                                     0.0       0.0   \nAsamblea Constituyente                                   0.0       0.0   \nGobierno provincial                                      0.0       0.0   \nAsambleas y Cabildos                                     0.0       0.0   \nOrganizaciones de la sociedad civil                      0.0       3.0   \nExistencia de Tribunal Constitucional                    0.0       3.0   \nJefatura de gobierno                                     0.0       0.0   \nCongreso o Parlamento Unicameral                         0.0       0.0   \nCarabineros                                              0.0       1.0   \nAutonomía Banco Central                                  0.0       1.0   \nIniciativa popular de Ley                                0.0       0.0   \nTribunal de Defensa de la Libre Competencia              0.0       2.0   \nAutonomía regional                                       0.0       0.0   \nEliminacion de Tribunal Constitucional                   0.0       1.0   \nServicio Nacional de Asuntos Religiosos                  0.0       0.0   \n\n                                                    respetar  responder  \\\ncategoria                                                                 \nDefensor del Pueblo / Ciudadano                         10.0        5.0   \nPlebiscitos, referendos y consultas                     13.0        5.0   \nFuerzas Armadas                                         27.0       10.0   \nPoder judicial (estructura y funciones)                 16.0        4.0   \nCongreso o parlamento                                    7.0        5.0   \nGobierno regional                                        1.0        3.0   \nGobierno nacional (estructura y funciones)              12.0        2.0   \nGobierno local / Municipal                               3.0        8.0   \nPresidencia de la República                             19.0        1.0   \nForma de Estado                                          8.0        4.0   \nJuicio político /acusación constitucional                4.0       18.0   \nMinisterio Público / Defensoría Pública                  3.0        3.0   \nJusticia constitucional                                 15.0        1.0   \nContraloría general / Tribunales de cuentas              3.0        2.0   \nRégimen de gobierno presidencial /Semi-presiden...       5.0        1.0   \nCambio o reforma constitucional                          9.0        8.0   \nEstado de excepción                                      2.0        1.0   \nJusticia electoral                                       7.0        1.0   \nOtro                                                     3.0        2.0   \nInclasificable/No corresponde                            2.0        2.0   \nDivisión territorial                                     4.0        1.0   \nAsamblea Constituyente                                   1.0        2.0   \nGobierno provincial                                      1.0        1.0   \nAsambleas y Cabildos                                     0.0        0.0   \nOrganizaciones de la sociedad civil                      0.0        0.0   \nExistencia de Tribunal Constitucional                    2.0        0.0   \nJefatura de gobierno                                     4.0        0.0   \nCongreso o Parlamento Unicameral                         1.0        0.0   \nCarabineros                                              0.0        0.0   \nAutonomía Banco Central                                  1.0        0.0   \nIniciativa popular de Ley                                2.0        0.0   \nTribunal de Defensa de la Libre Competencia              0.0        0.0   \nAutonomía regional                                       0.0        1.0   \nEliminacion de Tribunal Constitucional                   0.0        0.0   \nServicio Nacional de Asuntos Religiosos                  0.0        0.0   \n\n                                                    servir  tomar  trabajar  \\\ncategoria                                                                     \nDefensor del Pueblo / Ciudadano                        3.0   13.0       4.0   \nPlebiscitos, referendos y consultas                    6.0  155.0       1.0   \nFuerzas Armadas                                        4.0    4.0       5.0   \nPoder judicial (estructura y funciones)                1.0    6.0       7.0   \nCongreso o parlamento                                 10.0   15.0      19.0   \nGobierno regional                                      0.0   49.0       9.0   \nGobierno nacional (estructura y funciones)             2.0    6.0       9.0   \nGobierno local / Municipal                             0.0   29.0      19.0   \nPresidencia de la República                            0.0    4.0       4.0   \nForma de Estado                                        1.0   49.0       3.0   \nJuicio político /acusación constitucional              2.0    3.0       1.0   \nMinisterio Público / Defensoría Pública                2.0    5.0       2.0   \nJusticia constitucional                                1.0    0.0       0.0   \nContraloría general / Tribunales de cuentas            1.0    6.0       1.0   \nRégimen de gobierno presidencial /Semi-presiden...     1.0   12.0       9.0   \nCambio o reforma constitucional                        0.0    1.0       2.0   \nEstado de excepción                                    0.0    5.0       0.0   \nJusticia electoral                                     0.0    4.0       1.0   \nOtro                                                   0.0    4.0       1.0   \nInclasificable/No corresponde                          0.0    1.0       4.0   \nDivisión territorial                                   0.0    4.0       1.0   \nAsamblea Constituyente                                 0.0    1.0       2.0   \nGobierno provincial                                    0.0    6.0       3.0   \nAsambleas y Cabildos                                   0.0    0.0       0.0   \nOrganizaciones de la sociedad civil                    0.0    0.0       0.0   \nExistencia de Tribunal Constitucional                  0.0    1.0       0.0   \nJefatura de gobierno                                   0.0    5.0       1.0   \nCongreso o Parlamento Unicameral                       0.0    2.0       0.0   \nCarabineros                                            1.0    0.0       0.0   \nAutonomía Banco Central                                0.0    1.0       0.0   \nIniciativa popular de Ley                              0.0    2.0       0.0   \nTribunal de Defensa de la Libre Competencia            0.0    0.0       0.0   \nAutonomía regional                                     0.0    2.0       0.0   \nEliminacion de Tribunal Constitucional                 0.0    0.0       0.0   \nServicio Nacional de Asuntos Religiosos                0.0    0.0       0.0   \n\n                                                    usar  vivir   suma  \ncategoria                                                               \nDefensor del Pueblo / Ciudadano                      2.0    2.0  573.0  \nPlebiscitos, referendos y consultas                 15.0   12.0  403.0  \nFuerzas Armadas                                     10.0    2.0  374.0  \nPoder judicial (estructura y funciones)              3.0    2.0  232.0  \nCongreso o parlamento                                3.0    5.0  187.0  \nGobierno regional                                    3.0    5.0  134.0  \nGobierno nacional (estructura y funciones)           1.0   10.0  132.0  \nGobierno local / Municipal                           0.0    5.0  129.0  \nPresidencia de la República                          1.0    1.0  112.0  \nForma de Estado                                      1.0    3.0  111.0  \nJuicio político /acusación constitucional           20.0    1.0  103.0  \nMinisterio Público / Defensoría Pública              3.0    1.0   98.0  \nJusticia constitucional                              3.0    1.0   93.0  \nContraloría general / Tribunales de cuentas          1.0    0.0   88.0  \nRégimen de gobierno presidencial /Semi-presiden...   0.0    1.0   73.0  \nCambio o reforma constitucional                      0.0    6.0   64.0  \nEstado de excepción                                  4.0    2.0   64.0  \nJusticia electoral                                   1.0    1.0   49.0  \nOtro                                                 1.0    1.0   43.0  \nInclasificable/No corresponde                        1.0    5.0   41.0  \nDivisión territorial                                 1.0    0.0   31.0  \nAsamblea Constituyente                               0.0    2.0   26.0  \nGobierno provincial                                  0.0    0.0   24.0  \nAsambleas y Cabildos                                 0.0    0.0   17.0  \nOrganizaciones de la sociedad civil                  0.0    2.0   16.0  \nExistencia de Tribunal Constitucional                0.0    0.0   15.0  \nJefatura de gobierno                                 0.0    0.0   13.0  \nCongreso o Parlamento Unicameral                     0.0    2.0   12.0  \nCarabineros                                          0.0    0.0   10.0  \nAutonomía Banco Central                              0.0    0.0    8.0  \nIniciativa popular de Ley                            0.0    0.0    7.0  \nTribunal de Defensa de la Libre Competencia          0.0    0.0    4.0  \nAutonomía regional                                   0.0    0.0    3.0  \nEliminacion de Tribunal Constitucional               0.0    0.0    2.0  \nServicio Nacional de Asuntos Religiosos              0.0    0.0    0.0  ",
      "text/html": "<div>\n<style scoped>\n    .dataframe tbody tr th:only-of-type {\n        vertical-align: middle;\n    }\n\n    .dataframe tbody tr th {\n        vertical-align: top;\n    }\n\n    .dataframe thead th {\n        text-align: right;\n    }\n</style>\n<table border=\"1\" class=\"dataframe\">\n  <thead>\n    <tr style=\"text-align: right;\">\n      <th></th>\n      <th>apoyar</th>\n      <th>conocer</th>\n      <th>conservar</th>\n      <th>contribuir</th>\n      <th>cumplir</th>\n      <th>decir</th>\n      <th>defender</th>\n      <th>educar</th>\n      <th>ejercer</th>\n      <th>guardar</th>\n      <th>procurar</th>\n      <th>proteger</th>\n      <th>respetar</th>\n      <th>responder</th>\n      <th>servir</th>\n      <th>tomar</th>\n      <th>trabajar</th>\n      <th>usar</th>\n      <th>vivir</th>\n      <th>suma</th>\n    </tr>\n    <tr>\n      <th>categoria</th>\n      <th></th>\n      <th></th>\n      <th></th>\n      <th></th>\n      <th></th>\n      <th></th>\n      <th></th>\n      <th></th>\n      <th></th>\n      <th></th>\n      <th></th>\n      <th></th>\n      <th></th>\n      <th></th>\n      <th></th>\n      <th></th>\n      <th></th>\n      <th></th>\n      <th></th>\n      <th></th>\n    </tr>\n  </thead>\n  <tbody>\n    <tr>\n      <th>Defensor del Pueblo / Ciudadano</th>\n      <td>10.0</td>\n      <td>10.0</td>\n      <td>1.0</td>\n      <td>2.0</td>\n      <td>16.0</td>\n      <td>4.0</td>\n      <td>307.0</td>\n      <td>1.0</td>\n      <td>26.0</td>\n      <td>42.0</td>\n      <td>3.0</td>\n      <td>112.0</td>\n      <td>10.0</td>\n      <td>5.0</td>\n      <td>3.0</td>\n      <td>13.0</td>\n      <td>4.0</td>\n      <td>2.0</td>\n      <td>2.0</td>\n      <td>573.0</td>\n    </tr>\n    <tr>\n      <th>Plebiscitos, referendos y consultas</th>\n      <td>6.0</td>\n      <td>58.0</td>\n      <td>1.0</td>\n      <td>3.0</td>\n      <td>9.0</td>\n      <td>14.0</td>\n      <td>5.0</td>\n      <td>7.0</td>\n      <td>76.0</td>\n      <td>14.0</td>\n      <td>0.0</td>\n      <td>3.0</td>\n      <td>13.0</td>\n      <td>5.0</td>\n      <td>6.0</td>\n      <td>155.0</td>\n      <td>1.0</td>\n      <td>15.0</td>\n      <td>12.0</td>\n      <td>403.0</td>\n    </tr>\n    <tr>\n      <th>Fuerzas Armadas</th>\n      <td>6.0</td>\n      <td>6.0</td>\n      <td>1.0</td>\n      <td>12.0</td>\n      <td>22.0</td>\n      <td>15.0</td>\n      <td>64.0</td>\n      <td>1.0</td>\n      <td>13.0</td>\n      <td>90.0</td>\n      <td>5.0</td>\n      <td>77.0</td>\n      <td>27.0</td>\n      <td>10.0</td>\n      <td>4.0</td>\n      <td>4.0</td>\n      <td>5.0</td>\n      <td>10.0</td>\n      <td>2.0</td>\n      <td>374.0</td>\n    </tr>\n    <tr>\n      <th>Poder judicial (estructura y funciones)</th>\n      <td>0.0</td>\n      <td>19.0</td>\n      <td>2.0</td>\n      <td>1.0</td>\n      <td>91.0</td>\n      <td>6.0</td>\n      <td>6.0</td>\n      <td>2.0</td>\n      <td>28.0</td>\n      <td>22.0</td>\n      <td>2.0</td>\n      <td>14.0</td>\n      <td>16.0</td>\n      <td>4.0</td>\n      <td>1.0</td>\n      <td>6.0</td>\n      <td>7.0</td>\n      <td>3.0</td>\n      <td>2.0</td>\n      <td>232.0</td>\n    </tr>\n    <tr>\n      <th>Congreso o parlamento</th>\n      <td>2.0</td>\n      <td>10.0</td>\n      <td>5.0</td>\n      <td>0.0</td>\n      <td>33.0</td>\n      <td>11.0</td>\n      <td>2.0</td>\n      <td>0.0</td>\n      <td>21.0</td>\n      <td>33.0</td>\n      <td>1.0</td>\n      <td>5.0</td>\n      <td>7.0</td>\n      <td>5.0</td>\n      <td>10.0</td>\n      <td>15.0</td>\n      <td>19.0</td>\n      <td>3.0</td>\n      <td>5.0</td>\n      <td>187.0</td>\n    </tr>\n    <tr>\n      <th>Gobierno regional</th>\n      <td>9.0</td>\n      <td>13.0</td>\n      <td>4.0</td>\n      <td>6.0</td>\n      <td>10.0</td>\n      <td>4.0</td>\n      <td>2.0</td>\n      <td>0.0</td>\n      <td>8.0</td>\n      <td>6.0</td>\n      <td>1.0</td>\n      <td>1.0</td>\n      <td>1.0</td>\n      <td>3.0</td>\n      <td>0.0</td>\n      <td>49.0</td>\n      <td>9.0</td>\n      <td>3.0</td>\n      <td>5.0</td>\n      <td>134.0</td>\n    </tr>\n    <tr>\n      <th>Gobierno nacional (estructura y funciones)</th>\n      <td>2.0</td>\n      <td>10.0</td>\n      <td>0.0</td>\n      <td>2.0</td>\n      <td>18.0</td>\n      <td>3.0</td>\n      <td>10.0</td>\n      <td>3.0</td>\n      <td>11.0</td>\n      <td>10.0</td>\n      <td>1.0</td>\n      <td>20.0</td>\n      <td>12.0</td>\n      <td>2.0</td>\n      <td>2.0</td>\n      <td>6.0</td>\n      <td>9.0</td>\n      <td>1.0</td>\n      <td>10.0</td>\n      <td>132.0</td>\n    </tr>\n    <tr>\n      <th>Gobierno local / Municipal</th>\n      <td>12.0</td>\n      <td>17.0</td>\n      <td>1.0</td>\n      <td>5.0</td>\n      <td>5.0</td>\n      <td>3.0</td>\n      <td>1.0</td>\n      <td>0.0</td>\n      <td>10.0</td>\n      <td>5.0</td>\n      <td>2.0</td>\n      <td>4.0</td>\n      <td>3.0</td>\n      <td>8.0</td>\n      <td>0.0</td>\n      <td>29.0</td>\n      <td>19.0</td>\n      <td>0.0</td>\n      <td>5.0</td>\n      <td>129.0</td>\n    </tr>\n    <tr>\n      <th>Presidencia de la República</th>\n      <td>3.0</td>\n      <td>10.0</td>\n      <td>3.0</td>\n      <td>0.0</td>\n      <td>29.0</td>\n      <td>3.0</td>\n      <td>6.0</td>\n      <td>1.0</td>\n      <td>10.0</td>\n      <td>12.0</td>\n      <td>1.0</td>\n      <td>4.0</td>\n      <td>19.0</td>\n      <td>1.0</td>\n      <td>0.0</td>\n      <td>4.0</td>\n      <td>4.0</td>\n      <td>1.0</td>\n      <td>1.0</td>\n      <td>112.0</td>\n    </tr>\n    <tr>\n      <th>Forma de Estado</th>\n      <td>1.0</td>\n      <td>22.0</td>\n      <td>2.0</td>\n      <td>3.0</td>\n      <td>2.0</td>\n      <td>3.0</td>\n      <td>0.0</td>\n      <td>0.0</td>\n      <td>4.0</td>\n      <td>2.0</td>\n      <td>1.0</td>\n      <td>2.0</td>\n      <td>8.0</td>\n      <td>4.0</td>\n      <td>1.0</td>\n      <td>49.0</td>\n      <td>3.0</td>\n      <td>1.0</td>\n      <td>3.0</td>\n      <td>111.0</td>\n    </tr>\n    <tr>\n      <th>Juicio político /acusación constitucional</th>\n      <td>1.0</td>\n      <td>3.0</td>\n      <td>2.0</td>\n      <td>0.0</td>\n      <td>11.0</td>\n      <td>3.0</td>\n      <td>5.0</td>\n      <td>0.0</td>\n      <td>22.0</td>\n      <td>6.0</td>\n      <td>0.0</td>\n      <td>1.0</td>\n      <td>4.0</td>\n      <td>18.0</td>\n      <td>2.0</td>\n      <td>3.0</td>\n      <td>1.0</td>\n      <td>20.0</td>\n      <td>1.0</td>\n      <td>103.0</td>\n    </tr>\n    <tr>\n      <th>Ministerio Público / Defensoría Pública</th>\n      <td>2.0</td>\n      <td>4.0</td>\n      <td>0.0</td>\n      <td>0.0</td>\n      <td>7.0</td>\n      <td>2.0</td>\n      <td>33.0</td>\n      <td>0.0</td>\n      <td>11.0</td>\n      <td>11.0</td>\n      <td>1.0</td>\n      <td>8.0</td>\n      <td>3.0</td>\n      <td>3.0</td>\n      <td>2.0</td>\n      <td>5.0</td>\n      <td>2.0</td>\n      <td>3.0</td>\n      <td>1.0</td>\n      <td>98.0</td>\n    </tr>\n    <tr>\n      <th>Justicia constitucional</th>\n      <td>1.0</td>\n      <td>5.0</td>\n      <td>0.0</td>\n      <td>0.0</td>\n      <td>19.0</td>\n      <td>3.0</td>\n      <td>6.0</td>\n      <td>0.0</td>\n      <td>15.0</td>\n      <td>13.0</td>\n      <td>0.0</td>\n      <td>10.0</td>\n      <td>15.0</td>\n      <td>1.0</td>\n      <td>1.0</td>\n      <td>0.0</td>\n      <td>0.0</td>\n      <td>3.0</td>\n      <td>1.0</td>\n      <td>93.0</td>\n    </tr>\n    <tr>\n      <th>Contraloría general / Tribunales de cuentas</th>\n      <td>2.0</td>\n      <td>3.0</td>\n      <td>0.0</td>\n      <td>0.0</td>\n      <td>18.0</td>\n      <td>3.0</td>\n      <td>1.0</td>\n      <td>0.0</td>\n      <td>25.0</td>\n      <td>16.0</td>\n      <td>0.0</td>\n      <td>6.0</td>\n      <td>3.0</td>\n      <td>2.0</td>\n      <td>1.0</td>\n      <td>6.0</td>\n      <td>1.0</td>\n      <td>1.0</td>\n      <td>0.0</td>\n      <td>88.0</td>\n    </tr>\n    <tr>\n      <th>Régimen de gobierno presidencial /Semi-presidencial / Parlamentario</th>\n      <td>1.0</td>\n      <td>6.0</td>\n      <td>4.0</td>\n      <td>2.0</td>\n      <td>11.0</td>\n      <td>9.0</td>\n      <td>1.0</td>\n      <td>0.0</td>\n      <td>8.0</td>\n      <td>1.0</td>\n      <td>0.0</td>\n      <td>1.0</td>\n      <td>5.0</td>\n      <td>1.0</td>\n      <td>1.0</td>\n      <td>12.0</td>\n      <td>9.0</td>\n      <td>0.0</td>\n      <td>1.0</td>\n      <td>73.0</td>\n    </tr>\n    <tr>\n      <th>Cambio o reforma constitucional</th>\n      <td>0.0</td>\n      <td>6.0</td>\n      <td>3.0</td>\n      <td>2.0</td>\n      <td>4.0</td>\n      <td>5.0</td>\n      <td>2.0</td>\n      <td>1.0</td>\n      <td>9.0</td>\n      <td>4.0</td>\n      <td>0.0</td>\n      <td>2.0</td>\n      <td>9.0</td>\n      <td>8.0</td>\n      <td>0.0</td>\n      <td>1.0</td>\n      <td>2.0</td>\n      <td>0.0</td>\n      <td>6.0</td>\n      <td>64.0</td>\n    </tr>\n    <tr>\n      <th>Estado de excepción</th>\n      <td>1.0</td>\n      <td>1.0</td>\n      <td>2.0</td>\n      <td>0.0</td>\n      <td>2.0</td>\n      <td>1.0</td>\n      <td>0.0</td>\n      <td>0.0</td>\n      <td>2.0</td>\n      <td>8.0</td>\n      <td>0.0</td>\n      <td>33.0</td>\n      <td>2.0</td>\n      <td>1.0</td>\n      <td>0.0</td>\n      <td>5.0</td>\n      <td>0.0</td>\n      <td>4.0</td>\n      <td>2.0</td>\n      <td>64.0</td>\n    </tr>\n    <tr>\n      <th>Justicia electoral</th>\n      <td>0.0</td>\n      <td>4.0</td>\n      <td>0.0</td>\n      <td>0.0</td>\n      <td>8.0</td>\n      <td>3.0</td>\n      <td>1.0</td>\n      <td>0.0</td>\n      <td>6.0</td>\n      <td>6.0</td>\n      <td>1.0</td>\n      <td>5.0</td>\n      <td>7.0</td>\n      <td>1.0</td>\n      <td>0.0</td>\n      <td>4.0</td>\n      <td>1.0</td>\n      <td>1.0</td>\n      <td>1.0</td>\n      <td>49.0</td>\n    </tr>\n    <tr>\n      <th>Otro</th>\n      <td>1.0</td>\n      <td>6.0</td>\n      <td>0.0</td>\n      <td>0.0</td>\n      <td>6.0</td>\n      <td>1.0</td>\n      <td>2.0</td>\n      <td>1.0</td>\n      <td>5.0</td>\n      <td>2.0</td>\n      <td>0.0</td>\n      <td>7.0</td>\n      <td>3.0</td>\n      <td>2.0</td>\n      <td>0.0</td>\n      <td>4.0</td>\n      <td>1.0</td>\n      <td>1.0</td>\n      <td>1.0</td>\n      <td>43.0</td>\n    </tr>\n    <tr>\n      <th>Inclasificable/No corresponde</th>\n      <td>0.0</td>\n      <td>9.0</td>\n      <td>0.0</td>\n      <td>0.0</td>\n      <td>3.0</td>\n      <td>0.0</td>\n      <td>1.0</td>\n      <td>2.0</td>\n      <td>3.0</td>\n      <td>3.0</td>\n      <td>1.0</td>\n      <td>4.0</td>\n      <td>2.0</td>\n      <td>2.0</td>\n      <td>0.0</td>\n      <td>1.0</td>\n      <td>4.0</td>\n      <td>1.0</td>\n      <td>5.0</td>\n      <td>41.0</td>\n    </tr>\n    <tr>\n      <th>División territorial</th>\n      <td>0.0</td>\n      <td>8.0</td>\n      <td>2.0</td>\n      <td>0.0</td>\n      <td>2.0</td>\n      <td>2.0</td>\n      <td>1.0</td>\n      <td>0.0</td>\n      <td>3.0</td>\n      <td>2.0</td>\n      <td>0.0</td>\n      <td>0.0</td>\n      <td>4.0</td>\n      <td>1.0</td>\n      <td>0.0</td>\n      <td>4.0</td>\n      <td>1.0</td>\n      <td>1.0</td>\n      <td>0.0</td>\n      <td>31.0</td>\n    </tr>\n    <tr>\n      <th>Asamblea Constituyente</th>\n      <td>0.0</td>\n      <td>2.0</td>\n      <td>0.0</td>\n      <td>0.0</td>\n      <td>4.0</td>\n      <td>4.0</td>\n      <td>0.0</td>\n      <td>0.0</td>\n      <td>7.0</td>\n      <td>1.0</td>\n      <td>0.0</td>\n      <td>0.0</td>\n      <td>1.0</td>\n      <td>2.0</td>\n      <td>0.0</td>\n      <td>1.0</td>\n      <td>2.0</td>\n      <td>0.0</td>\n      <td>2.0</td>\n      <td>26.0</td>\n    </tr>\n    <tr>\n      <th>Gobierno provincial</th>\n      <td>2.0</td>\n      <td>4.0</td>\n      <td>0.0</td>\n      <td>2.0</td>\n      <td>2.0</td>\n      <td>0.0</td>\n      <td>1.0</td>\n      <td>0.0</td>\n      <td>2.0</td>\n      <td>0.0</td>\n      <td>0.0</td>\n      <td>0.0</td>\n      <td>1.0</td>\n      <td>1.0</td>\n      <td>0.0</td>\n      <td>6.0</td>\n      <td>3.0</td>\n      <td>0.0</td>\n      <td>0.0</td>\n      <td>24.0</td>\n    </tr>\n    <tr>\n      <th>Asambleas y Cabildos</th>\n      <td>2.0</td>\n      <td>2.0</td>\n      <td>0.0</td>\n      <td>0.0</td>\n      <td>1.0</td>\n      <td>0.0</td>\n      <td>0.0</td>\n      <td>8.0</td>\n      <td>4.0</td>\n      <td>0.0</td>\n      <td>0.0</td>\n      <td>0.0</td>\n      <td>0.0</td>\n      <td>0.0</td>\n      <td>0.0</td>\n      <td>0.0</td>\n      <td>0.0</td>\n      <td>0.0</td>\n      <td>0.0</td>\n      <td>17.0</td>\n    </tr>\n    <tr>\n      <th>Organizaciones de la sociedad civil</th>\n      <td>0.0</td>\n      <td>1.0</td>\n      <td>0.0</td>\n      <td>3.0</td>\n      <td>1.0</td>\n      <td>0.0</td>\n      <td>2.0</td>\n      <td>1.0</td>\n      <td>1.0</td>\n      <td>2.0</td>\n      <td>0.0</td>\n      <td>3.0</td>\n      <td>0.0</td>\n      <td>0.0</td>\n      <td>0.0</td>\n      <td>0.0</td>\n      <td>0.0</td>\n      <td>0.0</td>\n      <td>2.0</td>\n      <td>16.0</td>\n    </tr>\n    <tr>\n      <th>Existencia de Tribunal Constitucional</th>\n      <td>0.0</td>\n      <td>0.0</td>\n      <td>0.0</td>\n      <td>0.0</td>\n      <td>4.0</td>\n      <td>0.0</td>\n      <td>0.0</td>\n      <td>0.0</td>\n      <td>3.0</td>\n      <td>2.0</td>\n      <td>0.0</td>\n      <td>3.0</td>\n      <td>2.0</td>\n      <td>0.0</td>\n      <td>0.0</td>\n      <td>1.0</td>\n      <td>0.0</td>\n      <td>0.0</td>\n      <td>0.0</td>\n      <td>15.0</td>\n    </tr>\n    <tr>\n      <th>Jefatura de gobierno</th>\n      <td>0.0</td>\n      <td>0.0</td>\n      <td>0.0</td>\n      <td>0.0</td>\n      <td>1.0</td>\n      <td>0.0</td>\n      <td>0.0</td>\n      <td>0.0</td>\n      <td>2.0</td>\n      <td>0.0</td>\n      <td>0.0</td>\n      <td>0.0</td>\n      <td>4.0</td>\n      <td>0.0</td>\n      <td>0.0</td>\n      <td>5.0</td>\n      <td>1.0</td>\n      <td>0.0</td>\n      <td>0.0</td>\n      <td>13.0</td>\n    </tr>\n    <tr>\n      <th>Congreso o Parlamento Unicameral</th>\n      <td>0.0</td>\n      <td>0.0</td>\n      <td>0.0</td>\n      <td>0.0</td>\n      <td>0.0</td>\n      <td>5.0</td>\n      <td>0.0</td>\n      <td>0.0</td>\n      <td>2.0</td>\n      <td>0.0</td>\n      <td>0.0</td>\n      <td>0.0</td>\n      <td>1.0</td>\n      <td>0.0</td>\n      <td>0.0</td>\n      <td>2.0</td>\n      <td>0.0</td>\n      <td>0.0</td>\n      <td>2.0</td>\n      <td>12.0</td>\n    </tr>\n    <tr>\n      <th>Carabineros</th>\n      <td>0.0</td>\n      <td>1.0</td>\n      <td>0.0</td>\n      <td>1.0</td>\n      <td>2.0</td>\n      <td>0.0</td>\n      <td>1.0</td>\n      <td>0.0</td>\n      <td>0.0</td>\n      <td>3.0</td>\n      <td>0.0</td>\n      <td>1.0</td>\n      <td>0.0</td>\n      <td>0.0</td>\n      <td>1.0</td>\n      <td>0.0</td>\n      <td>0.0</td>\n      <td>0.0</td>\n      <td>0.0</td>\n      <td>10.0</td>\n    </tr>\n    <tr>\n      <th>Autonomía Banco Central</th>\n      <td>0.0</td>\n      <td>0.0</td>\n      <td>0.0</td>\n      <td>0.0</td>\n      <td>1.0</td>\n      <td>1.0</td>\n      <td>0.0</td>\n      <td>0.0</td>\n      <td>1.0</td>\n      <td>2.0</td>\n      <td>0.0</td>\n      <td>1.0</td>\n      <td>1.0</td>\n      <td>0.0</td>\n      <td>0.0</td>\n      <td>1.0</td>\n      <td>0.0</td>\n      <td>0.0</td>\n      <td>0.0</td>\n      <td>8.0</td>\n    </tr>\n    <tr>\n      <th>Iniciativa popular de Ley</th>\n      <td>0.0</td>\n      <td>1.0</td>\n      <td>0.0</td>\n      <td>0.0</td>\n      <td>0.0</td>\n      <td>0.0</td>\n      <td>0.0</td>\n      <td>0.0</td>\n      <td>2.0</td>\n      <td>0.0</td>\n      <td>0.0</td>\n      <td>0.0</td>\n      <td>2.0</td>\n      <td>0.0</td>\n      <td>0.0</td>\n      <td>2.0</td>\n      <td>0.0</td>\n      <td>0.0</td>\n      <td>0.0</td>\n      <td>7.0</td>\n    </tr>\n    <tr>\n      <th>Tribunal de Defensa de la Libre Competencia</th>\n      <td>0.0</td>\n      <td>0.0</td>\n      <td>0.0</td>\n      <td>0.0</td>\n      <td>0.0</td>\n      <td>0.0</td>\n      <td>1.0</td>\n      <td>0.0</td>\n      <td>1.0</td>\n      <td>0.0</td>\n      <td>0.0</td>\n      <td>2.0</td>\n      <td>0.0</td>\n      <td>0.0</td>\n      <td>0.0</td>\n      <td>0.0</td>\n      <td>0.0</td>\n      <td>0.0</td>\n      <td>0.0</td>\n      <td>4.0</td>\n    </tr>\n    <tr>\n      <th>Autonomía regional</th>\n      <td>0.0</td>\n      <td>0.0</td>\n      <td>0.0</td>\n      <td>0.0</td>\n      <td>0.0</td>\n      <td>0.0</td>\n      <td>0.0</td>\n      <td>0.0</td>\n      <td>0.0</td>\n      <td>0.0</td>\n      <td>0.0</td>\n      <td>0.0</td>\n      <td>0.0</td>\n      <td>1.0</td>\n      <td>0.0</td>\n      <td>2.0</td>\n      <td>0.0</td>\n      <td>0.0</td>\n      <td>0.0</td>\n      <td>3.0</td>\n    </tr>\n    <tr>\n      <th>Eliminacion de Tribunal Constitucional</th>\n      <td>0.0</td>\n      <td>0.0</td>\n      <td>0.0</td>\n      <td>0.0</td>\n      <td>0.0</td>\n      <td>1.0</td>\n      <td>0.0</td>\n      <td>0.0</td>\n      <td>0.0</td>\n      <td>0.0</td>\n      <td>0.0</td>\n      <td>1.0</td>\n      <td>0.0</td>\n      <td>0.0</td>\n      <td>0.0</td>\n      <td>0.0</td>\n      <td>0.0</td>\n      <td>0.0</td>\n      <td>0.0</td>\n      <td>2.0</td>\n    </tr>\n    <tr>\n      <th>Servicio Nacional de Asuntos Religiosos</th>\n      <td>0.0</td>\n      <td>0.0</td>\n      <td>0.0</td>\n      <td>0.0</td>\n      <td>0.0</td>\n      <td>0.0</td>\n      <td>0.0</td>\n      <td>0.0</td>\n      <td>0.0</td>\n      <td>0.0</td>\n      <td>0.0</td>\n      <td>0.0</td>\n      <td>0.0</td>\n      <td>0.0</td>\n      <td>0.0</td>\n      <td>0.0</td>\n      <td>0.0</td>\n      <td>0.0</td>\n      <td>0.0</td>\n      <td>0.0</td>\n    </tr>\n  </tbody>\n</table>\n</div>"
     },
     "execution_count": 75,
     "metadata": {},
     "output_type": "execute_result"
    }
   ],
   "source": [
    "df_dummy_categories_ffaa['suma'] = \\\n",
    "  df_dummy_categories_ffaa['apoyar'] + \\\n",
    "  df_dummy_categories_ffaa['conocer'] + \\\n",
    "  df_dummy_categories_ffaa['conservar'] + \\\n",
    "  df_dummy_categories_ffaa['contribuir'] + \\\n",
    "  df_dummy_categories_ffaa['cumplir'] + \\\n",
    "  df_dummy_categories_ffaa['decir'] + \\\n",
    "  df_dummy_categories_ffaa['defender'] + \\\n",
    "  df_dummy_categories_ffaa['educar'] + \\\n",
    "  df_dummy_categories_ffaa['ejercer'] + \\\n",
    "  df_dummy_categories_ffaa['guardar'] + \\\n",
    "  df_dummy_categories_ffaa['procurar'] + \\\n",
    "  df_dummy_categories_ffaa['proteger'] + \\\n",
    "  df_dummy_categories_ffaa['respetar'] + \\\n",
    "  df_dummy_categories_ffaa['responder'] + \\\n",
    "  df_dummy_categories_ffaa['servir'] + \\\n",
    "  df_dummy_categories_ffaa['tomar'] + \\\n",
    "  df_dummy_categories_ffaa['trabajar'] + \\\n",
    "  df_dummy_categories_ffaa['usar'] + \\\n",
    "  df_dummy_categories_ffaa['vivir']\n",
    "\n",
    "df_dummy_categories_ffaa.sort_values(by = ['suma'], ascending = False)"
   ],
   "metadata": {
    "collapsed": false,
    "pycharm": {
     "name": "#%%\n"
    }
   }
  },
  {
   "cell_type": "markdown",
   "source": [],
   "metadata": {
    "collapsed": false,
    "pycharm": {
     "name": "#%% md\n"
    }
   }
  },
  {
   "cell_type": "markdown",
   "source": [
    "### 2 (2) - Diccionario luego del procesamiento del punto 3 (Desempeño diccionario)\n",
    "Luego del proceso del punto 3, se sacan los terminos:\n",
    "- guardar\n",
    "- responder\n",
    "- tomar\n",
    "- usar"
   ],
   "metadata": {
    "collapsed": false,
    "pycharm": {
     "name": "#%% md\n"
    }
   }
  },
  {
   "cell_type": "code",
   "execution_count": 76,
   "outputs": [
    {
     "data": {
      "text/plain": "       termino  count\n0     proteger     73\n2     defender     58\n9     respetar     25\n8      cumplir     21\n13       decir     15\n7      ejercer     13\n5   contribuir     12\n3    responder      9\n11    trabajar      5\n12    procurar      5\n1       apoyar      4\n4         usar      4\n15     conocer      4\n16      servir      3\n14       tomar      2",
      "text/html": "<div>\n<style scoped>\n    .dataframe tbody tr th:only-of-type {\n        vertical-align: middle;\n    }\n\n    .dataframe tbody tr th {\n        vertical-align: top;\n    }\n\n    .dataframe thead th {\n        text-align: right;\n    }\n</style>\n<table border=\"1\" class=\"dataframe\">\n  <thead>\n    <tr style=\"text-align: right;\">\n      <th></th>\n      <th>termino</th>\n      <th>count</th>\n    </tr>\n  </thead>\n  <tbody>\n    <tr>\n      <th>0</th>\n      <td>proteger</td>\n      <td>73</td>\n    </tr>\n    <tr>\n      <th>2</th>\n      <td>defender</td>\n      <td>58</td>\n    </tr>\n    <tr>\n      <th>9</th>\n      <td>respetar</td>\n      <td>25</td>\n    </tr>\n    <tr>\n      <th>8</th>\n      <td>cumplir</td>\n      <td>21</td>\n    </tr>\n    <tr>\n      <th>13</th>\n      <td>decir</td>\n      <td>15</td>\n    </tr>\n    <tr>\n      <th>7</th>\n      <td>ejercer</td>\n      <td>13</td>\n    </tr>\n    <tr>\n      <th>5</th>\n      <td>contribuir</td>\n      <td>12</td>\n    </tr>\n    <tr>\n      <th>3</th>\n      <td>responder</td>\n      <td>9</td>\n    </tr>\n    <tr>\n      <th>11</th>\n      <td>trabajar</td>\n      <td>5</td>\n    </tr>\n    <tr>\n      <th>12</th>\n      <td>procurar</td>\n      <td>5</td>\n    </tr>\n    <tr>\n      <th>1</th>\n      <td>apoyar</td>\n      <td>4</td>\n    </tr>\n    <tr>\n      <th>4</th>\n      <td>usar</td>\n      <td>4</td>\n    </tr>\n    <tr>\n      <th>15</th>\n      <td>conocer</td>\n      <td>4</td>\n    </tr>\n    <tr>\n      <th>16</th>\n      <td>servir</td>\n      <td>3</td>\n    </tr>\n    <tr>\n      <th>14</th>\n      <td>tomar</td>\n      <td>2</td>\n    </tr>\n  </tbody>\n</table>\n</div>"
     },
     "execution_count": 76,
     "metadata": {},
     "output_type": "execute_result"
    }
   ],
   "source": [
    "df_concept_ffaa_ = df_concept_ffaa\n",
    "df_concept_ffaa_ = df_concept_ffaa_.drop(df_concept_ffaa_[df_concept_ffaa_[\"termino\"] == \"vivir\"].index)\n",
    "df_concept_ffaa_ = df_concept_ffaa_.drop(df_concept_ffaa_[df_concept_ffaa_[\"termino\"] == \"educar\"].index)\n",
    "df_concept_ffaa_ = df_concept_ffaa_.drop(df_concept_ffaa_[df_concept_ffaa_[\"termino\"] == \"guardar\"].index)\n",
    "df_concept_ffaa_ = df_concept_ffaa_.drop(df_concept_ffaa_[df_concept_ffaa_[\"termino\"] == \"conservar\"].index)\n",
    "\n",
    "df_concept_ffaa_.sort_values(by = [\"count\"], ascending = False)"
   ],
   "metadata": {
    "collapsed": false,
    "pycharm": {
     "name": "#%%\n"
    }
   }
  },
  {
   "cell_type": "markdown",
   "source": [
    "### 3 (2) - Desempeño diccionario (con diccionario sin algunos terminos)\n",
    "\n",
    "De los terminos propuestos en el procesamiento del punto 2 (2) - Verificacion/Validacion diccionario, se genera una matriz de verificacion por todos los conceptos de la base de datos ```ELA - Instituciones.xlsx```, con la savedad de eliminacion de terminos como **guardar**, **responder**, **tomar**, **usar**. Estos terminos son eliminados del procesamiento, tomando el significado bajo juicio experto, para poder tener terminos mas acordes a . Todos los conceptos seran sumados al indicador, de acuerdo a cuantas veces se repita dicho termino del diccionario, dentro de la frase de cada concepto dentro de la base ```ELA - Instituciones.xlsx```"
   ],
   "metadata": {
    "collapsed": false,
    "pycharm": {
     "name": "#%% md\n"
    }
   }
  },
  {
   "cell_type": "code",
   "execution_count": 77,
   "outputs": [],
   "source": [
    "df_dummy_categories_ffaa_ = pd.get_dummies(df_concept_ffaa_.groupby(by = ['termino']).count().reset_index()['termino'])\n",
    "df_dummy_categories_ffaa_ = df_dummy_categories_ffaa_[0:0]\n",
    "df_institutions_all_group_ = institutions_all.groupby(by = ['categoria']).count().reset_index()['categoria']\n",
    "df_dummy_categories_ffaa_['categoria'] = df_institutions_all_group_\n",
    "\n",
    "df_dummy_categories_ffaa_ = df_dummy_categories_ffaa_.set_index(\"categoria\")\n",
    "\n",
    "for col in df_dummy_categories_ffaa_.columns:\n",
    "    df_dummy_categories_ffaa_[col].values[:] = 0\n",
    "\n",
    "for index, row in institutions_all.iterrows():\n",
    "  for i, v in df_dummy_categories_ffaa_.loc[row['categoria']].items():\n",
    "    df_dummy_categories_ffaa_.loc[row['categoria']][i] = df_dummy_categories_ffaa_.loc[row['categoria']][i] + row['fundamento'].count(i)"
   ],
   "metadata": {
    "collapsed": false,
    "pycharm": {
     "name": "#%%\n"
    }
   }
  },
  {
   "cell_type": "code",
   "execution_count": 78,
   "outputs": [
    {
     "data": {
      "text/plain": "                                                    apoyar  conocer  \\\ncategoria                                                             \nDefensor del Pueblo / Ciudadano                       10.0     10.0   \nPlebiscitos, referendos y consultas                    6.0     58.0   \nFuerzas Armadas                                        6.0      6.0   \nPoder judicial (estructura y funciones)                0.0     19.0   \nCongreso o parlamento                                  2.0     10.0   \nGobierno regional                                      9.0     13.0   \nGobierno local / Municipal                            12.0     17.0   \nGobierno nacional (estructura y funciones)             2.0     10.0   \nForma de Estado                                        1.0     22.0   \nPresidencia de la República                            3.0     10.0   \nJuicio político /acusación constitucional              1.0      3.0   \nMinisterio Público / Defensoría Pública                2.0      4.0   \nJusticia constitucional                                1.0      5.0   \nContraloría general / Tribunales de cuentas            2.0      3.0   \nRégimen de gobierno presidencial /Semi-presiden...     1.0      6.0   \nEstado de excepción                                    1.0      1.0   \nCambio o reforma constitucional                        0.0      6.0   \nJusticia electoral                                     0.0      4.0   \nOtro                                                   1.0      6.0   \nInclasificable/No corresponde                          0.0      9.0   \nDivisión territorial                                   0.0      8.0   \nGobierno provincial                                    2.0      4.0   \nAsamblea Constituyente                                 0.0      2.0   \nJefatura de gobierno                                   0.0      0.0   \nExistencia de Tribunal Constitucional                  0.0      0.0   \nOrganizaciones de la sociedad civil                    0.0      1.0   \nCongreso o Parlamento Unicameral                       0.0      0.0   \nAsambleas y Cabildos                                   2.0      2.0   \nIniciativa popular de Ley                              0.0      1.0   \nCarabineros                                            0.0      1.0   \nAutonomía Banco Central                                0.0      0.0   \nTribunal de Defensa de la Libre Competencia            0.0      0.0   \nAutonomía regional                                     0.0      0.0   \nEliminacion de Tribunal Constitucional                 0.0      0.0   \nServicio Nacional de Asuntos Religiosos                0.0      0.0   \n\n                                                    contribuir  cumplir  \\\ncategoria                                                                 \nDefensor del Pueblo / Ciudadano                            2.0     16.0   \nPlebiscitos, referendos y consultas                        3.0      9.0   \nFuerzas Armadas                                           12.0     22.0   \nPoder judicial (estructura y funciones)                    1.0     91.0   \nCongreso o parlamento                                      0.0     33.0   \nGobierno regional                                          6.0     10.0   \nGobierno local / Municipal                                 5.0      5.0   \nGobierno nacional (estructura y funciones)                 2.0     18.0   \nForma de Estado                                            3.0      2.0   \nPresidencia de la República                                0.0     29.0   \nJuicio político /acusación constitucional                  0.0     11.0   \nMinisterio Público / Defensoría Pública                    0.0      7.0   \nJusticia constitucional                                    0.0     19.0   \nContraloría general / Tribunales de cuentas                0.0     18.0   \nRégimen de gobierno presidencial /Semi-presiden...         2.0     11.0   \nEstado de excepción                                        0.0      2.0   \nCambio o reforma constitucional                            2.0      4.0   \nJusticia electoral                                         0.0      8.0   \nOtro                                                       0.0      6.0   \nInclasificable/No corresponde                              0.0      3.0   \nDivisión territorial                                       0.0      2.0   \nGobierno provincial                                        2.0      2.0   \nAsamblea Constituyente                                     0.0      4.0   \nJefatura de gobierno                                       0.0      1.0   \nExistencia de Tribunal Constitucional                      0.0      4.0   \nOrganizaciones de la sociedad civil                        3.0      1.0   \nCongreso o Parlamento Unicameral                           0.0      0.0   \nAsambleas y Cabildos                                       0.0      1.0   \nIniciativa popular de Ley                                  0.0      0.0   \nCarabineros                                                1.0      2.0   \nAutonomía Banco Central                                    0.0      1.0   \nTribunal de Defensa de la Libre Competencia                0.0      0.0   \nAutonomía regional                                         0.0      0.0   \nEliminacion de Tribunal Constitucional                     0.0      0.0   \nServicio Nacional de Asuntos Religiosos                    0.0      0.0   \n\n                                                    decir  defender  ejercer  \\\ncategoria                                                                      \nDefensor del Pueblo / Ciudadano                       4.0     307.0     26.0   \nPlebiscitos, referendos y consultas                  14.0       5.0     76.0   \nFuerzas Armadas                                      15.0      64.0     13.0   \nPoder judicial (estructura y funciones)               6.0       6.0     28.0   \nCongreso o parlamento                                11.0       2.0     21.0   \nGobierno regional                                     4.0       2.0      8.0   \nGobierno local / Municipal                            3.0       1.0     10.0   \nGobierno nacional (estructura y funciones)            3.0      10.0     11.0   \nForma de Estado                                       3.0       0.0      4.0   \nPresidencia de la República                           3.0       6.0     10.0   \nJuicio político /acusación constitucional             3.0       5.0     22.0   \nMinisterio Público / Defensoría Pública               2.0      33.0     11.0   \nJusticia constitucional                               3.0       6.0     15.0   \nContraloría general / Tribunales de cuentas           3.0       1.0     25.0   \nRégimen de gobierno presidencial /Semi-presiden...    9.0       1.0      8.0   \nEstado de excepción                                   1.0       0.0      2.0   \nCambio o reforma constitucional                       5.0       2.0      9.0   \nJusticia electoral                                    3.0       1.0      6.0   \nOtro                                                  1.0       2.0      5.0   \nInclasificable/No corresponde                         0.0       1.0      3.0   \nDivisión territorial                                  2.0       1.0      3.0   \nGobierno provincial                                   0.0       1.0      2.0   \nAsamblea Constituyente                                4.0       0.0      7.0   \nJefatura de gobierno                                  0.0       0.0      2.0   \nExistencia de Tribunal Constitucional                 0.0       0.0      3.0   \nOrganizaciones de la sociedad civil                   0.0       2.0      1.0   \nCongreso o Parlamento Unicameral                      5.0       0.0      2.0   \nAsambleas y Cabildos                                  0.0       0.0      4.0   \nIniciativa popular de Ley                             0.0       0.0      2.0   \nCarabineros                                           0.0       1.0      0.0   \nAutonomía Banco Central                               1.0       0.0      1.0   \nTribunal de Defensa de la Libre Competencia           0.0       1.0      1.0   \nAutonomía regional                                    0.0       0.0      0.0   \nEliminacion de Tribunal Constitucional                1.0       0.0      0.0   \nServicio Nacional de Asuntos Religiosos               0.0       0.0      0.0   \n\n                                                    procurar  proteger  \\\ncategoria                                                                \nDefensor del Pueblo / Ciudadano                          3.0     112.0   \nPlebiscitos, referendos y consultas                      0.0       3.0   \nFuerzas Armadas                                          5.0      77.0   \nPoder judicial (estructura y funciones)                  2.0      14.0   \nCongreso o parlamento                                    1.0       5.0   \nGobierno regional                                        1.0       1.0   \nGobierno local / Municipal                               2.0       4.0   \nGobierno nacional (estructura y funciones)               1.0      20.0   \nForma de Estado                                          1.0       2.0   \nPresidencia de la República                              1.0       4.0   \nJuicio político /acusación constitucional                0.0       1.0   \nMinisterio Público / Defensoría Pública                  1.0       8.0   \nJusticia constitucional                                  0.0      10.0   \nContraloría general / Tribunales de cuentas              0.0       6.0   \nRégimen de gobierno presidencial /Semi-presiden...       0.0       1.0   \nEstado de excepción                                      0.0      33.0   \nCambio o reforma constitucional                          0.0       2.0   \nJusticia electoral                                       1.0       5.0   \nOtro                                                     0.0       7.0   \nInclasificable/No corresponde                            1.0       4.0   \nDivisión territorial                                     0.0       0.0   \nGobierno provincial                                      0.0       0.0   \nAsamblea Constituyente                                   0.0       0.0   \nJefatura de gobierno                                     0.0       0.0   \nExistencia de Tribunal Constitucional                    0.0       3.0   \nOrganizaciones de la sociedad civil                      0.0       3.0   \nCongreso o Parlamento Unicameral                         0.0       0.0   \nAsambleas y Cabildos                                     0.0       0.0   \nIniciativa popular de Ley                                0.0       0.0   \nCarabineros                                              0.0       1.0   \nAutonomía Banco Central                                  0.0       1.0   \nTribunal de Defensa de la Libre Competencia              0.0       2.0   \nAutonomía regional                                       0.0       0.0   \nEliminacion de Tribunal Constitucional                   0.0       1.0   \nServicio Nacional de Asuntos Religiosos                  0.0       0.0   \n\n                                                    respetar  responder  \\\ncategoria                                                                 \nDefensor del Pueblo / Ciudadano                         10.0        5.0   \nPlebiscitos, referendos y consultas                     13.0        5.0   \nFuerzas Armadas                                         27.0       10.0   \nPoder judicial (estructura y funciones)                 16.0        4.0   \nCongreso o parlamento                                    7.0        5.0   \nGobierno regional                                        1.0        3.0   \nGobierno local / Municipal                               3.0        8.0   \nGobierno nacional (estructura y funciones)              12.0        2.0   \nForma de Estado                                          8.0        4.0   \nPresidencia de la República                             19.0        1.0   \nJuicio político /acusación constitucional                4.0       18.0   \nMinisterio Público / Defensoría Pública                  3.0        3.0   \nJusticia constitucional                                 15.0        1.0   \nContraloría general / Tribunales de cuentas              3.0        2.0   \nRégimen de gobierno presidencial /Semi-presiden...       5.0        1.0   \nEstado de excepción                                      2.0        1.0   \nCambio o reforma constitucional                          9.0        8.0   \nJusticia electoral                                       7.0        1.0   \nOtro                                                     3.0        2.0   \nInclasificable/No corresponde                            2.0        2.0   \nDivisión territorial                                     4.0        1.0   \nGobierno provincial                                      1.0        1.0   \nAsamblea Constituyente                                   1.0        2.0   \nJefatura de gobierno                                     4.0        0.0   \nExistencia de Tribunal Constitucional                    2.0        0.0   \nOrganizaciones de la sociedad civil                      0.0        0.0   \nCongreso o Parlamento Unicameral                         1.0        0.0   \nAsambleas y Cabildos                                     0.0        0.0   \nIniciativa popular de Ley                                2.0        0.0   \nCarabineros                                              0.0        0.0   \nAutonomía Banco Central                                  1.0        0.0   \nTribunal de Defensa de la Libre Competencia              0.0        0.0   \nAutonomía regional                                       0.0        1.0   \nEliminacion de Tribunal Constitucional                   0.0        0.0   \nServicio Nacional de Asuntos Religiosos                  0.0        0.0   \n\n                                                    servir  tomar  trabajar  \\\ncategoria                                                                     \nDefensor del Pueblo / Ciudadano                        3.0   13.0       4.0   \nPlebiscitos, referendos y consultas                    6.0  155.0       1.0   \nFuerzas Armadas                                        4.0    4.0       5.0   \nPoder judicial (estructura y funciones)                1.0    6.0       7.0   \nCongreso o parlamento                                 10.0   15.0      19.0   \nGobierno regional                                      0.0   49.0       9.0   \nGobierno local / Municipal                             0.0   29.0      19.0   \nGobierno nacional (estructura y funciones)             2.0    6.0       9.0   \nForma de Estado                                        1.0   49.0       3.0   \nPresidencia de la República                            0.0    4.0       4.0   \nJuicio político /acusación constitucional              2.0    3.0       1.0   \nMinisterio Público / Defensoría Pública                2.0    5.0       2.0   \nJusticia constitucional                                1.0    0.0       0.0   \nContraloría general / Tribunales de cuentas            1.0    6.0       1.0   \nRégimen de gobierno presidencial /Semi-presiden...     1.0   12.0       9.0   \nEstado de excepción                                    0.0    5.0       0.0   \nCambio o reforma constitucional                        0.0    1.0       2.0   \nJusticia electoral                                     0.0    4.0       1.0   \nOtro                                                   0.0    4.0       1.0   \nInclasificable/No corresponde                          0.0    1.0       4.0   \nDivisión territorial                                   0.0    4.0       1.0   \nGobierno provincial                                    0.0    6.0       3.0   \nAsamblea Constituyente                                 0.0    1.0       2.0   \nJefatura de gobierno                                   0.0    5.0       1.0   \nExistencia de Tribunal Constitucional                  0.0    1.0       0.0   \nOrganizaciones de la sociedad civil                    0.0    0.0       0.0   \nCongreso o Parlamento Unicameral                       0.0    2.0       0.0   \nAsambleas y Cabildos                                   0.0    0.0       0.0   \nIniciativa popular de Ley                              0.0    2.0       0.0   \nCarabineros                                            1.0    0.0       0.0   \nAutonomía Banco Central                                0.0    1.0       0.0   \nTribunal de Defensa de la Libre Competencia            0.0    0.0       0.0   \nAutonomía regional                                     0.0    2.0       0.0   \nEliminacion de Tribunal Constitucional                 0.0    0.0       0.0   \nServicio Nacional de Asuntos Religiosos                0.0    0.0       0.0   \n\n                                                    usar   suma  \ncategoria                                                        \nDefensor del Pueblo / Ciudadano                      2.0  527.0  \nPlebiscitos, referendos y consultas                 15.0  369.0  \nFuerzas Armadas                                     10.0  280.0  \nPoder judicial (estructura y funciones)              3.0  204.0  \nCongreso o parlamento                                3.0  144.0  \nGobierno regional                                    3.0  119.0  \nGobierno local / Municipal                           0.0  118.0  \nGobierno nacional (estructura y funciones)           1.0  109.0  \nForma de Estado                                      1.0  104.0  \nPresidencia de la República                          1.0   95.0  \nJuicio político /acusación constitucional           20.0   94.0  \nMinisterio Público / Defensoría Pública              3.0   86.0  \nJusticia constitucional                              3.0   79.0  \nContraloría general / Tribunales de cuentas          1.0   72.0  \nRégimen de gobierno presidencial /Semi-presiden...   0.0   67.0  \nEstado de excepción                                  4.0   52.0  \nCambio o reforma constitucional                      0.0   50.0  \nJusticia electoral                                   1.0   42.0  \nOtro                                                 1.0   39.0  \nInclasificable/No corresponde                        1.0   31.0  \nDivisión territorial                                 1.0   27.0  \nGobierno provincial                                  0.0   24.0  \nAsamblea Constituyente                               0.0   23.0  \nJefatura de gobierno                                 0.0   13.0  \nExistencia de Tribunal Constitucional                0.0   13.0  \nOrganizaciones de la sociedad civil                  0.0   11.0  \nCongreso o Parlamento Unicameral                     0.0   10.0  \nAsambleas y Cabildos                                 0.0    9.0  \nIniciativa popular de Ley                            0.0    7.0  \nCarabineros                                          0.0    7.0  \nAutonomía Banco Central                              0.0    6.0  \nTribunal de Defensa de la Libre Competencia          0.0    4.0  \nAutonomía regional                                   0.0    3.0  \nEliminacion de Tribunal Constitucional               0.0    2.0  \nServicio Nacional de Asuntos Religiosos              0.0    0.0  ",
      "text/html": "<div>\n<style scoped>\n    .dataframe tbody tr th:only-of-type {\n        vertical-align: middle;\n    }\n\n    .dataframe tbody tr th {\n        vertical-align: top;\n    }\n\n    .dataframe thead th {\n        text-align: right;\n    }\n</style>\n<table border=\"1\" class=\"dataframe\">\n  <thead>\n    <tr style=\"text-align: right;\">\n      <th></th>\n      <th>apoyar</th>\n      <th>conocer</th>\n      <th>contribuir</th>\n      <th>cumplir</th>\n      <th>decir</th>\n      <th>defender</th>\n      <th>ejercer</th>\n      <th>procurar</th>\n      <th>proteger</th>\n      <th>respetar</th>\n      <th>responder</th>\n      <th>servir</th>\n      <th>tomar</th>\n      <th>trabajar</th>\n      <th>usar</th>\n      <th>suma</th>\n    </tr>\n    <tr>\n      <th>categoria</th>\n      <th></th>\n      <th></th>\n      <th></th>\n      <th></th>\n      <th></th>\n      <th></th>\n      <th></th>\n      <th></th>\n      <th></th>\n      <th></th>\n      <th></th>\n      <th></th>\n      <th></th>\n      <th></th>\n      <th></th>\n      <th></th>\n    </tr>\n  </thead>\n  <tbody>\n    <tr>\n      <th>Defensor del Pueblo / Ciudadano</th>\n      <td>10.0</td>\n      <td>10.0</td>\n      <td>2.0</td>\n      <td>16.0</td>\n      <td>4.0</td>\n      <td>307.0</td>\n      <td>26.0</td>\n      <td>3.0</td>\n      <td>112.0</td>\n      <td>10.0</td>\n      <td>5.0</td>\n      <td>3.0</td>\n      <td>13.0</td>\n      <td>4.0</td>\n      <td>2.0</td>\n      <td>527.0</td>\n    </tr>\n    <tr>\n      <th>Plebiscitos, referendos y consultas</th>\n      <td>6.0</td>\n      <td>58.0</td>\n      <td>3.0</td>\n      <td>9.0</td>\n      <td>14.0</td>\n      <td>5.0</td>\n      <td>76.0</td>\n      <td>0.0</td>\n      <td>3.0</td>\n      <td>13.0</td>\n      <td>5.0</td>\n      <td>6.0</td>\n      <td>155.0</td>\n      <td>1.0</td>\n      <td>15.0</td>\n      <td>369.0</td>\n    </tr>\n    <tr>\n      <th>Fuerzas Armadas</th>\n      <td>6.0</td>\n      <td>6.0</td>\n      <td>12.0</td>\n      <td>22.0</td>\n      <td>15.0</td>\n      <td>64.0</td>\n      <td>13.0</td>\n      <td>5.0</td>\n      <td>77.0</td>\n      <td>27.0</td>\n      <td>10.0</td>\n      <td>4.0</td>\n      <td>4.0</td>\n      <td>5.0</td>\n      <td>10.0</td>\n      <td>280.0</td>\n    </tr>\n    <tr>\n      <th>Poder judicial (estructura y funciones)</th>\n      <td>0.0</td>\n      <td>19.0</td>\n      <td>1.0</td>\n      <td>91.0</td>\n      <td>6.0</td>\n      <td>6.0</td>\n      <td>28.0</td>\n      <td>2.0</td>\n      <td>14.0</td>\n      <td>16.0</td>\n      <td>4.0</td>\n      <td>1.0</td>\n      <td>6.0</td>\n      <td>7.0</td>\n      <td>3.0</td>\n      <td>204.0</td>\n    </tr>\n    <tr>\n      <th>Congreso o parlamento</th>\n      <td>2.0</td>\n      <td>10.0</td>\n      <td>0.0</td>\n      <td>33.0</td>\n      <td>11.0</td>\n      <td>2.0</td>\n      <td>21.0</td>\n      <td>1.0</td>\n      <td>5.0</td>\n      <td>7.0</td>\n      <td>5.0</td>\n      <td>10.0</td>\n      <td>15.0</td>\n      <td>19.0</td>\n      <td>3.0</td>\n      <td>144.0</td>\n    </tr>\n    <tr>\n      <th>Gobierno regional</th>\n      <td>9.0</td>\n      <td>13.0</td>\n      <td>6.0</td>\n      <td>10.0</td>\n      <td>4.0</td>\n      <td>2.0</td>\n      <td>8.0</td>\n      <td>1.0</td>\n      <td>1.0</td>\n      <td>1.0</td>\n      <td>3.0</td>\n      <td>0.0</td>\n      <td>49.0</td>\n      <td>9.0</td>\n      <td>3.0</td>\n      <td>119.0</td>\n    </tr>\n    <tr>\n      <th>Gobierno local / Municipal</th>\n      <td>12.0</td>\n      <td>17.0</td>\n      <td>5.0</td>\n      <td>5.0</td>\n      <td>3.0</td>\n      <td>1.0</td>\n      <td>10.0</td>\n      <td>2.0</td>\n      <td>4.0</td>\n      <td>3.0</td>\n      <td>8.0</td>\n      <td>0.0</td>\n      <td>29.0</td>\n      <td>19.0</td>\n      <td>0.0</td>\n      <td>118.0</td>\n    </tr>\n    <tr>\n      <th>Gobierno nacional (estructura y funciones)</th>\n      <td>2.0</td>\n      <td>10.0</td>\n      <td>2.0</td>\n      <td>18.0</td>\n      <td>3.0</td>\n      <td>10.0</td>\n      <td>11.0</td>\n      <td>1.0</td>\n      <td>20.0</td>\n      <td>12.0</td>\n      <td>2.0</td>\n      <td>2.0</td>\n      <td>6.0</td>\n      <td>9.0</td>\n      <td>1.0</td>\n      <td>109.0</td>\n    </tr>\n    <tr>\n      <th>Forma de Estado</th>\n      <td>1.0</td>\n      <td>22.0</td>\n      <td>3.0</td>\n      <td>2.0</td>\n      <td>3.0</td>\n      <td>0.0</td>\n      <td>4.0</td>\n      <td>1.0</td>\n      <td>2.0</td>\n      <td>8.0</td>\n      <td>4.0</td>\n      <td>1.0</td>\n      <td>49.0</td>\n      <td>3.0</td>\n      <td>1.0</td>\n      <td>104.0</td>\n    </tr>\n    <tr>\n      <th>Presidencia de la República</th>\n      <td>3.0</td>\n      <td>10.0</td>\n      <td>0.0</td>\n      <td>29.0</td>\n      <td>3.0</td>\n      <td>6.0</td>\n      <td>10.0</td>\n      <td>1.0</td>\n      <td>4.0</td>\n      <td>19.0</td>\n      <td>1.0</td>\n      <td>0.0</td>\n      <td>4.0</td>\n      <td>4.0</td>\n      <td>1.0</td>\n      <td>95.0</td>\n    </tr>\n    <tr>\n      <th>Juicio político /acusación constitucional</th>\n      <td>1.0</td>\n      <td>3.0</td>\n      <td>0.0</td>\n      <td>11.0</td>\n      <td>3.0</td>\n      <td>5.0</td>\n      <td>22.0</td>\n      <td>0.0</td>\n      <td>1.0</td>\n      <td>4.0</td>\n      <td>18.0</td>\n      <td>2.0</td>\n      <td>3.0</td>\n      <td>1.0</td>\n      <td>20.0</td>\n      <td>94.0</td>\n    </tr>\n    <tr>\n      <th>Ministerio Público / Defensoría Pública</th>\n      <td>2.0</td>\n      <td>4.0</td>\n      <td>0.0</td>\n      <td>7.0</td>\n      <td>2.0</td>\n      <td>33.0</td>\n      <td>11.0</td>\n      <td>1.0</td>\n      <td>8.0</td>\n      <td>3.0</td>\n      <td>3.0</td>\n      <td>2.0</td>\n      <td>5.0</td>\n      <td>2.0</td>\n      <td>3.0</td>\n      <td>86.0</td>\n    </tr>\n    <tr>\n      <th>Justicia constitucional</th>\n      <td>1.0</td>\n      <td>5.0</td>\n      <td>0.0</td>\n      <td>19.0</td>\n      <td>3.0</td>\n      <td>6.0</td>\n      <td>15.0</td>\n      <td>0.0</td>\n      <td>10.0</td>\n      <td>15.0</td>\n      <td>1.0</td>\n      <td>1.0</td>\n      <td>0.0</td>\n      <td>0.0</td>\n      <td>3.0</td>\n      <td>79.0</td>\n    </tr>\n    <tr>\n      <th>Contraloría general / Tribunales de cuentas</th>\n      <td>2.0</td>\n      <td>3.0</td>\n      <td>0.0</td>\n      <td>18.0</td>\n      <td>3.0</td>\n      <td>1.0</td>\n      <td>25.0</td>\n      <td>0.0</td>\n      <td>6.0</td>\n      <td>3.0</td>\n      <td>2.0</td>\n      <td>1.0</td>\n      <td>6.0</td>\n      <td>1.0</td>\n      <td>1.0</td>\n      <td>72.0</td>\n    </tr>\n    <tr>\n      <th>Régimen de gobierno presidencial /Semi-presidencial / Parlamentario</th>\n      <td>1.0</td>\n      <td>6.0</td>\n      <td>2.0</td>\n      <td>11.0</td>\n      <td>9.0</td>\n      <td>1.0</td>\n      <td>8.0</td>\n      <td>0.0</td>\n      <td>1.0</td>\n      <td>5.0</td>\n      <td>1.0</td>\n      <td>1.0</td>\n      <td>12.0</td>\n      <td>9.0</td>\n      <td>0.0</td>\n      <td>67.0</td>\n    </tr>\n    <tr>\n      <th>Estado de excepción</th>\n      <td>1.0</td>\n      <td>1.0</td>\n      <td>0.0</td>\n      <td>2.0</td>\n      <td>1.0</td>\n      <td>0.0</td>\n      <td>2.0</td>\n      <td>0.0</td>\n      <td>33.0</td>\n      <td>2.0</td>\n      <td>1.0</td>\n      <td>0.0</td>\n      <td>5.0</td>\n      <td>0.0</td>\n      <td>4.0</td>\n      <td>52.0</td>\n    </tr>\n    <tr>\n      <th>Cambio o reforma constitucional</th>\n      <td>0.0</td>\n      <td>6.0</td>\n      <td>2.0</td>\n      <td>4.0</td>\n      <td>5.0</td>\n      <td>2.0</td>\n      <td>9.0</td>\n      <td>0.0</td>\n      <td>2.0</td>\n      <td>9.0</td>\n      <td>8.0</td>\n      <td>0.0</td>\n      <td>1.0</td>\n      <td>2.0</td>\n      <td>0.0</td>\n      <td>50.0</td>\n    </tr>\n    <tr>\n      <th>Justicia electoral</th>\n      <td>0.0</td>\n      <td>4.0</td>\n      <td>0.0</td>\n      <td>8.0</td>\n      <td>3.0</td>\n      <td>1.0</td>\n      <td>6.0</td>\n      <td>1.0</td>\n      <td>5.0</td>\n      <td>7.0</td>\n      <td>1.0</td>\n      <td>0.0</td>\n      <td>4.0</td>\n      <td>1.0</td>\n      <td>1.0</td>\n      <td>42.0</td>\n    </tr>\n    <tr>\n      <th>Otro</th>\n      <td>1.0</td>\n      <td>6.0</td>\n      <td>0.0</td>\n      <td>6.0</td>\n      <td>1.0</td>\n      <td>2.0</td>\n      <td>5.0</td>\n      <td>0.0</td>\n      <td>7.0</td>\n      <td>3.0</td>\n      <td>2.0</td>\n      <td>0.0</td>\n      <td>4.0</td>\n      <td>1.0</td>\n      <td>1.0</td>\n      <td>39.0</td>\n    </tr>\n    <tr>\n      <th>Inclasificable/No corresponde</th>\n      <td>0.0</td>\n      <td>9.0</td>\n      <td>0.0</td>\n      <td>3.0</td>\n      <td>0.0</td>\n      <td>1.0</td>\n      <td>3.0</td>\n      <td>1.0</td>\n      <td>4.0</td>\n      <td>2.0</td>\n      <td>2.0</td>\n      <td>0.0</td>\n      <td>1.0</td>\n      <td>4.0</td>\n      <td>1.0</td>\n      <td>31.0</td>\n    </tr>\n    <tr>\n      <th>División territorial</th>\n      <td>0.0</td>\n      <td>8.0</td>\n      <td>0.0</td>\n      <td>2.0</td>\n      <td>2.0</td>\n      <td>1.0</td>\n      <td>3.0</td>\n      <td>0.0</td>\n      <td>0.0</td>\n      <td>4.0</td>\n      <td>1.0</td>\n      <td>0.0</td>\n      <td>4.0</td>\n      <td>1.0</td>\n      <td>1.0</td>\n      <td>27.0</td>\n    </tr>\n    <tr>\n      <th>Gobierno provincial</th>\n      <td>2.0</td>\n      <td>4.0</td>\n      <td>2.0</td>\n      <td>2.0</td>\n      <td>0.0</td>\n      <td>1.0</td>\n      <td>2.0</td>\n      <td>0.0</td>\n      <td>0.0</td>\n      <td>1.0</td>\n      <td>1.0</td>\n      <td>0.0</td>\n      <td>6.0</td>\n      <td>3.0</td>\n      <td>0.0</td>\n      <td>24.0</td>\n    </tr>\n    <tr>\n      <th>Asamblea Constituyente</th>\n      <td>0.0</td>\n      <td>2.0</td>\n      <td>0.0</td>\n      <td>4.0</td>\n      <td>4.0</td>\n      <td>0.0</td>\n      <td>7.0</td>\n      <td>0.0</td>\n      <td>0.0</td>\n      <td>1.0</td>\n      <td>2.0</td>\n      <td>0.0</td>\n      <td>1.0</td>\n      <td>2.0</td>\n      <td>0.0</td>\n      <td>23.0</td>\n    </tr>\n    <tr>\n      <th>Jefatura de gobierno</th>\n      <td>0.0</td>\n      <td>0.0</td>\n      <td>0.0</td>\n      <td>1.0</td>\n      <td>0.0</td>\n      <td>0.0</td>\n      <td>2.0</td>\n      <td>0.0</td>\n      <td>0.0</td>\n      <td>4.0</td>\n      <td>0.0</td>\n      <td>0.0</td>\n      <td>5.0</td>\n      <td>1.0</td>\n      <td>0.0</td>\n      <td>13.0</td>\n    </tr>\n    <tr>\n      <th>Existencia de Tribunal Constitucional</th>\n      <td>0.0</td>\n      <td>0.0</td>\n      <td>0.0</td>\n      <td>4.0</td>\n      <td>0.0</td>\n      <td>0.0</td>\n      <td>3.0</td>\n      <td>0.0</td>\n      <td>3.0</td>\n      <td>2.0</td>\n      <td>0.0</td>\n      <td>0.0</td>\n      <td>1.0</td>\n      <td>0.0</td>\n      <td>0.0</td>\n      <td>13.0</td>\n    </tr>\n    <tr>\n      <th>Organizaciones de la sociedad civil</th>\n      <td>0.0</td>\n      <td>1.0</td>\n      <td>3.0</td>\n      <td>1.0</td>\n      <td>0.0</td>\n      <td>2.0</td>\n      <td>1.0</td>\n      <td>0.0</td>\n      <td>3.0</td>\n      <td>0.0</td>\n      <td>0.0</td>\n      <td>0.0</td>\n      <td>0.0</td>\n      <td>0.0</td>\n      <td>0.0</td>\n      <td>11.0</td>\n    </tr>\n    <tr>\n      <th>Congreso o Parlamento Unicameral</th>\n      <td>0.0</td>\n      <td>0.0</td>\n      <td>0.0</td>\n      <td>0.0</td>\n      <td>5.0</td>\n      <td>0.0</td>\n      <td>2.0</td>\n      <td>0.0</td>\n      <td>0.0</td>\n      <td>1.0</td>\n      <td>0.0</td>\n      <td>0.0</td>\n      <td>2.0</td>\n      <td>0.0</td>\n      <td>0.0</td>\n      <td>10.0</td>\n    </tr>\n    <tr>\n      <th>Asambleas y Cabildos</th>\n      <td>2.0</td>\n      <td>2.0</td>\n      <td>0.0</td>\n      <td>1.0</td>\n      <td>0.0</td>\n      <td>0.0</td>\n      <td>4.0</td>\n      <td>0.0</td>\n      <td>0.0</td>\n      <td>0.0</td>\n      <td>0.0</td>\n      <td>0.0</td>\n      <td>0.0</td>\n      <td>0.0</td>\n      <td>0.0</td>\n      <td>9.0</td>\n    </tr>\n    <tr>\n      <th>Iniciativa popular de Ley</th>\n      <td>0.0</td>\n      <td>1.0</td>\n      <td>0.0</td>\n      <td>0.0</td>\n      <td>0.0</td>\n      <td>0.0</td>\n      <td>2.0</td>\n      <td>0.0</td>\n      <td>0.0</td>\n      <td>2.0</td>\n      <td>0.0</td>\n      <td>0.0</td>\n      <td>2.0</td>\n      <td>0.0</td>\n      <td>0.0</td>\n      <td>7.0</td>\n    </tr>\n    <tr>\n      <th>Carabineros</th>\n      <td>0.0</td>\n      <td>1.0</td>\n      <td>1.0</td>\n      <td>2.0</td>\n      <td>0.0</td>\n      <td>1.0</td>\n      <td>0.0</td>\n      <td>0.0</td>\n      <td>1.0</td>\n      <td>0.0</td>\n      <td>0.0</td>\n      <td>1.0</td>\n      <td>0.0</td>\n      <td>0.0</td>\n      <td>0.0</td>\n      <td>7.0</td>\n    </tr>\n    <tr>\n      <th>Autonomía Banco Central</th>\n      <td>0.0</td>\n      <td>0.0</td>\n      <td>0.0</td>\n      <td>1.0</td>\n      <td>1.0</td>\n      <td>0.0</td>\n      <td>1.0</td>\n      <td>0.0</td>\n      <td>1.0</td>\n      <td>1.0</td>\n      <td>0.0</td>\n      <td>0.0</td>\n      <td>1.0</td>\n      <td>0.0</td>\n      <td>0.0</td>\n      <td>6.0</td>\n    </tr>\n    <tr>\n      <th>Tribunal de Defensa de la Libre Competencia</th>\n      <td>0.0</td>\n      <td>0.0</td>\n      <td>0.0</td>\n      <td>0.0</td>\n      <td>0.0</td>\n      <td>1.0</td>\n      <td>1.0</td>\n      <td>0.0</td>\n      <td>2.0</td>\n      <td>0.0</td>\n      <td>0.0</td>\n      <td>0.0</td>\n      <td>0.0</td>\n      <td>0.0</td>\n      <td>0.0</td>\n      <td>4.0</td>\n    </tr>\n    <tr>\n      <th>Autonomía regional</th>\n      <td>0.0</td>\n      <td>0.0</td>\n      <td>0.0</td>\n      <td>0.0</td>\n      <td>0.0</td>\n      <td>0.0</td>\n      <td>0.0</td>\n      <td>0.0</td>\n      <td>0.0</td>\n      <td>0.0</td>\n      <td>1.0</td>\n      <td>0.0</td>\n      <td>2.0</td>\n      <td>0.0</td>\n      <td>0.0</td>\n      <td>3.0</td>\n    </tr>\n    <tr>\n      <th>Eliminacion de Tribunal Constitucional</th>\n      <td>0.0</td>\n      <td>0.0</td>\n      <td>0.0</td>\n      <td>0.0</td>\n      <td>1.0</td>\n      <td>0.0</td>\n      <td>0.0</td>\n      <td>0.0</td>\n      <td>1.0</td>\n      <td>0.0</td>\n      <td>0.0</td>\n      <td>0.0</td>\n      <td>0.0</td>\n      <td>0.0</td>\n      <td>0.0</td>\n      <td>2.0</td>\n    </tr>\n    <tr>\n      <th>Servicio Nacional de Asuntos Religiosos</th>\n      <td>0.0</td>\n      <td>0.0</td>\n      <td>0.0</td>\n      <td>0.0</td>\n      <td>0.0</td>\n      <td>0.0</td>\n      <td>0.0</td>\n      <td>0.0</td>\n      <td>0.0</td>\n      <td>0.0</td>\n      <td>0.0</td>\n      <td>0.0</td>\n      <td>0.0</td>\n      <td>0.0</td>\n      <td>0.0</td>\n      <td>0.0</td>\n    </tr>\n  </tbody>\n</table>\n</div>"
     },
     "execution_count": 78,
     "metadata": {},
     "output_type": "execute_result"
    }
   ],
   "source": [
    "df_dummy_categories_ffaa_['suma'] = \\\n",
    "  df_dummy_categories_ffaa_['apoyar'] + \\\n",
    "  df_dummy_categories_ffaa_['conocer'] + \\\n",
    "  df_dummy_categories_ffaa_['contribuir'] + \\\n",
    "  df_dummy_categories_ffaa_['cumplir'] + \\\n",
    "  df_dummy_categories_ffaa_['decir'] + \\\n",
    "  df_dummy_categories_ffaa_['defender'] + \\\n",
    "  df_dummy_categories_ffaa_['ejercer'] + \\\n",
    "  df_dummy_categories_ffaa_['procurar'] + \\\n",
    "  df_dummy_categories_ffaa_['proteger'] + \\\n",
    "  df_dummy_categories_ffaa_['respetar'] + \\\n",
    "  df_dummy_categories_ffaa_['responder'] + \\\n",
    "  df_dummy_categories_ffaa_['servir'] + \\\n",
    "  df_dummy_categories_ffaa_['tomar'] + \\\n",
    "  df_dummy_categories_ffaa_['trabajar'] + \\\n",
    "  df_dummy_categories_ffaa_['usar']\n",
    "\n",
    "df_dummy_categories_ffaa_.sort_values(by = ['suma'], ascending = False)"
   ],
   "metadata": {
    "collapsed": false,
    "pycharm": {
     "name": "#%%\n"
    }
   }
  },
  {
   "cell_type": "code",
   "execution_count": 82,
   "outputs": [
    {
     "data": {
      "text/plain": "                                                    suma_original  \\\ncategoria                                                           \nDefensor del Pueblo / Ciudadano                             573.0   \nPlebiscitos, referendos y consultas                         403.0   \nFuerzas Armadas                                             374.0   \nPoder judicial (estructura y funciones)                     232.0   \nCongreso o parlamento                                       187.0   \nGobierno regional                                           134.0   \nGobierno nacional (estructura y funciones)                  132.0   \nGobierno local / Municipal                                  129.0   \nPresidencia de la República                                 112.0   \nForma de Estado                                             111.0   \nJuicio político /acusación constitucional                   103.0   \nMinisterio Público / Defensoría Pública                      98.0   \nJusticia constitucional                                      93.0   \nContraloría general / Tribunales de cuentas                  88.0   \nRégimen de gobierno presidencial /Semi-presiden...           73.0   \nEstado de excepción                                          64.0   \nCambio o reforma constitucional                              64.0   \nJusticia electoral                                           49.0   \nOtro                                                         43.0   \nInclasificable/No corresponde                                41.0   \nDivisión territorial                                         31.0   \nAsamblea Constituyente                                       26.0   \nGobierno provincial                                          24.0   \nAsambleas y Cabildos                                         17.0   \nOrganizaciones de la sociedad civil                          16.0   \nExistencia de Tribunal Constitucional                        15.0   \nJefatura de gobierno                                         13.0   \nCongreso o Parlamento Unicameral                             12.0   \nCarabineros                                                  10.0   \nAutonomía Banco Central                                       8.0   \nIniciativa popular de Ley                                     7.0   \nTribunal de Defensa de la Libre Competencia                   4.0   \nAutonomía regional                                            3.0   \nEliminacion de Tribunal Constitucional                        2.0   \nServicio Nacional de Asuntos Religiosos                       0.0   \n\n                                                    suma_sin_conceptos  \\\ncategoria                                                                \nDefensor del Pueblo / Ciudadano                                  527.0   \nPlebiscitos, referendos y consultas                              369.0   \nFuerzas Armadas                                                  280.0   \nPoder judicial (estructura y funciones)                          204.0   \nCongreso o parlamento                                            144.0   \nGobierno regional                                                119.0   \nGobierno nacional (estructura y funciones)                       109.0   \nGobierno local / Municipal                                       118.0   \nPresidencia de la República                                       95.0   \nForma de Estado                                                  104.0   \nJuicio político /acusación constitucional                         94.0   \nMinisterio Público / Defensoría Pública                           86.0   \nJusticia constitucional                                           79.0   \nContraloría general / Tribunales de cuentas                       72.0   \nRégimen de gobierno presidencial /Semi-presiden...                67.0   \nEstado de excepción                                               52.0   \nCambio o reforma constitucional                                   50.0   \nJusticia electoral                                                42.0   \nOtro                                                              39.0   \nInclasificable/No corresponde                                     31.0   \nDivisión territorial                                              27.0   \nAsamblea Constituyente                                            23.0   \nGobierno provincial                                               24.0   \nAsambleas y Cabildos                                               9.0   \nOrganizaciones de la sociedad civil                               11.0   \nExistencia de Tribunal Constitucional                             13.0   \nJefatura de gobierno                                              13.0   \nCongreso o Parlamento Unicameral                                  10.0   \nCarabineros                                                        7.0   \nAutonomía Banco Central                                            6.0   \nIniciativa popular de Ley                                          7.0   \nTribunal de Defensa de la Libre Competencia                        4.0   \nAutonomía regional                                                 3.0   \nEliminacion de Tribunal Constitucional                             2.0   \nServicio Nacional de Asuntos Religiosos                            0.0   \n\n                                                    diferencia  \ncategoria                                                       \nDefensor del Pueblo / Ciudadano                           46.0  \nPlebiscitos, referendos y consultas                       34.0  \nFuerzas Armadas                                           94.0  \nPoder judicial (estructura y funciones)                   28.0  \nCongreso o parlamento                                     43.0  \nGobierno regional                                         15.0  \nGobierno nacional (estructura y funciones)                23.0  \nGobierno local / Municipal                                11.0  \nPresidencia de la República                               17.0  \nForma de Estado                                            7.0  \nJuicio político /acusación constitucional                  9.0  \nMinisterio Público / Defensoría Pública                   12.0  \nJusticia constitucional                                   14.0  \nContraloría general / Tribunales de cuentas               16.0  \nRégimen de gobierno presidencial /Semi-presiden...         6.0  \nEstado de excepción                                       12.0  \nCambio o reforma constitucional                           14.0  \nJusticia electoral                                         7.0  \nOtro                                                       4.0  \nInclasificable/No corresponde                             10.0  \nDivisión territorial                                       4.0  \nAsamblea Constituyente                                     3.0  \nGobierno provincial                                        0.0  \nAsambleas y Cabildos                                       8.0  \nOrganizaciones de la sociedad civil                        5.0  \nExistencia de Tribunal Constitucional                      2.0  \nJefatura de gobierno                                       0.0  \nCongreso o Parlamento Unicameral                           2.0  \nCarabineros                                                3.0  \nAutonomía Banco Central                                    2.0  \nIniciativa popular de Ley                                  0.0  \nTribunal de Defensa de la Libre Competencia                0.0  \nAutonomía regional                                         0.0  \nEliminacion de Tribunal Constitucional                     0.0  \nServicio Nacional de Asuntos Religiosos                    0.0  ",
      "text/html": "<div>\n<style scoped>\n    .dataframe tbody tr th:only-of-type {\n        vertical-align: middle;\n    }\n\n    .dataframe tbody tr th {\n        vertical-align: top;\n    }\n\n    .dataframe thead th {\n        text-align: right;\n    }\n</style>\n<table border=\"1\" class=\"dataframe\">\n  <thead>\n    <tr style=\"text-align: right;\">\n      <th></th>\n      <th>suma_original</th>\n      <th>suma_sin_conceptos</th>\n      <th>diferencia</th>\n    </tr>\n    <tr>\n      <th>categoria</th>\n      <th></th>\n      <th></th>\n      <th></th>\n    </tr>\n  </thead>\n  <tbody>\n    <tr>\n      <th>Defensor del Pueblo / Ciudadano</th>\n      <td>573.0</td>\n      <td>527.0</td>\n      <td>46.0</td>\n    </tr>\n    <tr>\n      <th>Plebiscitos, referendos y consultas</th>\n      <td>403.0</td>\n      <td>369.0</td>\n      <td>34.0</td>\n    </tr>\n    <tr>\n      <th>Fuerzas Armadas</th>\n      <td>374.0</td>\n      <td>280.0</td>\n      <td>94.0</td>\n    </tr>\n    <tr>\n      <th>Poder judicial (estructura y funciones)</th>\n      <td>232.0</td>\n      <td>204.0</td>\n      <td>28.0</td>\n    </tr>\n    <tr>\n      <th>Congreso o parlamento</th>\n      <td>187.0</td>\n      <td>144.0</td>\n      <td>43.0</td>\n    </tr>\n    <tr>\n      <th>Gobierno regional</th>\n      <td>134.0</td>\n      <td>119.0</td>\n      <td>15.0</td>\n    </tr>\n    <tr>\n      <th>Gobierno nacional (estructura y funciones)</th>\n      <td>132.0</td>\n      <td>109.0</td>\n      <td>23.0</td>\n    </tr>\n    <tr>\n      <th>Gobierno local / Municipal</th>\n      <td>129.0</td>\n      <td>118.0</td>\n      <td>11.0</td>\n    </tr>\n    <tr>\n      <th>Presidencia de la República</th>\n      <td>112.0</td>\n      <td>95.0</td>\n      <td>17.0</td>\n    </tr>\n    <tr>\n      <th>Forma de Estado</th>\n      <td>111.0</td>\n      <td>104.0</td>\n      <td>7.0</td>\n    </tr>\n    <tr>\n      <th>Juicio político /acusación constitucional</th>\n      <td>103.0</td>\n      <td>94.0</td>\n      <td>9.0</td>\n    </tr>\n    <tr>\n      <th>Ministerio Público / Defensoría Pública</th>\n      <td>98.0</td>\n      <td>86.0</td>\n      <td>12.0</td>\n    </tr>\n    <tr>\n      <th>Justicia constitucional</th>\n      <td>93.0</td>\n      <td>79.0</td>\n      <td>14.0</td>\n    </tr>\n    <tr>\n      <th>Contraloría general / Tribunales de cuentas</th>\n      <td>88.0</td>\n      <td>72.0</td>\n      <td>16.0</td>\n    </tr>\n    <tr>\n      <th>Régimen de gobierno presidencial /Semi-presidencial / Parlamentario</th>\n      <td>73.0</td>\n      <td>67.0</td>\n      <td>6.0</td>\n    </tr>\n    <tr>\n      <th>Estado de excepción</th>\n      <td>64.0</td>\n      <td>52.0</td>\n      <td>12.0</td>\n    </tr>\n    <tr>\n      <th>Cambio o reforma constitucional</th>\n      <td>64.0</td>\n      <td>50.0</td>\n      <td>14.0</td>\n    </tr>\n    <tr>\n      <th>Justicia electoral</th>\n      <td>49.0</td>\n      <td>42.0</td>\n      <td>7.0</td>\n    </tr>\n    <tr>\n      <th>Otro</th>\n      <td>43.0</td>\n      <td>39.0</td>\n      <td>4.0</td>\n    </tr>\n    <tr>\n      <th>Inclasificable/No corresponde</th>\n      <td>41.0</td>\n      <td>31.0</td>\n      <td>10.0</td>\n    </tr>\n    <tr>\n      <th>División territorial</th>\n      <td>31.0</td>\n      <td>27.0</td>\n      <td>4.0</td>\n    </tr>\n    <tr>\n      <th>Asamblea Constituyente</th>\n      <td>26.0</td>\n      <td>23.0</td>\n      <td>3.0</td>\n    </tr>\n    <tr>\n      <th>Gobierno provincial</th>\n      <td>24.0</td>\n      <td>24.0</td>\n      <td>0.0</td>\n    </tr>\n    <tr>\n      <th>Asambleas y Cabildos</th>\n      <td>17.0</td>\n      <td>9.0</td>\n      <td>8.0</td>\n    </tr>\n    <tr>\n      <th>Organizaciones de la sociedad civil</th>\n      <td>16.0</td>\n      <td>11.0</td>\n      <td>5.0</td>\n    </tr>\n    <tr>\n      <th>Existencia de Tribunal Constitucional</th>\n      <td>15.0</td>\n      <td>13.0</td>\n      <td>2.0</td>\n    </tr>\n    <tr>\n      <th>Jefatura de gobierno</th>\n      <td>13.0</td>\n      <td>13.0</td>\n      <td>0.0</td>\n    </tr>\n    <tr>\n      <th>Congreso o Parlamento Unicameral</th>\n      <td>12.0</td>\n      <td>10.0</td>\n      <td>2.0</td>\n    </tr>\n    <tr>\n      <th>Carabineros</th>\n      <td>10.0</td>\n      <td>7.0</td>\n      <td>3.0</td>\n    </tr>\n    <tr>\n      <th>Autonomía Banco Central</th>\n      <td>8.0</td>\n      <td>6.0</td>\n      <td>2.0</td>\n    </tr>\n    <tr>\n      <th>Iniciativa popular de Ley</th>\n      <td>7.0</td>\n      <td>7.0</td>\n      <td>0.0</td>\n    </tr>\n    <tr>\n      <th>Tribunal de Defensa de la Libre Competencia</th>\n      <td>4.0</td>\n      <td>4.0</td>\n      <td>0.0</td>\n    </tr>\n    <tr>\n      <th>Autonomía regional</th>\n      <td>3.0</td>\n      <td>3.0</td>\n      <td>0.0</td>\n    </tr>\n    <tr>\n      <th>Eliminacion de Tribunal Constitucional</th>\n      <td>2.0</td>\n      <td>2.0</td>\n      <td>0.0</td>\n    </tr>\n    <tr>\n      <th>Servicio Nacional de Asuntos Religiosos</th>\n      <td>0.0</td>\n      <td>0.0</td>\n      <td>0.0</td>\n    </tr>\n  </tbody>\n</table>\n</div>"
     },
     "execution_count": 82,
     "metadata": {},
     "output_type": "execute_result"
    }
   ],
   "source": [
    "pd.DataFrame({\n",
    "  'suma_original': df_dummy_categories_ffaa['suma'],\n",
    "  'suma_sin_conceptos': df_dummy_categories_ffaa_['suma'],\n",
    "  'diferencia': df_dummy_categories_ffaa['suma'] - df_dummy_categories_ffaa_['suma'],\n",
    "}).sort_values(by = ['suma_original', 'suma_sin_conceptos'], ascending = False)"
   ],
   "metadata": {
    "collapsed": false,
    "pycharm": {
     "name": "#%%\n"
    }
   }
  }
 ],
 "metadata": {
  "kernelspec": {
   "display_name": "Python 3",
   "language": "python",
   "name": "python3"
  },
  "language_info": {
   "codemirror_mode": {
    "name": "ipython",
    "version": 2
   },
   "file_extension": ".py",
   "mimetype": "text/x-python",
   "name": "python",
   "nbconvert_exporter": "python",
   "pygments_lexer": "ipython2",
   "version": "2.7.6"
  }
 },
 "nbformat": 4,
 "nbformat_minor": 0
}