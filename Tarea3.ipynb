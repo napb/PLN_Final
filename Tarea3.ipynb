{
 "cells": [
  {
   "cell_type": "markdown",
   "source": [
    "# Installaciones de paquetes requeridos\n",
    "\n",
    "- LIWC: se usa este paquete para poder cargar el diccionario provisto en el directorio ```data```"
   ],
   "metadata": {
    "collapsed": false,
    "pycharm": {
     "name": "#%% md\n"
    }
   }
  },
  {
   "cell_type": "code",
   "execution_count": 2,
   "outputs": [],
   "source": [
    "#%pip install liwc"
   ],
   "metadata": {
    "collapsed": false,
    "pycharm": {
     "name": "#%%\n"
    }
   }
  },
  {
   "cell_type": "code",
   "execution_count": 3,
   "outputs": [],
   "source": [
    "#!python -m spacy download es_core_news_sm\n",
    "#nltk.download('punkt')\n",
    "#nltk.download('stopwords')"
   ],
   "metadata": {
    "collapsed": false,
    "pycharm": {
     "name": "#%%\n"
    }
   }
  },
  {
   "cell_type": "code",
   "execution_count": 4,
   "outputs": [],
   "source": [
    "import nltk\n",
    "import string\n",
    "import re\n",
    "from collections import Counter\n",
    "import pandas as pd\n",
    "import spacy\n",
    "from itertools import compress\n",
    "import warnings\n",
    "warnings.filterwarnings(\"ignore\")\n",
    "import liwc\n",
    "parse, category_names = liwc.load_token_parser('data/dict_r.dic')"
   ],
   "metadata": {
    "collapsed": false,
    "pycharm": {
     "name": "#%%\n"
    }
   }
  },
  {
   "cell_type": "code",
   "execution_count": 5,
   "outputs": [],
   "source": [
    "nlp = spacy.load('es_core_news_sm')"
   ],
   "metadata": {
    "collapsed": false,
    "pycharm": {
     "name": "#%%\n"
    }
   }
  },
  {
   "cell_type": "code",
   "execution_count": 6,
   "outputs": [],
   "source": [
    "institutions = pd.read_excel('data/ELA - Instituciones.xlsx')"
   ],
   "metadata": {
    "collapsed": false,
    "pycharm": {
     "name": "#%%\n"
    }
   }
  },
  {
   "cell_type": "markdown",
   "source": [
    "# Preprocesamiento"
   ],
   "metadata": {
    "collapsed": false,
    "pycharm": {
     "name": "#%% md\n"
    }
   }
  },
  {
   "cell_type": "code",
   "execution_count": 7,
   "outputs": [],
   "source": [
    "def preprocess(df, concept = None, all_less_concept = None):\n",
    "  institutions = df\n",
    "  if concept is not None:\n",
    "    institutions = institutions[institutions[\"categoria\"] == concept]\n",
    "\n",
    "  if all_less_concept is not None:\n",
    "    institutions = institutions[institutions[\"categoria\"] != all_less_concept]\n",
    "\n",
    "  institutions['fundamento'] = institutions['fundamento'].str.lower()\n",
    "  #institutions['fundamento'] = institutions['fundamento'].apply(lambda x: re.sub(\"[0-9]\", '', x))\n",
    "  institutions['fundamento'] = institutions['fundamento'].str.translate(str.maketrans(' ', ' ', string.punctuation))\n",
    "  institutions['fundamento'] = institutions['fundamento'].str.strip()\n",
    "  institutions['fundamento'] = institutions['fundamento'].str.replace('\\n', ' ')\n",
    "  institutions['fundamento'] = institutions['fundamento'].str.replace('  ', ' ')\n",
    "  institutions['fundamento'] = institutions['fundamento'].str.replace('   ', ' ')\n",
    "  institutions['fundamento'] = institutions['fundamento'].str.replace('    ', ' ')\n",
    "  institutions['fundamento'] = institutions['fundamento'].str.replace('     ', ' ')\n",
    "\n",
    "  institutions = institutions[[len(str(x).split()) > 2 for x in institutions.fundamento]]\n",
    "  return institutions.reset_index(drop=True)"
   ],
   "metadata": {
    "collapsed": false,
    "pycharm": {
     "name": "#%%\n"
    }
   }
  },
  {
   "cell_type": "markdown",
   "source": [
    "# Eleccion de concepto target"
   ],
   "metadata": {
    "collapsed": false,
    "pycharm": {
     "name": "#%% md\n"
    }
   }
  },
  {
   "cell_type": "code",
   "execution_count": 8,
   "outputs": [],
   "source": [
    "institutions_ffaa = preprocess(institutions, \"Fuerzas Armadas\")"
   ],
   "metadata": {
    "collapsed": false,
    "pycharm": {
     "name": "#%%\n"
    }
   }
  },
  {
   "cell_type": "markdown",
   "source": [
    "# Carga y preprocesamiento de todos los conceptos, menos el concepto target"
   ],
   "metadata": {
    "collapsed": false,
    "pycharm": {
     "name": "#%% md\n"
    }
   }
  },
  {
   "cell_type": "code",
   "execution_count": 9,
   "outputs": [],
   "source": [
    "institutions_less_ffaa = preprocess(institutions, all_less_concept = \"Fuerzas Armadas\")"
   ],
   "metadata": {
    "collapsed": false,
    "pycharm": {
     "name": "#%%\n"
    }
   }
  },
  {
   "cell_type": "markdown",
   "source": [
    "# Carga y preprocesamiento de todos los conceptos"
   ],
   "metadata": {
    "collapsed": false,
    "pycharm": {
     "name": "#%% md\n"
    }
   }
  },
  {
   "cell_type": "code",
   "execution_count": 10,
   "outputs": [],
   "source": [
    "institutions_all = preprocess(institutions)"
   ],
   "metadata": {
    "collapsed": false,
    "pycharm": {
     "name": "#%%\n"
    }
   }
  },
  {
   "cell_type": "markdown",
   "source": [
    "### 1 - Construccion de diccionario"
   ],
   "metadata": {
    "collapsed": false,
    "pycharm": {
     "name": "#%% md\n"
    }
   }
  },
  {
   "cell_type": "code",
   "execution_count": 11,
   "outputs": [
    {
     "name": "stdout",
     "output_type": "stream",
     "text": [
      "CPU times: user 37 s, sys: 287 ms, total: 37.3 s\n",
      "Wall time: 37.3 s\n"
     ]
    }
   ],
   "source": [
    "%%time\n",
    "\n",
    "df = pd.DataFrame()\n",
    "l_derechos = []\n",
    "\n",
    "for ix in range(institutions_ffaa.shape[0]):\n",
    "  texto = str(institutions_ffaa.fundamento[ix]).lower()\n",
    "  doc = nlp(texto)\n",
    "  tokens = [word.orth_ for word in doc]\n",
    "  tcounts1 = Counter(category for token in tokens for category in parse(token))\n",
    "  word_derechos = list(compress(tokens, ['derechos' in parse(token) for token in tokens]))\n",
    "  df_counts = pd.DataFrame.from_dict([tcounts1]).reset_index()\n",
    "  df_counts['index'] = ix\n",
    "  df_counts['texto'] = texto\n",
    "  df_counts['word_derechos'] =  ['' if len(word_derechos) == 0 else word_derechos]\n",
    "  df = pd.concat([df,df_counts], axis=0, ignore_index=True)\n",
    "\n",
    "  if len(word_derechos)>0:\n",
    "        l_derechos.extend(word_derechos)"
   ],
   "metadata": {
    "collapsed": false,
    "pycharm": {
     "name": "#%%\n"
    }
   }
  },
  {
   "cell_type": "code",
   "execution_count": 12,
   "outputs": [
    {
     "data": {
      "text/plain": "       termino  count\n0     proteger     73\n2     defender     58\n9     respetar     25\n8      cumplir     21\n13       decir     15\n7      ejercer     13\n5   contribuir     12\n3    responder      9\n11    trabajar      5\n12    procurar      5\n4         usar      4\n1       apoyar      4\n15     conocer      4\n16      servir      3\n14       tomar      2\n6        vivir      1\n10      educar      1\n17     guardar      1\n18   conservar      1",
      "text/html": "<div>\n<style scoped>\n    .dataframe tbody tr th:only-of-type {\n        vertical-align: middle;\n    }\n\n    .dataframe tbody tr th {\n        vertical-align: top;\n    }\n\n    .dataframe thead th {\n        text-align: right;\n    }\n</style>\n<table border=\"1\" class=\"dataframe\">\n  <thead>\n    <tr style=\"text-align: right;\">\n      <th></th>\n      <th>termino</th>\n      <th>count</th>\n    </tr>\n  </thead>\n  <tbody>\n    <tr>\n      <th>0</th>\n      <td>proteger</td>\n      <td>73</td>\n    </tr>\n    <tr>\n      <th>2</th>\n      <td>defender</td>\n      <td>58</td>\n    </tr>\n    <tr>\n      <th>9</th>\n      <td>respetar</td>\n      <td>25</td>\n    </tr>\n    <tr>\n      <th>8</th>\n      <td>cumplir</td>\n      <td>21</td>\n    </tr>\n    <tr>\n      <th>13</th>\n      <td>decir</td>\n      <td>15</td>\n    </tr>\n    <tr>\n      <th>7</th>\n      <td>ejercer</td>\n      <td>13</td>\n    </tr>\n    <tr>\n      <th>5</th>\n      <td>contribuir</td>\n      <td>12</td>\n    </tr>\n    <tr>\n      <th>3</th>\n      <td>responder</td>\n      <td>9</td>\n    </tr>\n    <tr>\n      <th>11</th>\n      <td>trabajar</td>\n      <td>5</td>\n    </tr>\n    <tr>\n      <th>12</th>\n      <td>procurar</td>\n      <td>5</td>\n    </tr>\n    <tr>\n      <th>4</th>\n      <td>usar</td>\n      <td>4</td>\n    </tr>\n    <tr>\n      <th>1</th>\n      <td>apoyar</td>\n      <td>4</td>\n    </tr>\n    <tr>\n      <th>15</th>\n      <td>conocer</td>\n      <td>4</td>\n    </tr>\n    <tr>\n      <th>16</th>\n      <td>servir</td>\n      <td>3</td>\n    </tr>\n    <tr>\n      <th>14</th>\n      <td>tomar</td>\n      <td>2</td>\n    </tr>\n    <tr>\n      <th>6</th>\n      <td>vivir</td>\n      <td>1</td>\n    </tr>\n    <tr>\n      <th>10</th>\n      <td>educar</td>\n      <td>1</td>\n    </tr>\n    <tr>\n      <th>17</th>\n      <td>guardar</td>\n      <td>1</td>\n    </tr>\n    <tr>\n      <th>18</th>\n      <td>conservar</td>\n      <td>1</td>\n    </tr>\n  </tbody>\n</table>\n</div>"
     },
     "execution_count": 12,
     "metadata": {},
     "output_type": "execute_result"
    }
   ],
   "source": [
    "df_concept_ffaa = pd.DataFrame.from_dict(Counter(l_derechos), orient = 'index').reset_index()\n",
    "df_concept_ffaa = df_concept_ffaa.rename(columns = {'index' : 'termino', 0 : 'count'})\n",
    "df_concept_ffaa.sort_values('count', ascending = False)[0:20]"
   ],
   "metadata": {
    "collapsed": false,
    "pycharm": {
     "name": "#%%\n"
    }
   }
  },
  {
   "cell_type": "markdown",
   "source": [
    "### 2 - Verificacion/Validacion diccionario"
   ],
   "metadata": {
    "collapsed": false,
    "pycharm": {
     "name": "#%% md\n"
    }
   }
  },
  {
   "cell_type": "markdown",
   "source": [
    "### Diccionario original\n",
    "\n",
    "Se dejan los conceptos cargados en el diccionario ```dict_r.dic```"
   ],
   "metadata": {
    "collapsed": false,
    "pycharm": {
     "name": "#%% md\n"
    }
   }
  },
  {
   "cell_type": "code",
   "execution_count": 21,
   "outputs": [
    {
     "data": {
      "text/plain": "       termino  count\n0     proteger     73\n1       apoyar      4\n2     defender     58\n3    responder      9\n4         usar      4\n5   contribuir     12\n6        vivir      1\n7      ejercer     13\n8      cumplir     21\n9     respetar     25\n10      educar      1\n11    trabajar      5\n12    procurar      5\n13       decir     15\n14       tomar      2\n15     conocer      4\n16      servir      3\n17     guardar      1\n18   conservar      1",
      "text/html": "<div>\n<style scoped>\n    .dataframe tbody tr th:only-of-type {\n        vertical-align: middle;\n    }\n\n    .dataframe tbody tr th {\n        vertical-align: top;\n    }\n\n    .dataframe thead th {\n        text-align: right;\n    }\n</style>\n<table border=\"1\" class=\"dataframe\">\n  <thead>\n    <tr style=\"text-align: right;\">\n      <th></th>\n      <th>termino</th>\n      <th>count</th>\n    </tr>\n  </thead>\n  <tbody>\n    <tr>\n      <th>0</th>\n      <td>proteger</td>\n      <td>73</td>\n    </tr>\n    <tr>\n      <th>1</th>\n      <td>apoyar</td>\n      <td>4</td>\n    </tr>\n    <tr>\n      <th>2</th>\n      <td>defender</td>\n      <td>58</td>\n    </tr>\n    <tr>\n      <th>3</th>\n      <td>responder</td>\n      <td>9</td>\n    </tr>\n    <tr>\n      <th>4</th>\n      <td>usar</td>\n      <td>4</td>\n    </tr>\n    <tr>\n      <th>5</th>\n      <td>contribuir</td>\n      <td>12</td>\n    </tr>\n    <tr>\n      <th>6</th>\n      <td>vivir</td>\n      <td>1</td>\n    </tr>\n    <tr>\n      <th>7</th>\n      <td>ejercer</td>\n      <td>13</td>\n    </tr>\n    <tr>\n      <th>8</th>\n      <td>cumplir</td>\n      <td>21</td>\n    </tr>\n    <tr>\n      <th>9</th>\n      <td>respetar</td>\n      <td>25</td>\n    </tr>\n    <tr>\n      <th>10</th>\n      <td>educar</td>\n      <td>1</td>\n    </tr>\n    <tr>\n      <th>11</th>\n      <td>trabajar</td>\n      <td>5</td>\n    </tr>\n    <tr>\n      <th>12</th>\n      <td>procurar</td>\n      <td>5</td>\n    </tr>\n    <tr>\n      <th>13</th>\n      <td>decir</td>\n      <td>15</td>\n    </tr>\n    <tr>\n      <th>14</th>\n      <td>tomar</td>\n      <td>2</td>\n    </tr>\n    <tr>\n      <th>15</th>\n      <td>conocer</td>\n      <td>4</td>\n    </tr>\n    <tr>\n      <th>16</th>\n      <td>servir</td>\n      <td>3</td>\n    </tr>\n    <tr>\n      <th>17</th>\n      <td>guardar</td>\n      <td>1</td>\n    </tr>\n    <tr>\n      <th>18</th>\n      <td>conservar</td>\n      <td>1</td>\n    </tr>\n  </tbody>\n</table>\n</div>"
     },
     "execution_count": 21,
     "metadata": {},
     "output_type": "execute_result"
    }
   ],
   "source": [
    "#Original\n",
    "df_concept_ffaa"
   ],
   "metadata": {
    "collapsed": false,
    "pycharm": {
     "name": "#%%\n"
    }
   }
  },
  {
   "cell_type": "markdown",
   "source": [
    "### Dataframe luego del procesamiento del punto 3 (Desempeño diccionario)\n",
    "Luego del proceso del punto 3, se sacan los terminos:\n",
    "- guardar\n",
    "- responder\n",
    "- tomar\n",
    "- usar"
   ],
   "metadata": {
    "collapsed": false,
    "pycharm": {
     "name": "#%% md\n"
    }
   }
  },
  {
   "cell_type": "code",
   "execution_count": 22,
   "outputs": [],
   "source": [
    "df_concept_ffaa = df_concept_ffaa.drop(df_concept_ffaa[df_concept_ffaa[\"termino\"] == \"guardar\"].index)\n",
    "df_concept_ffaa = df_concept_ffaa.drop(df_concept_ffaa[df_concept_ffaa[\"termino\"] == \"responder\"].index)\n",
    "df_concept_ffaa = df_concept_ffaa.drop(df_concept_ffaa[df_concept_ffaa[\"termino\"] == \"tomar\"].index)\n",
    "df_concept_ffaa = df_concept_ffaa.drop(df_concept_ffaa[df_concept_ffaa[\"termino\"] == \"usar\"].index)"
   ],
   "metadata": {
    "collapsed": false,
    "pycharm": {
     "name": "#%%\n"
    }
   }
  },
  {
   "cell_type": "code",
   "execution_count": 23,
   "outputs": [
    {
     "data": {
      "text/plain": "       termino  count\n0     proteger     73\n1       apoyar      4\n2     defender     58\n5   contribuir     12\n6        vivir      1\n7      ejercer     13\n8      cumplir     21\n9     respetar     25\n10      educar      1\n11    trabajar      5\n12    procurar      5\n13       decir     15\n15     conocer      4\n16      servir      3\n18   conservar      1",
      "text/html": "<div>\n<style scoped>\n    .dataframe tbody tr th:only-of-type {\n        vertical-align: middle;\n    }\n\n    .dataframe tbody tr th {\n        vertical-align: top;\n    }\n\n    .dataframe thead th {\n        text-align: right;\n    }\n</style>\n<table border=\"1\" class=\"dataframe\">\n  <thead>\n    <tr style=\"text-align: right;\">\n      <th></th>\n      <th>termino</th>\n      <th>count</th>\n    </tr>\n  </thead>\n  <tbody>\n    <tr>\n      <th>0</th>\n      <td>proteger</td>\n      <td>73</td>\n    </tr>\n    <tr>\n      <th>1</th>\n      <td>apoyar</td>\n      <td>4</td>\n    </tr>\n    <tr>\n      <th>2</th>\n      <td>defender</td>\n      <td>58</td>\n    </tr>\n    <tr>\n      <th>5</th>\n      <td>contribuir</td>\n      <td>12</td>\n    </tr>\n    <tr>\n      <th>6</th>\n      <td>vivir</td>\n      <td>1</td>\n    </tr>\n    <tr>\n      <th>7</th>\n      <td>ejercer</td>\n      <td>13</td>\n    </tr>\n    <tr>\n      <th>8</th>\n      <td>cumplir</td>\n      <td>21</td>\n    </tr>\n    <tr>\n      <th>9</th>\n      <td>respetar</td>\n      <td>25</td>\n    </tr>\n    <tr>\n      <th>10</th>\n      <td>educar</td>\n      <td>1</td>\n    </tr>\n    <tr>\n      <th>11</th>\n      <td>trabajar</td>\n      <td>5</td>\n    </tr>\n    <tr>\n      <th>12</th>\n      <td>procurar</td>\n      <td>5</td>\n    </tr>\n    <tr>\n      <th>13</th>\n      <td>decir</td>\n      <td>15</td>\n    </tr>\n    <tr>\n      <th>15</th>\n      <td>conocer</td>\n      <td>4</td>\n    </tr>\n    <tr>\n      <th>16</th>\n      <td>servir</td>\n      <td>3</td>\n    </tr>\n    <tr>\n      <th>18</th>\n      <td>conservar</td>\n      <td>1</td>\n    </tr>\n  </tbody>\n</table>\n</div>"
     },
     "execution_count": 23,
     "metadata": {},
     "output_type": "execute_result"
    }
   ],
   "source": [
    "df_concept_ffaa"
   ],
   "metadata": {
    "collapsed": false,
    "pycharm": {
     "name": "#%%\n"
    }
   }
  },
  {
   "cell_type": "markdown",
   "source": [
    "### 3 - Desempeño diccionario"
   ],
   "metadata": {
    "collapsed": false,
    "pycharm": {
     "name": "#%% md\n"
    }
   }
  },
  {
   "cell_type": "code",
   "execution_count": 14,
   "outputs": [],
   "source": [
    "df_dummy_categories_ffaa = pd.get_dummies(df_concept_ffaa.groupby(by = ['termino']).count().reset_index()['termino'])"
   ],
   "metadata": {
    "collapsed": false,
    "pycharm": {
     "name": "#%%\n"
    }
   }
  },
  {
   "cell_type": "code",
   "execution_count": 15,
   "outputs": [],
   "source": [
    "df_dummy_categories_ffaa = df_dummy_categories_ffaa[0:0]"
   ],
   "metadata": {
    "collapsed": false,
    "pycharm": {
     "name": "#%%\n"
    }
   }
  },
  {
   "cell_type": "code",
   "execution_count": 16,
   "outputs": [],
   "source": [
    "df_institutions_all_group = institutions_all.groupby(by = ['categoria']).count().reset_index()['categoria']\n",
    "df_dummy_categories_ffaa['categoria'] = df_institutions_all_group"
   ],
   "metadata": {
    "collapsed": false,
    "pycharm": {
     "name": "#%%\n"
    }
   }
  },
  {
   "cell_type": "code",
   "execution_count": 17,
   "outputs": [],
   "source": [
    "df_dummy_categories_ffaa = df_dummy_categories_ffaa.set_index(\"categoria\")\n",
    "\n",
    "for col in df_dummy_categories_ffaa.columns:\n",
    "    df_dummy_categories_ffaa[col].values[:] = 0"
   ],
   "metadata": {
    "collapsed": false,
    "pycharm": {
     "name": "#%%\n"
    }
   }
  },
  {
   "cell_type": "code",
   "execution_count": 18,
   "outputs": [],
   "source": [
    "for index, row in institutions_all.iterrows():\n",
    "  for i, v in df_dummy_categories_ffaa.loc[row['categoria']].items():\n",
    "    df_dummy_categories_ffaa.loc[row['categoria']][i] = df_dummy_categories_ffaa.loc[row['categoria']][i] + row['fundamento'].count(i)\n"
   ],
   "metadata": {
    "collapsed": false,
    "pycharm": {
     "name": "#%%\n"
    }
   }
  },
  {
   "cell_type": "code",
   "execution_count": 19,
   "outputs": [
    {
     "data": {
      "text/plain": "                                                    apoyar  conocer  \\\ncategoria                                                             \nGobierno local / Municipal                            12.0     17.0   \nDefensor del Pueblo / Ciudadano                       10.0     10.0   \nGobierno regional                                      9.0     13.0   \nPlebiscitos, referendos y consultas                    6.0     58.0   \nFuerzas Armadas                                        6.0      6.0   \nPresidencia de la República                            3.0     10.0   \nCongreso o parlamento                                  2.0     10.0   \nGobierno nacional (estructura y funciones)             2.0     10.0   \nGobierno provincial                                    2.0      4.0   \nMinisterio Público / Defensoría Pública                2.0      4.0   \nContraloría general / Tribunales de cuentas            2.0      3.0   \nAsambleas y Cabildos                                   2.0      2.0   \nForma de Estado                                        1.0     22.0   \nRégimen de gobierno presidencial /Semi-presiden...     1.0      6.0   \nOtro                                                   1.0      6.0   \nJusticia constitucional                                1.0      5.0   \nJuicio político /acusación constitucional              1.0      3.0   \nEstado de excepción                                    1.0      1.0   \nPoder judicial (estructura y funciones)                0.0     19.0   \nInclasificable/No corresponde                          0.0      9.0   \nDivisión territorial                                   0.0      8.0   \nCambio o reforma constitucional                        0.0      6.0   \nJusticia electoral                                     0.0      4.0   \nAsamblea Constituyente                                 0.0      2.0   \nOrganizaciones de la sociedad civil                    0.0      1.0   \nCarabineros                                            0.0      1.0   \nIniciativa popular de Ley                              0.0      1.0   \nExistencia de Tribunal Constitucional                  0.0      0.0   \nAutonomía Banco Central                                0.0      0.0   \nJefatura de gobierno                                   0.0      0.0   \nCongreso o Parlamento Unicameral                       0.0      0.0   \nEliminacion de Tribunal Constitucional                 0.0      0.0   \nTribunal de Defensa de la Libre Competencia            0.0      0.0   \nAutonomía regional                                     0.0      0.0   \nServicio Nacional de Asuntos Religiosos                0.0      0.0   \n\n                                                    conservar  contribuir  \\\ncategoria                                                                   \nGobierno local / Municipal                                1.0         5.0   \nDefensor del Pueblo / Ciudadano                           1.0         2.0   \nGobierno regional                                         4.0         6.0   \nPlebiscitos, referendos y consultas                       1.0         3.0   \nFuerzas Armadas                                           1.0        12.0   \nPresidencia de la República                               3.0         0.0   \nCongreso o parlamento                                     5.0         0.0   \nGobierno nacional (estructura y funciones)                0.0         2.0   \nGobierno provincial                                       0.0         2.0   \nMinisterio Público / Defensoría Pública                   0.0         0.0   \nContraloría general / Tribunales de cuentas               0.0         0.0   \nAsambleas y Cabildos                                      0.0         0.0   \nForma de Estado                                           2.0         3.0   \nRégimen de gobierno presidencial /Semi-presiden...        4.0         2.0   \nOtro                                                      0.0         0.0   \nJusticia constitucional                                   0.0         0.0   \nJuicio político /acusación constitucional                 2.0         0.0   \nEstado de excepción                                       2.0         0.0   \nPoder judicial (estructura y funciones)                   2.0         1.0   \nInclasificable/No corresponde                             0.0         0.0   \nDivisión territorial                                      2.0         0.0   \nCambio o reforma constitucional                           3.0         2.0   \nJusticia electoral                                        0.0         0.0   \nAsamblea Constituyente                                    0.0         0.0   \nOrganizaciones de la sociedad civil                       0.0         3.0   \nCarabineros                                               0.0         1.0   \nIniciativa popular de Ley                                 0.0         0.0   \nExistencia de Tribunal Constitucional                     0.0         0.0   \nAutonomía Banco Central                                   0.0         0.0   \nJefatura de gobierno                                      0.0         0.0   \nCongreso o Parlamento Unicameral                          0.0         0.0   \nEliminacion de Tribunal Constitucional                    0.0         0.0   \nTribunal de Defensa de la Libre Competencia               0.0         0.0   \nAutonomía regional                                        0.0         0.0   \nServicio Nacional de Asuntos Religiosos                   0.0         0.0   \n\n                                                    cumplir  decir  defender  \\\ncategoria                                                                      \nGobierno local / Municipal                              5.0    3.0       1.0   \nDefensor del Pueblo / Ciudadano                        16.0    4.0     307.0   \nGobierno regional                                      10.0    4.0       2.0   \nPlebiscitos, referendos y consultas                     9.0   14.0       5.0   \nFuerzas Armadas                                        22.0   15.0      64.0   \nPresidencia de la República                            29.0    3.0       6.0   \nCongreso o parlamento                                  33.0   11.0       2.0   \nGobierno nacional (estructura y funciones)             18.0    3.0      10.0   \nGobierno provincial                                     2.0    0.0       1.0   \nMinisterio Público / Defensoría Pública                 7.0    2.0      33.0   \nContraloría general / Tribunales de cuentas            18.0    3.0       1.0   \nAsambleas y Cabildos                                    1.0    0.0       0.0   \nForma de Estado                                         2.0    3.0       0.0   \nRégimen de gobierno presidencial /Semi-presiden...     11.0    9.0       1.0   \nOtro                                                    6.0    1.0       2.0   \nJusticia constitucional                                19.0    3.0       6.0   \nJuicio político /acusación constitucional              11.0    3.0       5.0   \nEstado de excepción                                     2.0    1.0       0.0   \nPoder judicial (estructura y funciones)                91.0    6.0       6.0   \nInclasificable/No corresponde                           3.0    0.0       1.0   \nDivisión territorial                                    2.0    2.0       1.0   \nCambio o reforma constitucional                         4.0    5.0       2.0   \nJusticia electoral                                      8.0    3.0       1.0   \nAsamblea Constituyente                                  4.0    4.0       0.0   \nOrganizaciones de la sociedad civil                     1.0    0.0       2.0   \nCarabineros                                             2.0    0.0       1.0   \nIniciativa popular de Ley                               0.0    0.0       0.0   \nExistencia de Tribunal Constitucional                   4.0    0.0       0.0   \nAutonomía Banco Central                                 1.0    1.0       0.0   \nJefatura de gobierno                                    1.0    0.0       0.0   \nCongreso o Parlamento Unicameral                        0.0    5.0       0.0   \nEliminacion de Tribunal Constitucional                  0.0    1.0       0.0   \nTribunal de Defensa de la Libre Competencia             0.0    0.0       1.0   \nAutonomía regional                                      0.0    0.0       0.0   \nServicio Nacional de Asuntos Religiosos                 0.0    0.0       0.0   \n\n                                                    educar  ejercer  guardar  \\\ncategoria                                                                      \nGobierno local / Municipal                             0.0     10.0      5.0   \nDefensor del Pueblo / Ciudadano                        1.0     26.0     42.0   \nGobierno regional                                      0.0      8.0      6.0   \nPlebiscitos, referendos y consultas                    7.0     76.0     14.0   \nFuerzas Armadas                                        1.0     13.0     90.0   \nPresidencia de la República                            1.0     10.0     12.0   \nCongreso o parlamento                                  0.0     21.0     33.0   \nGobierno nacional (estructura y funciones)             3.0     11.0     10.0   \nGobierno provincial                                    0.0      2.0      0.0   \nMinisterio Público / Defensoría Pública                0.0     11.0     11.0   \nContraloría general / Tribunales de cuentas            0.0     25.0     16.0   \nAsambleas y Cabildos                                   8.0      4.0      0.0   \nForma de Estado                                        0.0      4.0      2.0   \nRégimen de gobierno presidencial /Semi-presiden...     0.0      8.0      1.0   \nOtro                                                   1.0      5.0      2.0   \nJusticia constitucional                                0.0     15.0     13.0   \nJuicio político /acusación constitucional              0.0     22.0      6.0   \nEstado de excepción                                    0.0      2.0      8.0   \nPoder judicial (estructura y funciones)                2.0     28.0     22.0   \nInclasificable/No corresponde                          2.0      3.0      3.0   \nDivisión territorial                                   0.0      3.0      2.0   \nCambio o reforma constitucional                        1.0      9.0      4.0   \nJusticia electoral                                     0.0      6.0      6.0   \nAsamblea Constituyente                                 0.0      7.0      1.0   \nOrganizaciones de la sociedad civil                    1.0      1.0      2.0   \nCarabineros                                            0.0      0.0      3.0   \nIniciativa popular de Ley                              0.0      2.0      0.0   \nExistencia de Tribunal Constitucional                  0.0      3.0      2.0   \nAutonomía Banco Central                                0.0      1.0      2.0   \nJefatura de gobierno                                   0.0      2.0      0.0   \nCongreso o Parlamento Unicameral                       0.0      2.0      0.0   \nEliminacion de Tribunal Constitucional                 0.0      0.0      0.0   \nTribunal de Defensa de la Libre Competencia            0.0      1.0      0.0   \nAutonomía regional                                     0.0      0.0      0.0   \nServicio Nacional de Asuntos Religiosos                0.0      0.0      0.0   \n\n                                                    procurar  proteger  \\\ncategoria                                                                \nGobierno local / Municipal                               2.0       4.0   \nDefensor del Pueblo / Ciudadano                          3.0     112.0   \nGobierno regional                                        1.0       1.0   \nPlebiscitos, referendos y consultas                      0.0       3.0   \nFuerzas Armadas                                          5.0      77.0   \nPresidencia de la República                              1.0       4.0   \nCongreso o parlamento                                    1.0       5.0   \nGobierno nacional (estructura y funciones)               1.0      20.0   \nGobierno provincial                                      0.0       0.0   \nMinisterio Público / Defensoría Pública                  1.0       8.0   \nContraloría general / Tribunales de cuentas              0.0       6.0   \nAsambleas y Cabildos                                     0.0       0.0   \nForma de Estado                                          1.0       2.0   \nRégimen de gobierno presidencial /Semi-presiden...       0.0       1.0   \nOtro                                                     0.0       7.0   \nJusticia constitucional                                  0.0      10.0   \nJuicio político /acusación constitucional                0.0       1.0   \nEstado de excepción                                      0.0      33.0   \nPoder judicial (estructura y funciones)                  2.0      14.0   \nInclasificable/No corresponde                            1.0       4.0   \nDivisión territorial                                     0.0       0.0   \nCambio o reforma constitucional                          0.0       2.0   \nJusticia electoral                                       1.0       5.0   \nAsamblea Constituyente                                   0.0       0.0   \nOrganizaciones de la sociedad civil                      0.0       3.0   \nCarabineros                                              0.0       1.0   \nIniciativa popular de Ley                                0.0       0.0   \nExistencia de Tribunal Constitucional                    0.0       3.0   \nAutonomía Banco Central                                  0.0       1.0   \nJefatura de gobierno                                     0.0       0.0   \nCongreso o Parlamento Unicameral                         0.0       0.0   \nEliminacion de Tribunal Constitucional                   0.0       1.0   \nTribunal de Defensa de la Libre Competencia              0.0       2.0   \nAutonomía regional                                       0.0       0.0   \nServicio Nacional de Asuntos Religiosos                  0.0       0.0   \n\n                                                    respetar  responder  \\\ncategoria                                                                 \nGobierno local / Municipal                               3.0        8.0   \nDefensor del Pueblo / Ciudadano                         10.0        5.0   \nGobierno regional                                        1.0        3.0   \nPlebiscitos, referendos y consultas                     13.0        5.0   \nFuerzas Armadas                                         27.0       10.0   \nPresidencia de la República                             19.0        1.0   \nCongreso o parlamento                                    7.0        5.0   \nGobierno nacional (estructura y funciones)              12.0        2.0   \nGobierno provincial                                      1.0        1.0   \nMinisterio Público / Defensoría Pública                  3.0        3.0   \nContraloría general / Tribunales de cuentas              3.0        2.0   \nAsambleas y Cabildos                                     0.0        0.0   \nForma de Estado                                          8.0        4.0   \nRégimen de gobierno presidencial /Semi-presiden...       5.0        1.0   \nOtro                                                     3.0        2.0   \nJusticia constitucional                                 15.0        1.0   \nJuicio político /acusación constitucional                4.0       18.0   \nEstado de excepción                                      2.0        1.0   \nPoder judicial (estructura y funciones)                 16.0        4.0   \nInclasificable/No corresponde                            2.0        2.0   \nDivisión territorial                                     4.0        1.0   \nCambio o reforma constitucional                          9.0        8.0   \nJusticia electoral                                       7.0        1.0   \nAsamblea Constituyente                                   1.0        2.0   \nOrganizaciones de la sociedad civil                      0.0        0.0   \nCarabineros                                              0.0        0.0   \nIniciativa popular de Ley                                2.0        0.0   \nExistencia de Tribunal Constitucional                    2.0        0.0   \nAutonomía Banco Central                                  1.0        0.0   \nJefatura de gobierno                                     4.0        0.0   \nCongreso o Parlamento Unicameral                         1.0        0.0   \nEliminacion de Tribunal Constitucional                   0.0        0.0   \nTribunal de Defensa de la Libre Competencia              0.0        0.0   \nAutonomía regional                                       0.0        1.0   \nServicio Nacional de Asuntos Religiosos                  0.0        0.0   \n\n                                                    servir  tomar  trabajar  \\\ncategoria                                                                     \nGobierno local / Municipal                             0.0   29.0      19.0   \nDefensor del Pueblo / Ciudadano                        3.0   13.0       4.0   \nGobierno regional                                      0.0   49.0       9.0   \nPlebiscitos, referendos y consultas                    6.0  155.0       1.0   \nFuerzas Armadas                                        4.0    4.0       5.0   \nPresidencia de la República                            0.0    4.0       4.0   \nCongreso o parlamento                                 10.0   15.0      19.0   \nGobierno nacional (estructura y funciones)             2.0    6.0       9.0   \nGobierno provincial                                    0.0    6.0       3.0   \nMinisterio Público / Defensoría Pública                2.0    5.0       2.0   \nContraloría general / Tribunales de cuentas            1.0    6.0       1.0   \nAsambleas y Cabildos                                   0.0    0.0       0.0   \nForma de Estado                                        1.0   49.0       3.0   \nRégimen de gobierno presidencial /Semi-presiden...     1.0   12.0       9.0   \nOtro                                                   0.0    4.0       1.0   \nJusticia constitucional                                1.0    0.0       0.0   \nJuicio político /acusación constitucional              2.0    3.0       1.0   \nEstado de excepción                                    0.0    5.0       0.0   \nPoder judicial (estructura y funciones)                1.0    6.0       7.0   \nInclasificable/No corresponde                          0.0    1.0       4.0   \nDivisión territorial                                   0.0    4.0       1.0   \nCambio o reforma constitucional                        0.0    1.0       2.0   \nJusticia electoral                                     0.0    4.0       1.0   \nAsamblea Constituyente                                 0.0    1.0       2.0   \nOrganizaciones de la sociedad civil                    0.0    0.0       0.0   \nCarabineros                                            1.0    0.0       0.0   \nIniciativa popular de Ley                              0.0    2.0       0.0   \nExistencia de Tribunal Constitucional                  0.0    1.0       0.0   \nAutonomía Banco Central                                0.0    1.0       0.0   \nJefatura de gobierno                                   0.0    5.0       1.0   \nCongreso o Parlamento Unicameral                       0.0    2.0       0.0   \nEliminacion de Tribunal Constitucional                 0.0    0.0       0.0   \nTribunal de Defensa de la Libre Competencia            0.0    0.0       0.0   \nAutonomía regional                                     0.0    2.0       0.0   \nServicio Nacional de Asuntos Religiosos                0.0    0.0       0.0   \n\n                                                    usar  vivir  \ncategoria                                                        \nGobierno local / Municipal                           0.0    5.0  \nDefensor del Pueblo / Ciudadano                      2.0    2.0  \nGobierno regional                                    3.0    5.0  \nPlebiscitos, referendos y consultas                 15.0   12.0  \nFuerzas Armadas                                     10.0    2.0  \nPresidencia de la República                          1.0    1.0  \nCongreso o parlamento                                3.0    5.0  \nGobierno nacional (estructura y funciones)           1.0   10.0  \nGobierno provincial                                  0.0    0.0  \nMinisterio Público / Defensoría Pública              3.0    1.0  \nContraloría general / Tribunales de cuentas          1.0    0.0  \nAsambleas y Cabildos                                 0.0    0.0  \nForma de Estado                                      1.0    3.0  \nRégimen de gobierno presidencial /Semi-presiden...   0.0    1.0  \nOtro                                                 1.0    1.0  \nJusticia constitucional                              3.0    1.0  \nJuicio político /acusación constitucional           20.0    1.0  \nEstado de excepción                                  4.0    2.0  \nPoder judicial (estructura y funciones)              3.0    2.0  \nInclasificable/No corresponde                        1.0    5.0  \nDivisión territorial                                 1.0    0.0  \nCambio o reforma constitucional                      0.0    6.0  \nJusticia electoral                                   1.0    1.0  \nAsamblea Constituyente                               0.0    2.0  \nOrganizaciones de la sociedad civil                  0.0    2.0  \nCarabineros                                          0.0    0.0  \nIniciativa popular de Ley                            0.0    0.0  \nExistencia de Tribunal Constitucional                0.0    0.0  \nAutonomía Banco Central                              0.0    0.0  \nJefatura de gobierno                                 0.0    0.0  \nCongreso o Parlamento Unicameral                     0.0    2.0  \nEliminacion de Tribunal Constitucional               0.0    0.0  \nTribunal de Defensa de la Libre Competencia          0.0    0.0  \nAutonomía regional                                   0.0    0.0  \nServicio Nacional de Asuntos Religiosos              0.0    0.0  ",
      "text/html": "<div>\n<style scoped>\n    .dataframe tbody tr th:only-of-type {\n        vertical-align: middle;\n    }\n\n    .dataframe tbody tr th {\n        vertical-align: top;\n    }\n\n    .dataframe thead th {\n        text-align: right;\n    }\n</style>\n<table border=\"1\" class=\"dataframe\">\n  <thead>\n    <tr style=\"text-align: right;\">\n      <th></th>\n      <th>apoyar</th>\n      <th>conocer</th>\n      <th>conservar</th>\n      <th>contribuir</th>\n      <th>cumplir</th>\n      <th>decir</th>\n      <th>defender</th>\n      <th>educar</th>\n      <th>ejercer</th>\n      <th>guardar</th>\n      <th>procurar</th>\n      <th>proteger</th>\n      <th>respetar</th>\n      <th>responder</th>\n      <th>servir</th>\n      <th>tomar</th>\n      <th>trabajar</th>\n      <th>usar</th>\n      <th>vivir</th>\n    </tr>\n    <tr>\n      <th>categoria</th>\n      <th></th>\n      <th></th>\n      <th></th>\n      <th></th>\n      <th></th>\n      <th></th>\n      <th></th>\n      <th></th>\n      <th></th>\n      <th></th>\n      <th></th>\n      <th></th>\n      <th></th>\n      <th></th>\n      <th></th>\n      <th></th>\n      <th></th>\n      <th></th>\n      <th></th>\n    </tr>\n  </thead>\n  <tbody>\n    <tr>\n      <th>Gobierno local / Municipal</th>\n      <td>12.0</td>\n      <td>17.0</td>\n      <td>1.0</td>\n      <td>5.0</td>\n      <td>5.0</td>\n      <td>3.0</td>\n      <td>1.0</td>\n      <td>0.0</td>\n      <td>10.0</td>\n      <td>5.0</td>\n      <td>2.0</td>\n      <td>4.0</td>\n      <td>3.0</td>\n      <td>8.0</td>\n      <td>0.0</td>\n      <td>29.0</td>\n      <td>19.0</td>\n      <td>0.0</td>\n      <td>5.0</td>\n    </tr>\n    <tr>\n      <th>Defensor del Pueblo / Ciudadano</th>\n      <td>10.0</td>\n      <td>10.0</td>\n      <td>1.0</td>\n      <td>2.0</td>\n      <td>16.0</td>\n      <td>4.0</td>\n      <td>307.0</td>\n      <td>1.0</td>\n      <td>26.0</td>\n      <td>42.0</td>\n      <td>3.0</td>\n      <td>112.0</td>\n      <td>10.0</td>\n      <td>5.0</td>\n      <td>3.0</td>\n      <td>13.0</td>\n      <td>4.0</td>\n      <td>2.0</td>\n      <td>2.0</td>\n    </tr>\n    <tr>\n      <th>Gobierno regional</th>\n      <td>9.0</td>\n      <td>13.0</td>\n      <td>4.0</td>\n      <td>6.0</td>\n      <td>10.0</td>\n      <td>4.0</td>\n      <td>2.0</td>\n      <td>0.0</td>\n      <td>8.0</td>\n      <td>6.0</td>\n      <td>1.0</td>\n      <td>1.0</td>\n      <td>1.0</td>\n      <td>3.0</td>\n      <td>0.0</td>\n      <td>49.0</td>\n      <td>9.0</td>\n      <td>3.0</td>\n      <td>5.0</td>\n    </tr>\n    <tr>\n      <th>Plebiscitos, referendos y consultas</th>\n      <td>6.0</td>\n      <td>58.0</td>\n      <td>1.0</td>\n      <td>3.0</td>\n      <td>9.0</td>\n      <td>14.0</td>\n      <td>5.0</td>\n      <td>7.0</td>\n      <td>76.0</td>\n      <td>14.0</td>\n      <td>0.0</td>\n      <td>3.0</td>\n      <td>13.0</td>\n      <td>5.0</td>\n      <td>6.0</td>\n      <td>155.0</td>\n      <td>1.0</td>\n      <td>15.0</td>\n      <td>12.0</td>\n    </tr>\n    <tr>\n      <th>Fuerzas Armadas</th>\n      <td>6.0</td>\n      <td>6.0</td>\n      <td>1.0</td>\n      <td>12.0</td>\n      <td>22.0</td>\n      <td>15.0</td>\n      <td>64.0</td>\n      <td>1.0</td>\n      <td>13.0</td>\n      <td>90.0</td>\n      <td>5.0</td>\n      <td>77.0</td>\n      <td>27.0</td>\n      <td>10.0</td>\n      <td>4.0</td>\n      <td>4.0</td>\n      <td>5.0</td>\n      <td>10.0</td>\n      <td>2.0</td>\n    </tr>\n    <tr>\n      <th>Presidencia de la República</th>\n      <td>3.0</td>\n      <td>10.0</td>\n      <td>3.0</td>\n      <td>0.0</td>\n      <td>29.0</td>\n      <td>3.0</td>\n      <td>6.0</td>\n      <td>1.0</td>\n      <td>10.0</td>\n      <td>12.0</td>\n      <td>1.0</td>\n      <td>4.0</td>\n      <td>19.0</td>\n      <td>1.0</td>\n      <td>0.0</td>\n      <td>4.0</td>\n      <td>4.0</td>\n      <td>1.0</td>\n      <td>1.0</td>\n    </tr>\n    <tr>\n      <th>Congreso o parlamento</th>\n      <td>2.0</td>\n      <td>10.0</td>\n      <td>5.0</td>\n      <td>0.0</td>\n      <td>33.0</td>\n      <td>11.0</td>\n      <td>2.0</td>\n      <td>0.0</td>\n      <td>21.0</td>\n      <td>33.0</td>\n      <td>1.0</td>\n      <td>5.0</td>\n      <td>7.0</td>\n      <td>5.0</td>\n      <td>10.0</td>\n      <td>15.0</td>\n      <td>19.0</td>\n      <td>3.0</td>\n      <td>5.0</td>\n    </tr>\n    <tr>\n      <th>Gobierno nacional (estructura y funciones)</th>\n      <td>2.0</td>\n      <td>10.0</td>\n      <td>0.0</td>\n      <td>2.0</td>\n      <td>18.0</td>\n      <td>3.0</td>\n      <td>10.0</td>\n      <td>3.0</td>\n      <td>11.0</td>\n      <td>10.0</td>\n      <td>1.0</td>\n      <td>20.0</td>\n      <td>12.0</td>\n      <td>2.0</td>\n      <td>2.0</td>\n      <td>6.0</td>\n      <td>9.0</td>\n      <td>1.0</td>\n      <td>10.0</td>\n    </tr>\n    <tr>\n      <th>Gobierno provincial</th>\n      <td>2.0</td>\n      <td>4.0</td>\n      <td>0.0</td>\n      <td>2.0</td>\n      <td>2.0</td>\n      <td>0.0</td>\n      <td>1.0</td>\n      <td>0.0</td>\n      <td>2.0</td>\n      <td>0.0</td>\n      <td>0.0</td>\n      <td>0.0</td>\n      <td>1.0</td>\n      <td>1.0</td>\n      <td>0.0</td>\n      <td>6.0</td>\n      <td>3.0</td>\n      <td>0.0</td>\n      <td>0.0</td>\n    </tr>\n    <tr>\n      <th>Ministerio Público / Defensoría Pública</th>\n      <td>2.0</td>\n      <td>4.0</td>\n      <td>0.0</td>\n      <td>0.0</td>\n      <td>7.0</td>\n      <td>2.0</td>\n      <td>33.0</td>\n      <td>0.0</td>\n      <td>11.0</td>\n      <td>11.0</td>\n      <td>1.0</td>\n      <td>8.0</td>\n      <td>3.0</td>\n      <td>3.0</td>\n      <td>2.0</td>\n      <td>5.0</td>\n      <td>2.0</td>\n      <td>3.0</td>\n      <td>1.0</td>\n    </tr>\n    <tr>\n      <th>Contraloría general / Tribunales de cuentas</th>\n      <td>2.0</td>\n      <td>3.0</td>\n      <td>0.0</td>\n      <td>0.0</td>\n      <td>18.0</td>\n      <td>3.0</td>\n      <td>1.0</td>\n      <td>0.0</td>\n      <td>25.0</td>\n      <td>16.0</td>\n      <td>0.0</td>\n      <td>6.0</td>\n      <td>3.0</td>\n      <td>2.0</td>\n      <td>1.0</td>\n      <td>6.0</td>\n      <td>1.0</td>\n      <td>1.0</td>\n      <td>0.0</td>\n    </tr>\n    <tr>\n      <th>Asambleas y Cabildos</th>\n      <td>2.0</td>\n      <td>2.0</td>\n      <td>0.0</td>\n      <td>0.0</td>\n      <td>1.0</td>\n      <td>0.0</td>\n      <td>0.0</td>\n      <td>8.0</td>\n      <td>4.0</td>\n      <td>0.0</td>\n      <td>0.0</td>\n      <td>0.0</td>\n      <td>0.0</td>\n      <td>0.0</td>\n      <td>0.0</td>\n      <td>0.0</td>\n      <td>0.0</td>\n      <td>0.0</td>\n      <td>0.0</td>\n    </tr>\n    <tr>\n      <th>Forma de Estado</th>\n      <td>1.0</td>\n      <td>22.0</td>\n      <td>2.0</td>\n      <td>3.0</td>\n      <td>2.0</td>\n      <td>3.0</td>\n      <td>0.0</td>\n      <td>0.0</td>\n      <td>4.0</td>\n      <td>2.0</td>\n      <td>1.0</td>\n      <td>2.0</td>\n      <td>8.0</td>\n      <td>4.0</td>\n      <td>1.0</td>\n      <td>49.0</td>\n      <td>3.0</td>\n      <td>1.0</td>\n      <td>3.0</td>\n    </tr>\n    <tr>\n      <th>Régimen de gobierno presidencial /Semi-presidencial / Parlamentario</th>\n      <td>1.0</td>\n      <td>6.0</td>\n      <td>4.0</td>\n      <td>2.0</td>\n      <td>11.0</td>\n      <td>9.0</td>\n      <td>1.0</td>\n      <td>0.0</td>\n      <td>8.0</td>\n      <td>1.0</td>\n      <td>0.0</td>\n      <td>1.0</td>\n      <td>5.0</td>\n      <td>1.0</td>\n      <td>1.0</td>\n      <td>12.0</td>\n      <td>9.0</td>\n      <td>0.0</td>\n      <td>1.0</td>\n    </tr>\n    <tr>\n      <th>Otro</th>\n      <td>1.0</td>\n      <td>6.0</td>\n      <td>0.0</td>\n      <td>0.0</td>\n      <td>6.0</td>\n      <td>1.0</td>\n      <td>2.0</td>\n      <td>1.0</td>\n      <td>5.0</td>\n      <td>2.0</td>\n      <td>0.0</td>\n      <td>7.0</td>\n      <td>3.0</td>\n      <td>2.0</td>\n      <td>0.0</td>\n      <td>4.0</td>\n      <td>1.0</td>\n      <td>1.0</td>\n      <td>1.0</td>\n    </tr>\n    <tr>\n      <th>Justicia constitucional</th>\n      <td>1.0</td>\n      <td>5.0</td>\n      <td>0.0</td>\n      <td>0.0</td>\n      <td>19.0</td>\n      <td>3.0</td>\n      <td>6.0</td>\n      <td>0.0</td>\n      <td>15.0</td>\n      <td>13.0</td>\n      <td>0.0</td>\n      <td>10.0</td>\n      <td>15.0</td>\n      <td>1.0</td>\n      <td>1.0</td>\n      <td>0.0</td>\n      <td>0.0</td>\n      <td>3.0</td>\n      <td>1.0</td>\n    </tr>\n    <tr>\n      <th>Juicio político /acusación constitucional</th>\n      <td>1.0</td>\n      <td>3.0</td>\n      <td>2.0</td>\n      <td>0.0</td>\n      <td>11.0</td>\n      <td>3.0</td>\n      <td>5.0</td>\n      <td>0.0</td>\n      <td>22.0</td>\n      <td>6.0</td>\n      <td>0.0</td>\n      <td>1.0</td>\n      <td>4.0</td>\n      <td>18.0</td>\n      <td>2.0</td>\n      <td>3.0</td>\n      <td>1.0</td>\n      <td>20.0</td>\n      <td>1.0</td>\n    </tr>\n    <tr>\n      <th>Estado de excepción</th>\n      <td>1.0</td>\n      <td>1.0</td>\n      <td>2.0</td>\n      <td>0.0</td>\n      <td>2.0</td>\n      <td>1.0</td>\n      <td>0.0</td>\n      <td>0.0</td>\n      <td>2.0</td>\n      <td>8.0</td>\n      <td>0.0</td>\n      <td>33.0</td>\n      <td>2.0</td>\n      <td>1.0</td>\n      <td>0.0</td>\n      <td>5.0</td>\n      <td>0.0</td>\n      <td>4.0</td>\n      <td>2.0</td>\n    </tr>\n    <tr>\n      <th>Poder judicial (estructura y funciones)</th>\n      <td>0.0</td>\n      <td>19.0</td>\n      <td>2.0</td>\n      <td>1.0</td>\n      <td>91.0</td>\n      <td>6.0</td>\n      <td>6.0</td>\n      <td>2.0</td>\n      <td>28.0</td>\n      <td>22.0</td>\n      <td>2.0</td>\n      <td>14.0</td>\n      <td>16.0</td>\n      <td>4.0</td>\n      <td>1.0</td>\n      <td>6.0</td>\n      <td>7.0</td>\n      <td>3.0</td>\n      <td>2.0</td>\n    </tr>\n    <tr>\n      <th>Inclasificable/No corresponde</th>\n      <td>0.0</td>\n      <td>9.0</td>\n      <td>0.0</td>\n      <td>0.0</td>\n      <td>3.0</td>\n      <td>0.0</td>\n      <td>1.0</td>\n      <td>2.0</td>\n      <td>3.0</td>\n      <td>3.0</td>\n      <td>1.0</td>\n      <td>4.0</td>\n      <td>2.0</td>\n      <td>2.0</td>\n      <td>0.0</td>\n      <td>1.0</td>\n      <td>4.0</td>\n      <td>1.0</td>\n      <td>5.0</td>\n    </tr>\n    <tr>\n      <th>División territorial</th>\n      <td>0.0</td>\n      <td>8.0</td>\n      <td>2.0</td>\n      <td>0.0</td>\n      <td>2.0</td>\n      <td>2.0</td>\n      <td>1.0</td>\n      <td>0.0</td>\n      <td>3.0</td>\n      <td>2.0</td>\n      <td>0.0</td>\n      <td>0.0</td>\n      <td>4.0</td>\n      <td>1.0</td>\n      <td>0.0</td>\n      <td>4.0</td>\n      <td>1.0</td>\n      <td>1.0</td>\n      <td>0.0</td>\n    </tr>\n    <tr>\n      <th>Cambio o reforma constitucional</th>\n      <td>0.0</td>\n      <td>6.0</td>\n      <td>3.0</td>\n      <td>2.0</td>\n      <td>4.0</td>\n      <td>5.0</td>\n      <td>2.0</td>\n      <td>1.0</td>\n      <td>9.0</td>\n      <td>4.0</td>\n      <td>0.0</td>\n      <td>2.0</td>\n      <td>9.0</td>\n      <td>8.0</td>\n      <td>0.0</td>\n      <td>1.0</td>\n      <td>2.0</td>\n      <td>0.0</td>\n      <td>6.0</td>\n    </tr>\n    <tr>\n      <th>Justicia electoral</th>\n      <td>0.0</td>\n      <td>4.0</td>\n      <td>0.0</td>\n      <td>0.0</td>\n      <td>8.0</td>\n      <td>3.0</td>\n      <td>1.0</td>\n      <td>0.0</td>\n      <td>6.0</td>\n      <td>6.0</td>\n      <td>1.0</td>\n      <td>5.0</td>\n      <td>7.0</td>\n      <td>1.0</td>\n      <td>0.0</td>\n      <td>4.0</td>\n      <td>1.0</td>\n      <td>1.0</td>\n      <td>1.0</td>\n    </tr>\n    <tr>\n      <th>Asamblea Constituyente</th>\n      <td>0.0</td>\n      <td>2.0</td>\n      <td>0.0</td>\n      <td>0.0</td>\n      <td>4.0</td>\n      <td>4.0</td>\n      <td>0.0</td>\n      <td>0.0</td>\n      <td>7.0</td>\n      <td>1.0</td>\n      <td>0.0</td>\n      <td>0.0</td>\n      <td>1.0</td>\n      <td>2.0</td>\n      <td>0.0</td>\n      <td>1.0</td>\n      <td>2.0</td>\n      <td>0.0</td>\n      <td>2.0</td>\n    </tr>\n    <tr>\n      <th>Organizaciones de la sociedad civil</th>\n      <td>0.0</td>\n      <td>1.0</td>\n      <td>0.0</td>\n      <td>3.0</td>\n      <td>1.0</td>\n      <td>0.0</td>\n      <td>2.0</td>\n      <td>1.0</td>\n      <td>1.0</td>\n      <td>2.0</td>\n      <td>0.0</td>\n      <td>3.0</td>\n      <td>0.0</td>\n      <td>0.0</td>\n      <td>0.0</td>\n      <td>0.0</td>\n      <td>0.0</td>\n      <td>0.0</td>\n      <td>2.0</td>\n    </tr>\n    <tr>\n      <th>Carabineros</th>\n      <td>0.0</td>\n      <td>1.0</td>\n      <td>0.0</td>\n      <td>1.0</td>\n      <td>2.0</td>\n      <td>0.0</td>\n      <td>1.0</td>\n      <td>0.0</td>\n      <td>0.0</td>\n      <td>3.0</td>\n      <td>0.0</td>\n      <td>1.0</td>\n      <td>0.0</td>\n      <td>0.0</td>\n      <td>1.0</td>\n      <td>0.0</td>\n      <td>0.0</td>\n      <td>0.0</td>\n      <td>0.0</td>\n    </tr>\n    <tr>\n      <th>Iniciativa popular de Ley</th>\n      <td>0.0</td>\n      <td>1.0</td>\n      <td>0.0</td>\n      <td>0.0</td>\n      <td>0.0</td>\n      <td>0.0</td>\n      <td>0.0</td>\n      <td>0.0</td>\n      <td>2.0</td>\n      <td>0.0</td>\n      <td>0.0</td>\n      <td>0.0</td>\n      <td>2.0</td>\n      <td>0.0</td>\n      <td>0.0</td>\n      <td>2.0</td>\n      <td>0.0</td>\n      <td>0.0</td>\n      <td>0.0</td>\n    </tr>\n    <tr>\n      <th>Existencia de Tribunal Constitucional</th>\n      <td>0.0</td>\n      <td>0.0</td>\n      <td>0.0</td>\n      <td>0.0</td>\n      <td>4.0</td>\n      <td>0.0</td>\n      <td>0.0</td>\n      <td>0.0</td>\n      <td>3.0</td>\n      <td>2.0</td>\n      <td>0.0</td>\n      <td>3.0</td>\n      <td>2.0</td>\n      <td>0.0</td>\n      <td>0.0</td>\n      <td>1.0</td>\n      <td>0.0</td>\n      <td>0.0</td>\n      <td>0.0</td>\n    </tr>\n    <tr>\n      <th>Autonomía Banco Central</th>\n      <td>0.0</td>\n      <td>0.0</td>\n      <td>0.0</td>\n      <td>0.0</td>\n      <td>1.0</td>\n      <td>1.0</td>\n      <td>0.0</td>\n      <td>0.0</td>\n      <td>1.0</td>\n      <td>2.0</td>\n      <td>0.0</td>\n      <td>1.0</td>\n      <td>1.0</td>\n      <td>0.0</td>\n      <td>0.0</td>\n      <td>1.0</td>\n      <td>0.0</td>\n      <td>0.0</td>\n      <td>0.0</td>\n    </tr>\n    <tr>\n      <th>Jefatura de gobierno</th>\n      <td>0.0</td>\n      <td>0.0</td>\n      <td>0.0</td>\n      <td>0.0</td>\n      <td>1.0</td>\n      <td>0.0</td>\n      <td>0.0</td>\n      <td>0.0</td>\n      <td>2.0</td>\n      <td>0.0</td>\n      <td>0.0</td>\n      <td>0.0</td>\n      <td>4.0</td>\n      <td>0.0</td>\n      <td>0.0</td>\n      <td>5.0</td>\n      <td>1.0</td>\n      <td>0.0</td>\n      <td>0.0</td>\n    </tr>\n    <tr>\n      <th>Congreso o Parlamento Unicameral</th>\n      <td>0.0</td>\n      <td>0.0</td>\n      <td>0.0</td>\n      <td>0.0</td>\n      <td>0.0</td>\n      <td>5.0</td>\n      <td>0.0</td>\n      <td>0.0</td>\n      <td>2.0</td>\n      <td>0.0</td>\n      <td>0.0</td>\n      <td>0.0</td>\n      <td>1.0</td>\n      <td>0.0</td>\n      <td>0.0</td>\n      <td>2.0</td>\n      <td>0.0</td>\n      <td>0.0</td>\n      <td>2.0</td>\n    </tr>\n    <tr>\n      <th>Eliminacion de Tribunal Constitucional</th>\n      <td>0.0</td>\n      <td>0.0</td>\n      <td>0.0</td>\n      <td>0.0</td>\n      <td>0.0</td>\n      <td>1.0</td>\n      <td>0.0</td>\n      <td>0.0</td>\n      <td>0.0</td>\n      <td>0.0</td>\n      <td>0.0</td>\n      <td>1.0</td>\n      <td>0.0</td>\n      <td>0.0</td>\n      <td>0.0</td>\n      <td>0.0</td>\n      <td>0.0</td>\n      <td>0.0</td>\n      <td>0.0</td>\n    </tr>\n    <tr>\n      <th>Tribunal de Defensa de la Libre Competencia</th>\n      <td>0.0</td>\n      <td>0.0</td>\n      <td>0.0</td>\n      <td>0.0</td>\n      <td>0.0</td>\n      <td>0.0</td>\n      <td>1.0</td>\n      <td>0.0</td>\n      <td>1.0</td>\n      <td>0.0</td>\n      <td>0.0</td>\n      <td>2.0</td>\n      <td>0.0</td>\n      <td>0.0</td>\n      <td>0.0</td>\n      <td>0.0</td>\n      <td>0.0</td>\n      <td>0.0</td>\n      <td>0.0</td>\n    </tr>\n    <tr>\n      <th>Autonomía regional</th>\n      <td>0.0</td>\n      <td>0.0</td>\n      <td>0.0</td>\n      <td>0.0</td>\n      <td>0.0</td>\n      <td>0.0</td>\n      <td>0.0</td>\n      <td>0.0</td>\n      <td>0.0</td>\n      <td>0.0</td>\n      <td>0.0</td>\n      <td>0.0</td>\n      <td>0.0</td>\n      <td>1.0</td>\n      <td>0.0</td>\n      <td>2.0</td>\n      <td>0.0</td>\n      <td>0.0</td>\n      <td>0.0</td>\n    </tr>\n    <tr>\n      <th>Servicio Nacional de Asuntos Religiosos</th>\n      <td>0.0</td>\n      <td>0.0</td>\n      <td>0.0</td>\n      <td>0.0</td>\n      <td>0.0</td>\n      <td>0.0</td>\n      <td>0.0</td>\n      <td>0.0</td>\n      <td>0.0</td>\n      <td>0.0</td>\n      <td>0.0</td>\n      <td>0.0</td>\n      <td>0.0</td>\n      <td>0.0</td>\n      <td>0.0</td>\n      <td>0.0</td>\n      <td>0.0</td>\n      <td>0.0</td>\n      <td>0.0</td>\n    </tr>\n  </tbody>\n</table>\n</div>"
     },
     "execution_count": 19,
     "metadata": {},
     "output_type": "execute_result"
    }
   ],
   "source": [
    "df_dummy_categories_ffaa.sort_values(\n",
    "  ascending=False,\n",
    "  by = [\n",
    "    \"apoyar\",\n",
    "    \"conocer\",\n",
    "    \"conservar\",\n",
    "    \"contribuir\",\n",
    "    \"cumplir\",\n",
    "    \"decir\",\n",
    "    \"defender\",\n",
    "    \"educar\",\n",
    "    \"ejercer\",\n",
    "    \"guardar\", #\n",
    "    \"procurar\",\n",
    "    \"proteger\",\n",
    "    \"respetar\",\n",
    "    \"responder\", #\n",
    "    \"servir\",\n",
    "    \"tomar\", #\n",
    "    \"trabajar\",\n",
    "    \"usar\", #\n",
    "    \"vivir\"\n",
    "  ]\n",
    ")"
   ],
   "metadata": {
    "collapsed": false,
    "pycharm": {
     "name": "#%%\n"
    }
   }
  },
  {
   "cell_type": "code",
   "execution_count": 19,
   "outputs": [],
   "source": [],
   "metadata": {
    "collapsed": false,
    "pycharm": {
     "name": "#%%\n"
    }
   }
  },
  {
   "cell_type": "code",
   "execution_count": 19,
   "outputs": [],
   "source": [],
   "metadata": {
    "collapsed": false,
    "pycharm": {
     "name": "#%%\n"
    }
   }
  },
  {
   "cell_type": "code",
   "execution_count": 19,
   "outputs": [],
   "source": [],
   "metadata": {
    "collapsed": false,
    "pycharm": {
     "name": "#%%\n"
    }
   }
  },
  {
   "cell_type": "code",
   "execution_count": null,
   "outputs": [],
   "source": [],
   "metadata": {
    "collapsed": false,
    "pycharm": {
     "name": "#%%\n"
    }
   }
  }
 ],
 "metadata": {
  "kernelspec": {
   "display_name": "Python 3",
   "language": "python",
   "name": "python3"
  },
  "language_info": {
   "codemirror_mode": {
    "name": "ipython",
    "version": 2
   },
   "file_extension": ".py",
   "mimetype": "text/x-python",
   "name": "python",
   "nbconvert_exporter": "python",
   "pygments_lexer": "ipython2",
   "version": "2.7.6"
  }
 },
 "nbformat": 4,
 "nbformat_minor": 0
}