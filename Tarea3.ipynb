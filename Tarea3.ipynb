{
 "cells": [
  {
   "cell_type": "markdown",
   "source": [
    "# Installaciones de paquetes requeridos\n",
    "\n",
    "- LIWC: se usa este paquete para poder cargar el diccionario provisto en el directorio ```data```"
   ],
   "metadata": {
    "collapsed": false,
    "pycharm": {
     "name": "#%% md\n"
    }
   }
  },
  {
   "cell_type": "code",
   "execution_count": null,
   "outputs": [],
   "source": [
    "#%pip install liwc"
   ],
   "metadata": {
    "collapsed": false,
    "pycharm": {
     "name": "#%%\n"
    }
   }
  },
  {
   "cell_type": "code",
   "execution_count": null,
   "outputs": [],
   "source": [
    "#!python -m spacy download es_core_news_sm\n",
    "#nltk.download('punkt')\n",
    "#nltk.download('stopwords')"
   ],
   "metadata": {
    "collapsed": false,
    "pycharm": {
     "name": "#%%\n"
    }
   }
  },
  {
   "cell_type": "code",
   "execution_count": null,
   "outputs": [],
   "source": [
    "import nltk\n",
    "import string\n",
    "import re\n",
    "from collections import Counter\n",
    "import pandas as pd\n",
    "import spacy\n",
    "from itertools import compress\n",
    "import warnings\n",
    "warnings.filterwarnings(\"ignore\")\n",
    "import liwc\n",
    "parse, category_names = liwc.load_token_parser('data/dict_r.dic')"
   ],
   "metadata": {
    "collapsed": false,
    "pycharm": {
     "name": "#%%\n"
    }
   }
  },
  {
   "cell_type": "code",
   "execution_count": null,
   "outputs": [],
   "source": [
    "nlp = spacy.load('es_core_news_sm')"
   ],
   "metadata": {
    "collapsed": false,
    "pycharm": {
     "name": "#%%\n"
    }
   }
  },
  {
   "cell_type": "code",
   "execution_count": null,
   "outputs": [],
   "source": [
    "institutions = pd.read_excel('data/ELA - Instituciones.xlsx')"
   ],
   "metadata": {
    "collapsed": false,
    "pycharm": {
     "name": "#%%\n"
    }
   }
  },
  {
   "cell_type": "markdown",
   "source": [
    "# Preprocesamiento\n",
    "\n",
    "Este proceso se realiza con el fin de poder modificar o eliminar algunos componentes dentro de los corpus de texto:\n",
    "- convierte todos los corpus a minuscula\n",
    "- elimina signos de punctuacion\n",
    "- elimina espacios en blanco dentro del corpus\n",
    "- elimina posibles saltos de linea\n",
    "- selecciona solo corpus que tienen mas de una palabra"
   ],
   "metadata": {
    "collapsed": false,
    "pycharm": {
     "name": "#%% md\n"
    }
   }
  },
  {
   "cell_type": "code",
   "execution_count": null,
   "outputs": [],
   "source": [
    "def preprocess(df, concept = None, all_less_concept = None):\n",
    "  institutions = df\n",
    "  if concept is not None:\n",
    "    institutions = institutions[institutions[\"categoria\"] == concept]\n",
    "\n",
    "  if all_less_concept is not None:\n",
    "    institutions = institutions[institutions[\"categoria\"] != all_less_concept]\n",
    "\n",
    "  institutions['fundamento'] = institutions['fundamento'].str.lower()\n",
    "  institutions['fundamento'] = institutions['fundamento'].str.translate(str.maketrans(' ', ' ', string.punctuation))\n",
    "  institutions['fundamento'] = institutions['fundamento'].str.strip()\n",
    "  institutions['fundamento'] = institutions['fundamento'].str.replace('\\n', ' ')\n",
    "\n",
    "  institutions = institutions[[len(str(x).split()) > 2 for x in institutions.fundamento]]\n",
    "  return institutions.reset_index(drop=True)"
   ],
   "metadata": {
    "collapsed": false,
    "pycharm": {
     "name": "#%%\n"
    }
   }
  },
  {
   "cell_type": "markdown",
   "source": [
    "# Eleccion de concepto target\n",
    "\n",
    "Se elige el concepto de **Fuerzas Armadas** como concepto target para trabajar en el procesamiento, para ser cargado dentro del dataframe ```institutions_ffaa```"
   ],
   "metadata": {
    "collapsed": false,
    "pycharm": {
     "name": "#%% md\n"
    }
   }
  },
  {
   "cell_type": "code",
   "execution_count": null,
   "outputs": [],
   "source": [
    "institutions_ffaa = preprocess(institutions, \"Fuerzas Armadas\")"
   ],
   "metadata": {
    "collapsed": false,
    "pycharm": {
     "name": "#%%\n"
    }
   }
  },
  {
   "cell_type": "markdown",
   "source": [
    "# Carga y preprocesamiento de todos los conceptos, menos el concepto target\n",
    "\n",
    "Se cargan todos los conceptos, menos el concepto target (en este caso **Fuerzas Armadas**) para ser cargados en el dataframe ```institutions_less_ffaa```"
   ],
   "metadata": {
    "collapsed": false,
    "pycharm": {
     "name": "#%% md\n"
    }
   }
  },
  {
   "cell_type": "code",
   "execution_count": null,
   "outputs": [],
   "source": [
    "institutions_less_ffaa = preprocess(institutions, all_less_concept = \"Fuerzas Armadas\")"
   ],
   "metadata": {
    "collapsed": false,
    "pycharm": {
     "name": "#%%\n"
    }
   }
  },
  {
   "cell_type": "markdown",
   "source": [
    "# Carga y preprocesamiento de todos los conceptos\n",
    "\n",
    "Se cargan todos los conceptos, incluido el concepto target (en este caso **Fuerzas Armadas**) para ser cargados en el dataframe ```institutions_all```"
   ],
   "metadata": {
    "collapsed": false,
    "pycharm": {
     "name": "#%% md\n"
    }
   }
  },
  {
   "cell_type": "code",
   "execution_count": null,
   "outputs": [],
   "source": [
    "institutions_all = preprocess(institutions)"
   ],
   "metadata": {
    "collapsed": false,
    "pycharm": {
     "name": "#%%\n"
    }
   }
  },
  {
   "cell_type": "markdown",
   "source": [
    "### 1 - Construccion de diccionario\n",
    "\n",
    "Se construye el diccionario con el concepto target **Fuerzas Armadas** para parear las palabras de los corpus, con termino del diccionario cargado en ```data/dict_r.dic```.\n",
    "Por cada corpus se cuenta la cantidad de veces que se repite el termino del diccionario."
   ],
   "metadata": {
    "collapsed": false,
    "pycharm": {
     "name": "#%% md\n"
    }
   }
  },
  {
   "cell_type": "code",
   "execution_count": null,
   "outputs": [
    {
     "data": {
      "text/plain": "       termino  count\n0     proteger     73\n2     defender     58\n9     respetar     25\n8      cumplir     21\n13       decir     15\n7      ejercer     13\n5   contribuir     12\n3    responder      9\n11    trabajar      5\n12    procurar      5\n4         usar      4\n1       apoyar      4\n15     conocer      4\n16      servir      3\n14       tomar      2\n6        vivir      1\n10      educar      1\n17     guardar      1\n18   conservar      1",
      "text/html": "<div>\n<style scoped>\n    .dataframe tbody tr th:only-of-type {\n        vertical-align: middle;\n    }\n\n    .dataframe tbody tr th {\n        vertical-align: top;\n    }\n\n    .dataframe thead th {\n        text-align: right;\n    }\n</style>\n<table border=\"1\" class=\"dataframe\">\n  <thead>\n    <tr style=\"text-align: right;\">\n      <th></th>\n      <th>termino</th>\n      <th>count</th>\n    </tr>\n  </thead>\n  <tbody>\n    <tr>\n      <th>0</th>\n      <td>proteger</td>\n      <td>73</td>\n    </tr>\n    <tr>\n      <th>2</th>\n      <td>defender</td>\n      <td>58</td>\n    </tr>\n    <tr>\n      <th>9</th>\n      <td>respetar</td>\n      <td>25</td>\n    </tr>\n    <tr>\n      <th>8</th>\n      <td>cumplir</td>\n      <td>21</td>\n    </tr>\n    <tr>\n      <th>13</th>\n      <td>decir</td>\n      <td>15</td>\n    </tr>\n    <tr>\n      <th>7</th>\n      <td>ejercer</td>\n      <td>13</td>\n    </tr>\n    <tr>\n      <th>5</th>\n      <td>contribuir</td>\n      <td>12</td>\n    </tr>\n    <tr>\n      <th>3</th>\n      <td>responder</td>\n      <td>9</td>\n    </tr>\n    <tr>\n      <th>11</th>\n      <td>trabajar</td>\n      <td>5</td>\n    </tr>\n    <tr>\n      <th>12</th>\n      <td>procurar</td>\n      <td>5</td>\n    </tr>\n    <tr>\n      <th>4</th>\n      <td>usar</td>\n      <td>4</td>\n    </tr>\n    <tr>\n      <th>1</th>\n      <td>apoyar</td>\n      <td>4</td>\n    </tr>\n    <tr>\n      <th>15</th>\n      <td>conocer</td>\n      <td>4</td>\n    </tr>\n    <tr>\n      <th>16</th>\n      <td>servir</td>\n      <td>3</td>\n    </tr>\n    <tr>\n      <th>14</th>\n      <td>tomar</td>\n      <td>2</td>\n    </tr>\n    <tr>\n      <th>6</th>\n      <td>vivir</td>\n      <td>1</td>\n    </tr>\n    <tr>\n      <th>10</th>\n      <td>educar</td>\n      <td>1</td>\n    </tr>\n    <tr>\n      <th>17</th>\n      <td>guardar</td>\n      <td>1</td>\n    </tr>\n    <tr>\n      <th>18</th>\n      <td>conservar</td>\n      <td>1</td>\n    </tr>\n  </tbody>\n</table>\n</div>"
     },
     "execution_count": 9,
     "metadata": {},
     "output_type": "execute_result"
    }
   ],
   "source": [
    "df = pd.DataFrame()\n",
    "l_derechos = []\n",
    "\n",
    "for ix in range(institutions_ffaa.shape[0]):\n",
    "  texto = str(institutions_ffaa.fundamento[ix]).lower()\n",
    "  doc = nlp(texto)\n",
    "  tokens = [word.orth_ for word in doc]\n",
    "  tcounts1 = Counter(category for token in tokens for category in parse(token))\n",
    "  word_derechos = list(compress(tokens, ['derechos' in parse(token) for token in tokens]))\n",
    "  df_counts = pd.DataFrame.from_dict([tcounts1]).reset_index()\n",
    "  df_counts['index'] = ix\n",
    "  df_counts['texto'] = texto\n",
    "  df_counts['word_derechos'] =  ['' if len(word_derechos) == 0 else word_derechos]\n",
    "  df = pd.concat([df,df_counts], axis=0, ignore_index=True)\n",
    "\n",
    "  if len(word_derechos)>0:\n",
    "        l_derechos.extend(word_derechos)\n",
    "\n",
    "df_concept_ffaa = pd.DataFrame.from_dict(Counter(l_derechos), orient = 'index').reset_index()\n",
    "df_concept_ffaa = df_concept_ffaa.rename(columns = {'index' : 'termino', 0 : 'count'})\n",
    "df_concept_ffaa.sort_values('count', ascending = False)[0:20]"
   ],
   "metadata": {
    "collapsed": false,
    "pycharm": {
     "name": "#%%\n"
    }
   }
  },
  {
   "cell_type": "markdown",
   "source": [
    "### 2 (1) - Verificacion/Validacion diccionario"
   ],
   "metadata": {
    "collapsed": false,
    "pycharm": {
     "name": "#%% md\n"
    }
   }
  },
  {
   "cell_type": "markdown",
   "source": [
    "### Diccionario original\n",
    "\n",
    "Se dejan los terminos cargados en el diccionario ```dict_r.dic``` y pareados con cada corpus del concepto **Fuerzas Armadas**. Con esto se obtiene la cantidad (ordenada de mayor a menor) de veces en que estos aparecen dentro de cada corpus procesado con el concepto target **Fuerzas Armadas**"
   ],
   "metadata": {
    "collapsed": false,
    "pycharm": {
     "name": "#%% md\n"
    }
   }
  },
  {
   "cell_type": "code",
   "execution_count": null,
   "outputs": [
    {
     "data": {
      "text/plain": "       termino  count\n0     proteger     73\n2     defender     58\n9     respetar     25\n8      cumplir     21\n13       decir     15\n7      ejercer     13\n5   contribuir     12\n3    responder      9\n11    trabajar      5\n12    procurar      5\n4         usar      4\n1       apoyar      4\n15     conocer      4\n16      servir      3\n14       tomar      2\n6        vivir      1\n10      educar      1\n17     guardar      1\n18   conservar      1",
      "text/html": "<div>\n<style scoped>\n    .dataframe tbody tr th:only-of-type {\n        vertical-align: middle;\n    }\n\n    .dataframe tbody tr th {\n        vertical-align: top;\n    }\n\n    .dataframe thead th {\n        text-align: right;\n    }\n</style>\n<table border=\"1\" class=\"dataframe\">\n  <thead>\n    <tr style=\"text-align: right;\">\n      <th></th>\n      <th>termino</th>\n      <th>count</th>\n    </tr>\n  </thead>\n  <tbody>\n    <tr>\n      <th>0</th>\n      <td>proteger</td>\n      <td>73</td>\n    </tr>\n    <tr>\n      <th>2</th>\n      <td>defender</td>\n      <td>58</td>\n    </tr>\n    <tr>\n      <th>9</th>\n      <td>respetar</td>\n      <td>25</td>\n    </tr>\n    <tr>\n      <th>8</th>\n      <td>cumplir</td>\n      <td>21</td>\n    </tr>\n    <tr>\n      <th>13</th>\n      <td>decir</td>\n      <td>15</td>\n    </tr>\n    <tr>\n      <th>7</th>\n      <td>ejercer</td>\n      <td>13</td>\n    </tr>\n    <tr>\n      <th>5</th>\n      <td>contribuir</td>\n      <td>12</td>\n    </tr>\n    <tr>\n      <th>3</th>\n      <td>responder</td>\n      <td>9</td>\n    </tr>\n    <tr>\n      <th>11</th>\n      <td>trabajar</td>\n      <td>5</td>\n    </tr>\n    <tr>\n      <th>12</th>\n      <td>procurar</td>\n      <td>5</td>\n    </tr>\n    <tr>\n      <th>4</th>\n      <td>usar</td>\n      <td>4</td>\n    </tr>\n    <tr>\n      <th>1</th>\n      <td>apoyar</td>\n      <td>4</td>\n    </tr>\n    <tr>\n      <th>15</th>\n      <td>conocer</td>\n      <td>4</td>\n    </tr>\n    <tr>\n      <th>16</th>\n      <td>servir</td>\n      <td>3</td>\n    </tr>\n    <tr>\n      <th>14</th>\n      <td>tomar</td>\n      <td>2</td>\n    </tr>\n    <tr>\n      <th>6</th>\n      <td>vivir</td>\n      <td>1</td>\n    </tr>\n    <tr>\n      <th>10</th>\n      <td>educar</td>\n      <td>1</td>\n    </tr>\n    <tr>\n      <th>17</th>\n      <td>guardar</td>\n      <td>1</td>\n    </tr>\n    <tr>\n      <th>18</th>\n      <td>conservar</td>\n      <td>1</td>\n    </tr>\n  </tbody>\n</table>\n</div>"
     },
     "execution_count": 10,
     "metadata": {},
     "output_type": "execute_result"
    }
   ],
   "source": [
    "df_concept_ffaa.sort_values(by = [\"count\"], ascending = False)"
   ],
   "metadata": {
    "collapsed": false,
    "pycharm": {
     "name": "#%%\n"
    }
   }
  },
  {
   "cell_type": "markdown",
   "source": [
    "### 3 (1) - Desempeño diccionario\n",
    "\n",
    "De los terminos propuestos en el procesamiento del punto **2 (1) - Verificacion/Validacion diccionario**, se genera una matriz de verificacion por todos los conceptos de la base de datos ```ELA - Instituciones.xlsx```. Todos los conceptos seran sumados al indicador, de acuerdo a cuantas veces se repita dicho termino del diccionario, dentro de la frase de cada concepto dentro de la base ```ELA - Instituciones.xlsx```"
   ],
   "metadata": {
    "collapsed": false,
    "pycharm": {
     "name": "#%% md\n"
    }
   }
  },
  {
   "cell_type": "code",
   "execution_count": null,
   "outputs": [
    {
     "name": "stderr",
     "output_type": "stream",
     "text": [
      "\n",
      "KeyboardInterrupt\n",
      "\n"
     ]
    }
   ],
   "source": [
    "df_dummy_categories_ffaa = pd.get_dummies(df_concept_ffaa.groupby(by = ['termino']).count().reset_index()['termino'])\n",
    "df_dummy_categories_ffaa = df_dummy_categories_ffaa[0:0]\n",
    "df_institutions_all_group = institutions_all.groupby(by = ['categoria']).count().reset_index()['categoria']\n",
    "df_dummy_categories_ffaa['categoria'] = df_institutions_all_group\n",
    "\n",
    "df_dummy_categories_ffaa = df_dummy_categories_ffaa.set_index(\"categoria\")\n",
    "\n",
    "for col in df_dummy_categories_ffaa.columns:\n",
    "    df_dummy_categories_ffaa[col].values[:] = 0\n",
    "\n",
    "for index, row in institutions_all.iterrows():\n",
    "  for i, v in df_dummy_categories_ffaa.loc[row['categoria']].items():\n",
    "    df_dummy_categories_ffaa.loc[row['categoria']][i] = df_dummy_categories_ffaa.loc[row['categoria']][i] + row['fundamento'].count(i)"
   ],
   "metadata": {
    "collapsed": false,
    "pycharm": {
     "name": "#%%\n"
    }
   }
  },
  {
   "cell_type": "code",
   "execution_count": null,
   "outputs": [],
   "source": [
    "df_dummy_categories_ffaa['suma'] = \\\n",
    "  df_dummy_categories_ffaa['apoyar'] + \\\n",
    "  df_dummy_categories_ffaa['conocer'] + \\\n",
    "  df_dummy_categories_ffaa['conservar'] + \\\n",
    "  df_dummy_categories_ffaa['contribuir'] + \\\n",
    "  df_dummy_categories_ffaa['cumplir'] + \\\n",
    "  df_dummy_categories_ffaa['decir'] + \\\n",
    "  df_dummy_categories_ffaa['defender'] + \\\n",
    "  df_dummy_categories_ffaa['educar'] + \\\n",
    "  df_dummy_categories_ffaa['ejercer'] + \\\n",
    "  df_dummy_categories_ffaa['guardar'] + \\\n",
    "  df_dummy_categories_ffaa['procurar'] + \\\n",
    "  df_dummy_categories_ffaa['proteger'] + \\\n",
    "  df_dummy_categories_ffaa['respetar'] + \\\n",
    "  df_dummy_categories_ffaa['responder'] + \\\n",
    "  df_dummy_categories_ffaa['servir'] + \\\n",
    "  df_dummy_categories_ffaa['tomar'] + \\\n",
    "  df_dummy_categories_ffaa['trabajar'] + \\\n",
    "  df_dummy_categories_ffaa['usar'] + \\\n",
    "  df_dummy_categories_ffaa['vivir']\n",
    "\n",
    "df_dummy_categories_ffaa.sort_values(by = ['suma'], ascending = False)"
   ],
   "metadata": {
    "collapsed": false,
    "pycharm": {
     "name": "#%%\n"
    }
   }
  },
  {
   "cell_type": "markdown",
   "source": [
    "_______________________________________________________________________________"
   ],
   "metadata": {
    "collapsed": false,
    "pycharm": {
     "name": "#%% md\n"
    }
   }
  },
  {
   "cell_type": "markdown",
   "source": [
    "### 2 (2) - Diccionario luego del procesamiento del punto 3 (Desempeño diccionario)\n",
    "Luego del proceso del punto 3, se sacan los terminos:\n",
    "- guardar\n",
    "- responder\n",
    "- tomar\n",
    "- usar"
   ],
   "metadata": {
    "collapsed": false,
    "pycharm": {
     "name": "#%% md\n"
    }
   }
  },
  {
   "cell_type": "code",
   "execution_count": null,
   "outputs": [],
   "source": [
    "df_concept_ffaa_ = df_concept_ffaa.drop(df_concept_ffaa[df_concept_ffaa[\"termino\"] == \"vivir\"].index)\n",
    "df_concept_ffaa_ = df_concept_ffaa.drop(df_concept_ffaa[df_concept_ffaa[\"termino\"] == \"educar\"].index)\n",
    "df_concept_ffaa_ = df_concept_ffaa.drop(df_concept_ffaa[df_concept_ffaa[\"termino\"] == \"guardar\"].index)\n",
    "df_concept_ffaa_ = df_concept_ffaa.drop(df_concept_ffaa[df_concept_ffaa[\"termino\"] == \"conservar\"].index)\n",
    "\n",
    "df_concept_ffaa_.sort_values(by = [\"count\"], ascending = False)"
   ],
   "metadata": {
    "collapsed": false,
    "pycharm": {
     "name": "#%%\n"
    }
   }
  },
  {
   "cell_type": "markdown",
   "source": [
    "### 3 (2) - Desempeño diccionario (con diccionario sin algunos terminos)\n",
    "\n",
    "De los terminos propuestos en el procesamiento del punto 2 (2) - Verificacion/Validacion diccionario, se genera una matriz de verificacion por todos los conceptos de la base de datos ```ELA - Instituciones.xlsx```, con la savedad de eliminacion de terminos como **guardar**, **responder**, **tomar**, **usar**. Estos terminos son eliminados del procesamiento, tomando el significado bajo juicio experto, para poder tener terminos mas acordes a . Todos los conceptos seran sumados al indicador, de acuerdo a cuantas veces se repita dicho termino del diccionario, dentro de la frase de cada concepto dentro de la base ```ELA - Instituciones.xlsx```"
   ],
   "metadata": {
    "collapsed": false,
    "pycharm": {
     "name": "#%% md\n"
    }
   }
  },
  {
   "cell_type": "code",
   "execution_count": null,
   "outputs": [],
   "source": [
    "df_dummy_categories_ffaa_ = pd.get_dummies(df_concept_ffaa_.groupby(by = ['termino']).count().reset_index()['termino'])\n",
    "df_dummy_categories_ffaa_ = df_dummy_categories_ffaa_[0:0]\n",
    "df_institutions_all_group_ = institutions_all.groupby(by = ['categoria']).count().reset_index()['categoria']\n",
    "df_dummy_categories_ffaa_['categoria'] = df_institutions_all_group_\n",
    "\n",
    "df_dummy_categories_ffaa_ = df_dummy_categories_ffaa_.set_index(\"categoria\")\n",
    "\n",
    "for col in df_dummy_categories_ffaa_.columns:\n",
    "    df_dummy_categories_ffaa_[col].values[:] = 0\n",
    "\n",
    "for index, row in institutions_all.iterrows():\n",
    "  for i, v in df_dummy_categories_ffaa_.loc[row['categoria']].items():\n",
    "    df_dummy_categories_ffaa_.loc[row['categoria']][i] = df_dummy_categories_ffaa_.loc[row['categoria']][i] + row['fundamento'].count(i)\n",
    "\n"
   ],
   "metadata": {
    "collapsed": false,
    "pycharm": {
     "name": "#%%\n"
    }
   }
  },
  {
   "cell_type": "code",
   "execution_count": null,
   "outputs": [],
   "source": [
    "df_dummy_categories_ffaa['suma'] = \\\n",
    "  df_dummy_categories_ffaa['apoyar'] + \\\n",
    "  df_dummy_categories_ffaa['conocer'] + \\\n",
    "  df_dummy_categories_ffaa['contribuir'] + \\\n",
    "  df_dummy_categories_ffaa['cumplir'] + \\\n",
    "  df_dummy_categories_ffaa['decir'] + \\\n",
    "  df_dummy_categories_ffaa['defender'] + \\\n",
    "  df_dummy_categories_ffaa['ejercer'] + \\\n",
    "  df_dummy_categories_ffaa['procurar'] + \\\n",
    "  df_dummy_categories_ffaa['proteger'] + \\\n",
    "  df_dummy_categories_ffaa['respetar'] + \\\n",
    "  df_dummy_categories_ffaa['responder'] + \\\n",
    "  df_dummy_categories_ffaa['servir'] + \\\n",
    "  df_dummy_categories_ffaa['tomar'] + \\\n",
    "  df_dummy_categories_ffaa['trabajar'] + \\\n",
    "  df_dummy_categories_ffaa['usar']\n",
    "\n",
    "df_dummy_categories_ffaa.sort_values(by = ['suma'], ascending = False)"
   ],
   "metadata": {
    "collapsed": false,
    "pycharm": {
     "name": "#%%\n"
    }
   }
  },
  {
   "cell_type": "code",
   "execution_count": null,
   "outputs": [],
   "source": [],
   "metadata": {
    "collapsed": false,
    "pycharm": {
     "name": "#%%\n"
    }
   }
  },
  {
   "cell_type": "code",
   "execution_count": null,
   "outputs": [],
   "source": [],
   "metadata": {
    "collapsed": false,
    "pycharm": {
     "name": "#%%\n"
    }
   }
  }
 ],
 "metadata": {
  "kernelspec": {
   "display_name": "Python 3",
   "language": "python",
   "name": "python3"
  },
  "language_info": {
   "codemirror_mode": {
    "name": "ipython",
    "version": 2
   },
   "file_extension": ".py",
   "mimetype": "text/x-python",
   "name": "python",
   "nbconvert_exporter": "python",
   "pygments_lexer": "ipython2",
   "version": "2.7.6"
  }
 },
 "nbformat": 4,
 "nbformat_minor": 0
}