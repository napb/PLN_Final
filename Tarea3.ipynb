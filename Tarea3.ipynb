{
 "cells": [
  {
   "cell_type": "code",
   "execution_count": 12,
   "outputs": [],
   "source": [
    "#%pip install liwc"
   ],
   "metadata": {
    "collapsed": false,
    "pycharm": {
     "name": "#%%\n"
    }
   }
  },
  {
   "cell_type": "code",
   "execution_count": 1,
   "outputs": [],
   "source": [
    "import nltk\n",
    "import string\n",
    "import re\n",
    "from collections import Counter\n",
    "import pandas as pd\n",
    "import spacy\n",
    "from itertools import compress\n",
    "import liwc\n",
    "parse, category_names = liwc.load_token_parser('data/dict_r.dic')"
   ],
   "metadata": {
    "collapsed": false,
    "pycharm": {
     "name": "#%%\n"
    }
   }
  },
  {
   "cell_type": "code",
   "execution_count": 2,
   "outputs": [],
   "source": [
    "#!python -m spacy download es_core_news_sm\n",
    "#nltk.download('punkt')\n",
    "#nltk.download('stopwords')"
   ],
   "metadata": {
    "collapsed": false,
    "pycharm": {
     "name": "#%%\n"
    }
   }
  },
  {
   "cell_type": "code",
   "execution_count": 3,
   "outputs": [],
   "source": [
    "nlp = spacy.load('es_core_news_sm')"
   ],
   "metadata": {
    "collapsed": false,
    "pycharm": {
     "name": "#%%\n"
    }
   }
  },
  {
   "cell_type": "code",
   "execution_count": 4,
   "outputs": [],
   "source": [
    "def preprocess(institutions, concept_name):\n",
    "  institutions = institutions[institutions[\"categoria\"] == concept_name]\n",
    "  institutions['fundamento'] = institutions['fundamento'].str.lower()\n",
    "  institutions['fundamento'] = institutions['fundamento'].apply(lambda x: re.sub(\"[0-9]\", '', x))\n",
    "  institutions['fundamento'] = institutions['fundamento'].str.translate(str.maketrans(' ', ' ', string.punctuation))\n",
    "  institutions['fundamento'] = institutions['fundamento'].str.strip()\n",
    "  institutions['fundamento'] = institutions['fundamento'].str.replace('\\n', ' ')\n",
    "  institutions['fundamento'] = institutions['fundamento'].str.replace('...', '')\n",
    "  institutions['fundamento'] = institutions['fundamento'].str.replace('  ', ' ')\n",
    "  institutions['fundamento'] = institutions['fundamento'].str.replace('   ', ' ')\n",
    "  institutions['fundamento'] = institutions['fundamento'].str.replace('    ', ' ')\n",
    "  institutions['fundamento'] = institutions['fundamento'].str.replace('     ', ' ')\n",
    "\n",
    "  institutions = institutions[[len(x.split()) > 2 for x in institutions.fundamento]]\n",
    "  institutions = institutions.reset_index(drop=True)\n",
    "\n",
    "  return institutions"
   ],
   "metadata": {
    "collapsed": false,
    "pycharm": {
     "name": "#%%\n"
    }
   }
  },
  {
   "cell_type": "code",
   "execution_count": 5,
   "outputs": [],
   "source": [
    "institutions = pd.read_excel('data/ELA - Instituciones.xlsx')"
   ],
   "metadata": {
    "collapsed": false,
    "pycharm": {
     "name": "#%%\n"
    }
   }
  },
  {
   "cell_type": "code",
   "execution_count": 6,
   "outputs": [],
   "source": [
    "nlp = spacy.load('es_core_news_sm')"
   ],
   "metadata": {
    "collapsed": false,
    "pycharm": {
     "name": "#%%\n"
    }
   }
  },
  {
   "cell_type": "code",
   "execution_count": 12,
   "outputs": [
    {
     "name": "stdout",
     "output_type": "stream",
     "text": [
      "CPU times: user 6min 30s, sys: 2.3 s, total: 6min 32s\n",
      "Wall time: 6min 33s\n"
     ]
    }
   ],
   "source": [
    "%%time\n",
    "\n",
    "df = pd.DataFrame()\n",
    "l_derechos = []\n",
    "\n",
    "for ix in range(institutions.shape[0]):\n",
    "  texto = str(institutions.fundamento[ix]).lower()\n",
    "  doc = nlp(texto)\n",
    "  tokens = [word.orth_ for word in doc]\n",
    "  tcounts1 = Counter(category for token in tokens for category in parse(token))\n",
    "  palabras_derechos = list(compress(tokens, ['derechos' in parse(token) for token in tokens]))\n",
    "  df_counts = pd.DataFrame.from_dict([tcounts1]).reset_index()\n",
    "  df_counts['index'] = ix\n",
    "  df_counts['texto'] = texto\n",
    "  df_counts['word_derechos'] =  ['' if len(palabras_derechos)==0 else palabras_derechos]\n",
    "  df = pd.concat([df,df_counts], axis=0, ignore_index=True)\n",
    "\n",
    "  if len(palabras_derechos)>0:\n",
    "        l_derechos.extend(palabras_derechos)"
   ],
   "metadata": {
    "collapsed": false,
    "pycharm": {
     "name": "#%%\n"
    }
   }
  },
  {
   "cell_type": "code",
   "execution_count": 11,
   "outputs": [
    {
     "data": {
      "text/plain": "          term  count\n13    defender    398\n1        tomar    367\n6      ejercer    321\n0      cumplir    320\n10    proteger    311\n5     respetar    165\n7      conocer    141\n3        decir    108\n4     trabajar    104\n2    responder     85\n8        vivir     61\n9       apoyar     58\n12  contribuir     39\n14   conservar     29\n19        usar     24\n16      servir     22\n18    procurar     19\n15      educar     18\n17     ahorrar     10\n22    adquirir      7",
      "text/html": "<div>\n<style scoped>\n    .dataframe tbody tr th:only-of-type {\n        vertical-align: middle;\n    }\n\n    .dataframe tbody tr th {\n        vertical-align: top;\n    }\n\n    .dataframe thead th {\n        text-align: right;\n    }\n</style>\n<table border=\"1\" class=\"dataframe\">\n  <thead>\n    <tr style=\"text-align: right;\">\n      <th></th>\n      <th>term</th>\n      <th>count</th>\n    </tr>\n  </thead>\n  <tbody>\n    <tr>\n      <th>13</th>\n      <td>defender</td>\n      <td>398</td>\n    </tr>\n    <tr>\n      <th>1</th>\n      <td>tomar</td>\n      <td>367</td>\n    </tr>\n    <tr>\n      <th>6</th>\n      <td>ejercer</td>\n      <td>321</td>\n    </tr>\n    <tr>\n      <th>0</th>\n      <td>cumplir</td>\n      <td>320</td>\n    </tr>\n    <tr>\n      <th>10</th>\n      <td>proteger</td>\n      <td>311</td>\n    </tr>\n    <tr>\n      <th>5</th>\n      <td>respetar</td>\n      <td>165</td>\n    </tr>\n    <tr>\n      <th>7</th>\n      <td>conocer</td>\n      <td>141</td>\n    </tr>\n    <tr>\n      <th>3</th>\n      <td>decir</td>\n      <td>108</td>\n    </tr>\n    <tr>\n      <th>4</th>\n      <td>trabajar</td>\n      <td>104</td>\n    </tr>\n    <tr>\n      <th>2</th>\n      <td>responder</td>\n      <td>85</td>\n    </tr>\n    <tr>\n      <th>8</th>\n      <td>vivir</td>\n      <td>61</td>\n    </tr>\n    <tr>\n      <th>9</th>\n      <td>apoyar</td>\n      <td>58</td>\n    </tr>\n    <tr>\n      <th>12</th>\n      <td>contribuir</td>\n      <td>39</td>\n    </tr>\n    <tr>\n      <th>14</th>\n      <td>conservar</td>\n      <td>29</td>\n    </tr>\n    <tr>\n      <th>19</th>\n      <td>usar</td>\n      <td>24</td>\n    </tr>\n    <tr>\n      <th>16</th>\n      <td>servir</td>\n      <td>22</td>\n    </tr>\n    <tr>\n      <th>18</th>\n      <td>procurar</td>\n      <td>19</td>\n    </tr>\n    <tr>\n      <th>15</th>\n      <td>educar</td>\n      <td>18</td>\n    </tr>\n    <tr>\n      <th>17</th>\n      <td>ahorrar</td>\n      <td>10</td>\n    </tr>\n    <tr>\n      <th>22</th>\n      <td>adquirir</td>\n      <td>7</td>\n    </tr>\n  </tbody>\n</table>\n</div>"
     },
     "execution_count": 11,
     "metadata": {},
     "output_type": "execute_result"
    }
   ],
   "source": [
    "df_MFD_invir = pd.DataFrame.from_dict(Counter(l_derechos), orient = 'index').reset_index()\n",
    "df_MFD_invir = df_MFD_invir.rename(columns = {'index':'term', 0:'count'})\n",
    "df_MFD_invir.sort_values('count', ascending = False)[0:20]"
   ],
   "metadata": {
    "collapsed": false,
    "pycharm": {
     "name": "#%%\n"
    }
   }
  },
  {
   "cell_type": "code",
   "execution_count": null,
   "outputs": [],
   "source": [],
   "metadata": {
    "collapsed": false,
    "pycharm": {
     "name": "#%%\n"
    }
   }
  }
 ],
 "metadata": {
  "kernelspec": {
   "display_name": "Python 3",
   "language": "python",
   "name": "python3"
  },
  "language_info": {
   "codemirror_mode": {
    "name": "ipython",
    "version": 2
   },
   "file_extension": ".py",
   "mimetype": "text/x-python",
   "name": "python",
   "nbconvert_exporter": "python",
   "pygments_lexer": "ipython2",
   "version": "2.7.6"
  }
 },
 "nbformat": 4,
 "nbformat_minor": 0
}