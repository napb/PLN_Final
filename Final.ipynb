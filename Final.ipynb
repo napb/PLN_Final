{
 "cells": [
  {
   "cell_type": "code",
   "execution_count": 1,
   "outputs": [],
   "source": [
    "import re\n",
    "from unicodedata import normalize\n",
    "\n",
    "import gensim\n",
    "import spacy\n",
    "from gensim import corpora\n",
    "from gensim import models\n",
    "from nltk import word_tokenize\n",
    "from nltk.corpus import stopwords\n",
    "\n",
    "import pandas as pd"
   ],
   "metadata": {
    "collapsed": false,
    "pycharm": {
     "name": "#%%\n"
    }
   }
  },
  {
   "cell_type": "code",
   "execution_count": 2,
   "outputs": [],
   "source": [
    "nlp = spacy.load('es_core_news_sm')"
   ],
   "metadata": {
    "collapsed": false,
    "pycharm": {
     "name": "#%%\n"
    }
   }
  },
  {
   "cell_type": "markdown",
   "source": [
    "### Apertura archivo y preprocesamiento"
   ],
   "metadata": {
    "collapsed": false,
    "pycharm": {
     "name": "#%% md\n"
    }
   }
  },
  {
   "cell_type": "code",
   "execution_count": 3,
   "outputs": [],
   "source": [
    "with open(\"data/nc_ch.txt\", \"r\") as file:\n",
    "    data = file.read()\n",
    "    data = data.lower()\n",
    "    data = data.replace(\"\\n\", \" \")\n",
    "    data = re.sub(\"\\d+\", \"\", data)\n",
    "    data = normalize('NFC', re.sub(r\"([^n\\u0300-\\u036f]|n(?!\\u0303(?![\\u0300-\\u036f])))[\\u0300-\\u036f]+\", r\"\\1\", normalize(\"NFD\", data), 0, re.I))\n",
    "    data = data.replace(\"articulo  \", \" \")\n",
    "    data = data.replace(\"articulo   \", \" \")\n",
    "    data = data.replace(\"  \", \" \")\n",
    "    data = data.replace(\"   \", \" \")\n",
    "    data = data.replace(\"       \", \" \")\n",
    "\n",
    "    data = data.replace(\"   constitucion politica de la republica constitucion politica de la republica  \", \" \")\n",
    "    data = data.replace(\"constitucion politica de la republica de chile\", \" \")\n",
    "    data = data.replace(\"capitulo i – principios generales\", \" \")\n",
    "    data = data.replace(\"capitulo i principios y disposiciones generales\", \" \")\n",
    "    data = data.replace(\"capitulo ii – derechos fundamentales y garantias\", \" \")\n",
    "    data = data.replace(\"capitulo ii derechos fundamentales y garantias\", \" \")\n",
    "    data = data.replace(\"capitulo iii – naturaleza y medioambiente\", \" \")\n",
    "    data = data.replace(\"capitulo iii naturaleza y medioambiente\", \" \")\n",
    "    data = data.replace(\"capitulo iv participacion democratica\", \" \")\n",
    "    data = data.replace(\"capitulo v buen gobierno y funcion publica\", \" \")\n",
    "    data = data.replace(\"capitulo v – buen gobierno y funcion publica\", \" \")\n",
    "    data = data.replace(\"capitulo iv – participacion democratica\", \" \")\n",
    "    data = data.replace(\"capitulo vi – estado regional y organizacion territorial\", \" \")\n",
    "    data = data.replace(\"capitulo vi estado regional y organizacion territorial\", \" \")\n",
    "    data = data.replace(\"capitulo vii poder legislativo\", \" \")\n",
    "    data = data.replace(\"capitulo vii poder legislativo congreso de diputadas y diputados\", \" \")\n",
    "    data = data.replace(\" capitulo vii poder legislativo congreso de diputadas y diputados  \", \" \")\n",
    "    data = data.replace(\"capitulo vii – poder legislativo\", \" \")\n",
    "    data = data.replace(\"capitulo viii poder ejecutivo\", \" \")\n",
    "    data = data.replace(\"capitulo viii – poder ejecutivo\", \" \")\n",
    "    data = data.replace(\"capitulo ix – sistemas de justicia\", \" \")\n",
    "    data = data.replace(\"capitulo ix sistemas de justicia\", \" \")\n",
    "    data = data.replace(\"capitulo x organos autonomos constitucionales\", \" \")\n",
    "    data = data.replace(\"capitulo x – organos autonomos constitucionales\", \" \")\n",
    "    data = data.replace(\"capitulo xi – reforma y reemplazo de la constitucion\", \" \")\n",
    "    data = data.replace(\"capitulo xi – reforma y reemplazo de la constitucion\", \" \")\n",
    "    data = data.replace(\"capitulo xi reforma y reemplazo de la constitucion reforma constitucional\", \" \")\n",
    "    data = data.replace(\"capitulo xi reforma y reemplazo de la constitucion reforma constitucional  \", \" \")\n",
    "    data = data.translate(str.maketrans(' ', ' ', '!\"#$%&\\'()*+,-/:;<=>?@[\\\\]^_`{|}~'))\n",
    "    data = data.replace(\". . \", \". \")\n",
    "    data = \" \".join(data.split())\n"
   ],
   "metadata": {
    "collapsed": false,
    "pycharm": {
     "name": "#%%\n"
    }
   }
  },
  {
   "cell_type": "code",
   "execution_count": 4,
   "outputs": [],
   "source": [
    "esp_stop = stopwords.words('spanish')\n",
    "esp_stop = esp_stop + ['ser','tener','deber']\n",
    "esp_stop.remove('estado')"
   ],
   "metadata": {
    "collapsed": false,
    "pycharm": {
     "name": "#%%\n"
    }
   }
  },
  {
   "cell_type": "code",
   "execution_count": 5,
   "outputs": [],
   "source": [
    "def lemmatizer(text):\n",
    "  doc = nlp(text)\n",
    "  return ' '.join([word.lemma_ for word in doc if word.lemma_ not in esp_stop])"
   ],
   "metadata": {
    "collapsed": false,
    "pycharm": {
     "name": "#%%\n"
    }
   }
  },
  {
   "cell_type": "code",
   "execution_count": 6,
   "outputs": [],
   "source": [
    "l = []\n",
    "for i in data.split(\". \"):\n",
    "    if i != '':\n",
    "        l.append(i)"
   ],
   "metadata": {
    "collapsed": false,
    "pycharm": {
     "name": "#%%\n"
    }
   }
  },
  {
   "cell_type": "code",
   "execution_count": 7,
   "outputs": [],
   "source": [
    "corpus = [word_tokenize(lemmatizer(i)) for i in l]"
   ],
   "metadata": {
    "collapsed": false,
    "pycharm": {
     "name": "#%%\n"
    }
   }
  },
  {
   "cell_type": "code",
   "execution_count": null,
   "outputs": [],
   "source": [
    "dict_corpus = corpora.Dictionary(corpus)\n",
    "\n",
    "dtm_gensim = [dict_corpus.doc2bow(i) for i in corpus]\n",
    "tfidf = models.TfidfModel(dtm_gensim)  # para transformar a tf-idf\n",
    "dtm_gensim_tfidf = tfidf[dtm_gensim]  # para transformar a tf-idf"
   ],
   "metadata": {
    "collapsed": false,
    "pycharm": {
     "name": "#%%\n",
     "is_executing": true
    }
   }
  },
  {
   "cell_type": "code",
   "execution_count": 9,
   "outputs": [],
   "source": [
    "lda_gensim = gensim.models.ldamodel.LdaModel\n",
    "ldamodel_gensim = lda_gensim(dtm_gensim_tfidf, num_topics=19, id2word=dict_corpus, random_state=0, eval_every=None)"
   ],
   "metadata": {
    "collapsed": false,
    "pycharm": {
     "name": "#%%\n"
    }
   }
  },
  {
   "cell_type": "code",
   "execution_count": 10,
   "outputs": [
    {
     "data": {
      "text/plain": "[(0,\n  '0.042*\"convencion\" + 0.038*\"referir\" + 0.026*\"texto\" + 0.023*\"legal\" + 0.022*\"entenderar\" + 0.020*\"tercero\" + 0.020*\"abogada\" + 0.020*\"mencionado\" + 0.017*\"elegir\" + 0.017*\"presentar\" + 0.017*\"financiamiento\" + 0.016*\"dos\" + 0.016*\"cuarto\" + 0.016*\"sucesora\" + 0.015*\"secretaria\" + 0.014*\"creado\" + 0.014*\"inciso\" + 0.014*\"funcionario\" + 0.013*\"funcionaria\" + 0.012*\"proyecto\"'),\n (1,\n  '0.004*\"ejercicio\" + 0.003*\"constitucion\" + 0.003*\"ley\" + 0.003*\"integrante\" + 0.002*\"determinar\" + 0.002*\"estado\" + 0.002*\"indigena\" + 0.002*\"consejo\" + 0.002*\"derecho\" + 0.002*\"asegurar\" + 0.002*\"persona\" + 0.002*\"pueblo\" + 0.002*\"incompatibilidad\" + 0.002*\"republica\" + 0.002*\"organo\" + 0.002*\"dema\" + 0.002*\"publico\" + 0.002*\"procedimiento\" + 0.002*\"podra\" + 0.002*\"integrado\"'),\n (2,\n  '0.053*\"despacho\" + 0.039*\"biblioteca\" + 0.037*\"tendra\" + 0.033*\"prever\" + 0.033*\"ingreso\" + 0.029*\"plazo\" + 0.023*\"legislativo\" + 0.018*\"normativa\" + 0.018*\"poder\" + 0.018*\"propio\" + 0.014*\"dos\" + 0.014*\"legal\" + 0.012*\"mes\" + 0.012*\"conforme\" + 0.012*\"nacional\" + 0.011*\"constitucion\" + 0.010*\"haber\" + 0.009*\"efectuar\" + 0.007*\"camara\" + 0.007*\"organo\"'),\n (3,\n  '0.033*\"sentencia\" + 0.030*\"general\" + 0.030*\"instituto\" + 0.030*\"diverso\" + 0.026*\"cumplimiento\" + 0.023*\"regular\" + 0.023*\"procedimiento\" + 0.021*\"dictacion\" + 0.019*\"defensoria\" + 0.018*\"creer\" + 0.018*\"desempeñar\" + 0.017*\"nacional\" + 0.015*\"virtud\" + 0.015*\"efecto\" + 0.014*\"humanos\" + 0.014*\"derechos\" + 0.013*\"sucesora\" + 0.012*\"ley\" + 0.012*\"creado\" + 0.011*\"policia\"'),\n (4,\n  '0.002*\"diputado\" + 0.002*\"diputada\" + 0.002*\"ley\" + 0.002*\"él\" + 0.002*\"derecho\" + 0.002*\"persona\" + 0.002*\"rural\" + 0.002*\"j\" + 0.002*\"congreso\" + 0.002*\"caso\" + 0.002*\"ejercicio\" + 0.002*\"podra\" + 0.001*\"cultural\" + 0.001*\"dema\" + 0.001*\"participacion\" + 0.001*\"indigena\" + 0.001*\"vigesimoseptima\" + 0.001*\"ejercido\" + 0.001*\"par\" + 0.001*\"ejercer\"'),\n (5,\n  '0.035*\"ministerio\" + 0.033*\"original\" + 0.032*\"componer\" + 0.029*\"juzgado\" + 0.028*\"competencia\" + 0.027*\"fiscal\" + 0.024*\"vigor\" + 0.023*\"vecinal\" + 0.023*\"comite\" + 0.022*\"publico\" + 0.021*\"mismo\" + 0.018*\"jueza\" + 0.018*\"juez\" + 0.015*\"abogado\" + 0.014*\"nacional\" + 0.014*\"incorporar\" + 0.014*\"nuevo\" + 0.012*\"mientras\" + 0.010*\"local\" + 0.009*\"ejercer\"'),\n (6,\n  '0.089*\"sexto\" + 0.042*\"copia\" + 0.040*\"nueve\" + 0.039*\"igualmente\" + 0.030*\"adema\" + 0.030*\"abordar\" + 0.025*\"indigenar\" + 0.025*\"contado\" + 0.025*\"letra\" + 0.023*\"haber\" + 0.021*\"dar\" + 0.021*\"presidente\" + 0.020*\"republica\" + 0.016*\"patrimonio\" + 0.014*\"cumplimiento\" + 0.006*\"h\" + 0.006*\"año\" + 0.005*\"debera\" + 0.005*\"tres\" + 0.005*\"cultural\"'),\n (7,\n  '0.049*\"sentencia\" + 0.026*\"firme\" + 0.017*\"dictado\" + 0.016*\"codigo\" + 0.016*\"causal\" + 0.014*\"revision\" + 0.014*\"judicial\" + 0.011*\"suprema\" + 0.010*\"tribunal\" + 0.009*\"cumplimiento\" + 0.009*\"humanos\" + 0.008*\"derechos\" + 0.008*\"segundo\" + 0.007*\"chile\" + 0.007*\"procedimiento\" + 0.007*\"internacional\" + 0.007*\"establecido\" + 0.006*\"él\" + 0.006*\"si\" + 0.005*\"corte\"'),\n (8,\n  '0.004*\"derecho\" + 0.003*\"persona\" + 0.003*\"participacion\" + 0.003*\"ley\" + 0.002*\"estado\" + 0.002*\"regional\" + 0.002*\"función\" + 0.002*\"f\" + 0.002*\"cultural\" + 0.002*\"condición\" + 0.002*\"establecer\" + 0.002*\"pais\" + 0.002*\"humanos\" + 0.002*\"derechos\" + 0.002*\"constitucion\" + 0.002*\"necesario\" + 0.002*\"promover\" + 0.002*\"entidad\" + 0.002*\"si\" + 0.001*\"desarrollo\"'),\n (9,\n  '0.047*\"contralor\" + 0.040*\"resolución\" + 0.035*\"pais\" + 0.030*\"menos\" + 0.030*\"periodo\" + 0.029*\"quinto\" + 0.021*\"region\" + 0.021*\"modificar\" + 0.021*\"dispuesto\" + 0.020*\"general\" + 0.018*\"podra\" + 0.015*\"garantizar\" + 0.015*\"contraloria\" + 0.014*\"efectuar\" + 0.011*\"regional\" + 0.009*\"haber\" + 0.006*\"constitucional\" + 0.006*\"contar\" + 0.005*\"normativa\" + 0.004*\"conforme\"'),\n (10,\n  '0.085*\"tendro\" + 0.052*\"entregar\" + 0.047*\"consejo\" + 0.033*\"integrado\" + 0.028*\"seguirar\" + 0.007*\"constitucion\" + 0.003*\"justicia\" + 0.003*\"constitucional\" + 0.003*\"politico\" + 0.003*\"ley\" + 0.002*\"derecho\" + 0.002*\"regional\" + 0.002*\"republica\" + 0.002*\"naturaleza\" + 0.002*\"funcionamiento\" + 0.002*\"atribución\" + 0.001*\"regular\" + 0.001*\"estado\" + 0.001*\"procedimiento\" + 0.001*\"electoral\"'),\n (11,\n  '0.055*\"prioridad\" + 0.049*\"institucionalidad\" + 0.039*\"implementacion\" + 0.034*\"nuevo\" + 0.033*\"secretario\" + 0.027*\"justicia\" + 0.026*\"sentencia\" + 0.022*\"contravencion\" + 0.018*\"dicho\" + 0.016*\"economia\" + 0.016*\"constitucion\" + 0.015*\"grado\" + 0.012*\"determinado\" + 0.012*\"tercero\" + 0.009*\"reconocido\" + 0.008*\"libre\" + 0.007*\"revision\" + 0.007*\"decreto\" + 0.006*\"plazo\" + 0.006*\"suprema\"'),\n (12,\n  '0.040*\"republico\" + 0.030*\"entrada\" + 0.026*\"proyecto\" + 0.026*\"senado\" + 0.025*\"vigencia\" + 0.023*\"septimo\" + 0.022*\"relativo\" + 0.021*\"presentar\" + 0.021*\"presidente\" + 0.021*\"institucionalidad\" + 0.020*\"suprema\" + 0.020*\"debera\" + 0.018*\"contraloria\" + 0.016*\"patrimonio\" + 0.016*\"corte\" + 0.015*\"constitucion\" + 0.013*\"constitucional\" + 0.013*\"tres\" + 0.012*\"consejo\" + 0.012*\"congreso\"'),\n (13,\n  '0.113*\"julio\" + 0.038*\"transicion\" + 0.034*\"seguiran\" + 0.033*\"realizado\" + 0.029*\"legislacion\" + 0.023*\"dictar\" + 0.021*\"vigente\" + 0.021*\"nuevo\" + 0.012*\"competencia\" + 0.012*\"fiscal\" + 0.012*\"entrada\" + 0.011*\"consejo\" + 0.010*\"mientras\" + 0.009*\"constitucional\" + 0.008*\"constitucion\" + 0.006*\"nacional\" + 0.006*\"atribución\" + 0.004*\"legal\" + 0.003*\"politico\" + 0.002*\"chile\"'),\n (14,\n  '0.046*\"archivo\" + 0.043*\"copia\" + 0.032*\"cuarto\" + 0.031*\"dos\" + 0.030*\"hecho\" + 0.029*\"grave\" + 0.029*\"aplicable\" + 0.018*\"penal\" + 0.013*\"acuerdo\" + 0.012*\"ratificado\" + 0.011*\"nacional\" + 0.007*\"republico\" + 0.006*\"general\" + 0.005*\"haber\" + 0.004*\"constitucion\" + 0.004*\"chile\" + 0.004*\"derechos\" + 0.003*\"establecido\" + 0.003*\"tratado\" + 0.003*\"tribunal\"'),\n (15,\n  '0.083*\"politico\" + 0.050*\"republico\" + 0.045*\"constitucion\" + 0.037*\"dieciocho\" + 0.036*\"promulgacion\" + 0.034*\"promulguir\" + 0.026*\"propuesta\" + 0.026*\"tramitacion\" + 0.025*\"republica\" + 0.022*\"elaborar\" + 0.020*\"mes\" + 0.017*\"nuevo\" + 0.017*\"elección\" + 0.016*\"regirar\" + 0.012*\"pueblo\" + 0.010*\"constitucional\" + 0.008*\"legislativo\" + 0.007*\"poder\" + 0.006*\"chile\" + 0.006*\"administracion\"'),\n (16,\n  '0.057*\"existencia\" + 0.038*\"cada\" + 0.037*\"violación\" + 0.035*\"dicho\" + 0.026*\"contraloria\" + 0.024*\"modificar\" + 0.015*\"codigo\" + 0.014*\"region\" + 0.014*\"regional\" + 0.012*\"garantizar\" + 0.010*\"general\" + 0.008*\"podra\" + 0.005*\"periodo\" + 0.004*\"menos\" + 0.003*\"chile\" + 0.002*\"ley\" + 0.002*\"resolución\" + 0.002*\"él\" + 0.002*\"tratado\" + 0.002*\"estado\"'),\n (17,\n  '0.027*\"articulo\" + 0.026*\"inciso\" + 0.023*\"mientras\" + 0.019*\"establecido\" + 0.018*\"nº\" + 0.017*\"constitucion\" + 0.016*\"primero\" + 0.015*\"dentro\" + 0.015*\"defensoria\" + 0.015*\"vigencia\" + 0.015*\"decreto\" + 0.015*\"penal\" + 0.014*\"contraloria\" + 0.014*\"republico\" + 0.014*\"organizacion\" + 0.014*\"entrada\" + 0.012*\"ley\" + 0.012*\"fijar\" + 0.012*\"disposición\" + 0.012*\"norma\"'),\n (18,\n  '0.102*\".\" + 0.098*\"rango\" + 0.006*\"constitucion\" + 0.005*\"legal\" + 0.004*\"organo\" + 0.003*\"efectuar\" + 0.003*\"constitucional\" + 0.003*\"ley\" + 0.002*\"cargo\" + 0.002*\"educacion\" + 0.002*\"estado\" + 0.002*\"caso\" + 0.002*\"regional\" + 0.001*\"establecer\" + 0.001*\"publico\" + 0.001*\"derecho\" + 0.001*\"fin\" + 0.001*\"dema\" + 0.001*\"republico\" + 0.001*\"participacion\"')]"
     },
     "execution_count": 10,
     "metadata": {},
     "output_type": "execute_result"
    }
   ],
   "source": [
    "ldamodel_gensim.print_topics(num_words=20)"
   ],
   "metadata": {
    "collapsed": false,
    "pycharm": {
     "name": "#%%\n"
    }
   }
  },
  {
   "cell_type": "code",
   "execution_count": 11,
   "outputs": [
    {
     "data": {
      "text/plain": "         acordado     chile  conformado  constitucion  democratico   diverso  \\\ntopic0   0.000182  0.006212    0.000297      0.010922     0.000158  0.000388   \ntopic1   0.000185  0.000484    0.000185      0.003235     0.000353  0.000418   \ntopic2   0.000101  0.000101    0.000337      0.010721     0.000101  0.000305   \ntopic3   0.000069  0.000435    0.000162      0.008869     0.000210  0.029550   \ntopic4   0.000205  0.000384    0.000205      0.001137     0.000205  0.000709   \ntopic5   0.000099  0.000259    0.000099      0.005499     0.000281  0.000335   \ntopic6   0.000314  0.000687    0.000103      0.001432     0.000246  0.000192   \ntopic7   0.000134  0.007367    0.000454      0.001173     0.000134  0.000474   \ntopic8   0.000190  0.000659    0.000661      0.001587     0.000469  0.000561   \ntopic9   0.000114  0.000429    0.000114      0.003477     0.000114  0.000294   \ntopic10  0.000148  0.000701    0.000148      0.007054     0.000992  0.000471   \ntopic11  0.000096  0.003544    0.000096      0.015784     0.000342  0.000209   \ntopic12  0.000236  0.000364    0.000079      0.014994     0.000079  0.000188   \ntopic13  0.000119  0.002450    0.000119      0.007514     0.000119  0.000119   \ntopic14  0.000124  0.004293    0.000124      0.004293     0.000413  0.000339   \ntopic15  0.000207  0.006340    0.000085      0.045292     0.000085  0.000085   \ntopic16  0.000128  0.002635    0.000128      0.001473     0.000280  0.000359   \ntopic17  0.000029  0.005181    0.000069      0.016895     0.000029  0.000029   \ntopic18  0.000159  0.000159    0.000313      0.006106     0.001028  0.000159   \n\n         libremente    nación   nosotra   otorgar  ...  constituyo      mayo  \\\ntopic0     0.000182  0.000254  0.000207  0.000163  ...    0.000067  0.000067   \ntopic1     0.000185  0.001070  0.000185  0.000185  ...    0.000185  0.000185   \ntopic2     0.000101  0.000101  0.000101  0.000101  ...    0.000101  0.000101   \ntopic3     0.000173  0.000069  0.000069  0.000345  ...    0.000069  0.000069   \ntopic4     0.000205  0.001283  0.000205  0.000315  ...    0.000205  0.000205   \ntopic5     0.000286  0.000099  0.000099  0.000099  ...    0.000099  0.000099   \ntopic6     0.000103  0.000661  0.000103  0.000103  ...    0.000103  0.000103   \ntopic7     0.000134  0.001237  0.000134  0.000134  ...    0.000134  0.000134   \ntopic8     0.000190  0.000733  0.000190  0.000656  ...    0.000190  0.000190   \ntopic9     0.000114  0.000114  0.000114  0.000114  ...    0.000114  0.000114   \ntopic10    0.000148  0.000456  0.000148  0.000148  ...    0.000148  0.000148   \ntopic11    0.000096  0.000679  0.000096  0.000096  ...    0.000096  0.000096   \ntopic12    0.000234  0.000201  0.000079  0.000177  ...    0.000079  0.000079   \ntopic13    0.000119  0.000119  0.000119  0.000301  ...    0.000119  0.000119   \ntopic14    0.000124  0.000574  0.000124  0.000124  ...    0.000124  0.000124   \ntopic15    0.000085  0.000243  0.000085  0.000296  ...    0.000085  0.000085   \ntopic16    0.000128  0.000337  0.000128  0.000128  ...    0.000128  0.000128   \ntopic17    0.000029  0.000145  0.000029  0.000029  ...    0.000029  0.000029   \ntopic18    0.000159  0.000159  0.000159  0.000390  ...    0.000159  0.000159   \n\n         convencional  ejemplar       s.e  autentica   impreso  numerada  \\\ntopic0       0.000066  0.000066  0.000066   0.000066  0.000066  0.000066   \ntopic1       0.000185  0.000185  0.000185   0.000185  0.000185  0.000185   \ntopic2       0.000101  0.000101  0.000101   0.000101  0.000101  0.000101   \ntopic3       0.000069  0.000069  0.000069   0.000069  0.000069  0.000069   \ntopic4       0.000205  0.000205  0.000205   0.000205  0.000205  0.000205   \ntopic5       0.000099  0.000099  0.000099   0.000099  0.000099  0.000099   \ntopic6       0.000103  0.000103  0.000103   0.000105  0.000105  0.000105   \ntopic7       0.000134  0.000134  0.000134   0.000134  0.000134  0.000134   \ntopic8       0.000190  0.000190  0.000190   0.000190  0.000190  0.000190   \ntopic9       0.000114  0.000114  0.000114   0.000114  0.000114  0.000114   \ntopic10      0.000149  0.000149  0.000149   0.000148  0.000148  0.000148   \ntopic11      0.000096  0.000096  0.000096   0.000096  0.000096  0.000096   \ntopic12      0.000079  0.000079  0.000079   0.000079  0.000079  0.000079   \ntopic13      0.000119  0.000119  0.000119   0.000119  0.000119  0.000119   \ntopic14      0.000124  0.000124  0.000124   0.000124  0.000124  0.000124   \ntopic15      0.000085  0.000085  0.000085   0.000085  0.000085  0.000085   \ntopic16      0.000128  0.000128  0.000128   0.000128  0.000128  0.000128   \ntopic17      0.000029  0.000029  0.000029   0.000029  0.000029  0.000029   \ntopic18      0.000159  0.000159  0.000159   0.000159  0.000159  0.000159   \n\n         reservar  santiago  \ntopic0   0.000066  0.000066  \ntopic1   0.000185  0.000185  \ntopic2   0.000102  0.000101  \ntopic3   0.000069  0.000069  \ntopic4   0.000205  0.000205  \ntopic5   0.000099  0.000099  \ntopic6   0.000103  0.000103  \ntopic7   0.000134  0.000134  \ntopic8   0.000190  0.000190  \ntopic9   0.000114  0.000114  \ntopic10  0.000148  0.000148  \ntopic11  0.000096  0.000096  \ntopic12  0.000080  0.000079  \ntopic13  0.000119  0.000120  \ntopic14  0.000125  0.000124  \ntopic15  0.000085  0.000085  \ntopic16  0.000128  0.000128  \ntopic17  0.000029  0.000029  \ntopic18  0.000159  0.000160  \n\n[19 rows x 3438 columns]",
      "text/html": "<div>\n<style scoped>\n    .dataframe tbody tr th:only-of-type {\n        vertical-align: middle;\n    }\n\n    .dataframe tbody tr th {\n        vertical-align: top;\n    }\n\n    .dataframe thead th {\n        text-align: right;\n    }\n</style>\n<table border=\"1\" class=\"dataframe\">\n  <thead>\n    <tr style=\"text-align: right;\">\n      <th></th>\n      <th>acordado</th>\n      <th>chile</th>\n      <th>conformado</th>\n      <th>constitucion</th>\n      <th>democratico</th>\n      <th>diverso</th>\n      <th>libremente</th>\n      <th>nación</th>\n      <th>nosotra</th>\n      <th>otorgar</th>\n      <th>...</th>\n      <th>constituyo</th>\n      <th>mayo</th>\n      <th>convencional</th>\n      <th>ejemplar</th>\n      <th>s.e</th>\n      <th>autentica</th>\n      <th>impreso</th>\n      <th>numerada</th>\n      <th>reservar</th>\n      <th>santiago</th>\n    </tr>\n  </thead>\n  <tbody>\n    <tr>\n      <th>topic0</th>\n      <td>0.000182</td>\n      <td>0.006212</td>\n      <td>0.000297</td>\n      <td>0.010922</td>\n      <td>0.000158</td>\n      <td>0.000388</td>\n      <td>0.000182</td>\n      <td>0.000254</td>\n      <td>0.000207</td>\n      <td>0.000163</td>\n      <td>...</td>\n      <td>0.000067</td>\n      <td>0.000067</td>\n      <td>0.000066</td>\n      <td>0.000066</td>\n      <td>0.000066</td>\n      <td>0.000066</td>\n      <td>0.000066</td>\n      <td>0.000066</td>\n      <td>0.000066</td>\n      <td>0.000066</td>\n    </tr>\n    <tr>\n      <th>topic1</th>\n      <td>0.000185</td>\n      <td>0.000484</td>\n      <td>0.000185</td>\n      <td>0.003235</td>\n      <td>0.000353</td>\n      <td>0.000418</td>\n      <td>0.000185</td>\n      <td>0.001070</td>\n      <td>0.000185</td>\n      <td>0.000185</td>\n      <td>...</td>\n      <td>0.000185</td>\n      <td>0.000185</td>\n      <td>0.000185</td>\n      <td>0.000185</td>\n      <td>0.000185</td>\n      <td>0.000185</td>\n      <td>0.000185</td>\n      <td>0.000185</td>\n      <td>0.000185</td>\n      <td>0.000185</td>\n    </tr>\n    <tr>\n      <th>topic2</th>\n      <td>0.000101</td>\n      <td>0.000101</td>\n      <td>0.000337</td>\n      <td>0.010721</td>\n      <td>0.000101</td>\n      <td>0.000305</td>\n      <td>0.000101</td>\n      <td>0.000101</td>\n      <td>0.000101</td>\n      <td>0.000101</td>\n      <td>...</td>\n      <td>0.000101</td>\n      <td>0.000101</td>\n      <td>0.000101</td>\n      <td>0.000101</td>\n      <td>0.000101</td>\n      <td>0.000101</td>\n      <td>0.000101</td>\n      <td>0.000101</td>\n      <td>0.000102</td>\n      <td>0.000101</td>\n    </tr>\n    <tr>\n      <th>topic3</th>\n      <td>0.000069</td>\n      <td>0.000435</td>\n      <td>0.000162</td>\n      <td>0.008869</td>\n      <td>0.000210</td>\n      <td>0.029550</td>\n      <td>0.000173</td>\n      <td>0.000069</td>\n      <td>0.000069</td>\n      <td>0.000345</td>\n      <td>...</td>\n      <td>0.000069</td>\n      <td>0.000069</td>\n      <td>0.000069</td>\n      <td>0.000069</td>\n      <td>0.000069</td>\n      <td>0.000069</td>\n      <td>0.000069</td>\n      <td>0.000069</td>\n      <td>0.000069</td>\n      <td>0.000069</td>\n    </tr>\n    <tr>\n      <th>topic4</th>\n      <td>0.000205</td>\n      <td>0.000384</td>\n      <td>0.000205</td>\n      <td>0.001137</td>\n      <td>0.000205</td>\n      <td>0.000709</td>\n      <td>0.000205</td>\n      <td>0.001283</td>\n      <td>0.000205</td>\n      <td>0.000315</td>\n      <td>...</td>\n      <td>0.000205</td>\n      <td>0.000205</td>\n      <td>0.000205</td>\n      <td>0.000205</td>\n      <td>0.000205</td>\n      <td>0.000205</td>\n      <td>0.000205</td>\n      <td>0.000205</td>\n      <td>0.000205</td>\n      <td>0.000205</td>\n    </tr>\n    <tr>\n      <th>topic5</th>\n      <td>0.000099</td>\n      <td>0.000259</td>\n      <td>0.000099</td>\n      <td>0.005499</td>\n      <td>0.000281</td>\n      <td>0.000335</td>\n      <td>0.000286</td>\n      <td>0.000099</td>\n      <td>0.000099</td>\n      <td>0.000099</td>\n      <td>...</td>\n      <td>0.000099</td>\n      <td>0.000099</td>\n      <td>0.000099</td>\n      <td>0.000099</td>\n      <td>0.000099</td>\n      <td>0.000099</td>\n      <td>0.000099</td>\n      <td>0.000099</td>\n      <td>0.000099</td>\n      <td>0.000099</td>\n    </tr>\n    <tr>\n      <th>topic6</th>\n      <td>0.000314</td>\n      <td>0.000687</td>\n      <td>0.000103</td>\n      <td>0.001432</td>\n      <td>0.000246</td>\n      <td>0.000192</td>\n      <td>0.000103</td>\n      <td>0.000661</td>\n      <td>0.000103</td>\n      <td>0.000103</td>\n      <td>...</td>\n      <td>0.000103</td>\n      <td>0.000103</td>\n      <td>0.000103</td>\n      <td>0.000103</td>\n      <td>0.000103</td>\n      <td>0.000105</td>\n      <td>0.000105</td>\n      <td>0.000105</td>\n      <td>0.000103</td>\n      <td>0.000103</td>\n    </tr>\n    <tr>\n      <th>topic7</th>\n      <td>0.000134</td>\n      <td>0.007367</td>\n      <td>0.000454</td>\n      <td>0.001173</td>\n      <td>0.000134</td>\n      <td>0.000474</td>\n      <td>0.000134</td>\n      <td>0.001237</td>\n      <td>0.000134</td>\n      <td>0.000134</td>\n      <td>...</td>\n      <td>0.000134</td>\n      <td>0.000134</td>\n      <td>0.000134</td>\n      <td>0.000134</td>\n      <td>0.000134</td>\n      <td>0.000134</td>\n      <td>0.000134</td>\n      <td>0.000134</td>\n      <td>0.000134</td>\n      <td>0.000134</td>\n    </tr>\n    <tr>\n      <th>topic8</th>\n      <td>0.000190</td>\n      <td>0.000659</td>\n      <td>0.000661</td>\n      <td>0.001587</td>\n      <td>0.000469</td>\n      <td>0.000561</td>\n      <td>0.000190</td>\n      <td>0.000733</td>\n      <td>0.000190</td>\n      <td>0.000656</td>\n      <td>...</td>\n      <td>0.000190</td>\n      <td>0.000190</td>\n      <td>0.000190</td>\n      <td>0.000190</td>\n      <td>0.000190</td>\n      <td>0.000190</td>\n      <td>0.000190</td>\n      <td>0.000190</td>\n      <td>0.000190</td>\n      <td>0.000190</td>\n    </tr>\n    <tr>\n      <th>topic9</th>\n      <td>0.000114</td>\n      <td>0.000429</td>\n      <td>0.000114</td>\n      <td>0.003477</td>\n      <td>0.000114</td>\n      <td>0.000294</td>\n      <td>0.000114</td>\n      <td>0.000114</td>\n      <td>0.000114</td>\n      <td>0.000114</td>\n      <td>...</td>\n      <td>0.000114</td>\n      <td>0.000114</td>\n      <td>0.000114</td>\n      <td>0.000114</td>\n      <td>0.000114</td>\n      <td>0.000114</td>\n      <td>0.000114</td>\n      <td>0.000114</td>\n      <td>0.000114</td>\n      <td>0.000114</td>\n    </tr>\n    <tr>\n      <th>topic10</th>\n      <td>0.000148</td>\n      <td>0.000701</td>\n      <td>0.000148</td>\n      <td>0.007054</td>\n      <td>0.000992</td>\n      <td>0.000471</td>\n      <td>0.000148</td>\n      <td>0.000456</td>\n      <td>0.000148</td>\n      <td>0.000148</td>\n      <td>...</td>\n      <td>0.000148</td>\n      <td>0.000148</td>\n      <td>0.000149</td>\n      <td>0.000149</td>\n      <td>0.000149</td>\n      <td>0.000148</td>\n      <td>0.000148</td>\n      <td>0.000148</td>\n      <td>0.000148</td>\n      <td>0.000148</td>\n    </tr>\n    <tr>\n      <th>topic11</th>\n      <td>0.000096</td>\n      <td>0.003544</td>\n      <td>0.000096</td>\n      <td>0.015784</td>\n      <td>0.000342</td>\n      <td>0.000209</td>\n      <td>0.000096</td>\n      <td>0.000679</td>\n      <td>0.000096</td>\n      <td>0.000096</td>\n      <td>...</td>\n      <td>0.000096</td>\n      <td>0.000096</td>\n      <td>0.000096</td>\n      <td>0.000096</td>\n      <td>0.000096</td>\n      <td>0.000096</td>\n      <td>0.000096</td>\n      <td>0.000096</td>\n      <td>0.000096</td>\n      <td>0.000096</td>\n    </tr>\n    <tr>\n      <th>topic12</th>\n      <td>0.000236</td>\n      <td>0.000364</td>\n      <td>0.000079</td>\n      <td>0.014994</td>\n      <td>0.000079</td>\n      <td>0.000188</td>\n      <td>0.000234</td>\n      <td>0.000201</td>\n      <td>0.000079</td>\n      <td>0.000177</td>\n      <td>...</td>\n      <td>0.000079</td>\n      <td>0.000079</td>\n      <td>0.000079</td>\n      <td>0.000079</td>\n      <td>0.000079</td>\n      <td>0.000079</td>\n      <td>0.000079</td>\n      <td>0.000079</td>\n      <td>0.000080</td>\n      <td>0.000079</td>\n    </tr>\n    <tr>\n      <th>topic13</th>\n      <td>0.000119</td>\n      <td>0.002450</td>\n      <td>0.000119</td>\n      <td>0.007514</td>\n      <td>0.000119</td>\n      <td>0.000119</td>\n      <td>0.000119</td>\n      <td>0.000119</td>\n      <td>0.000119</td>\n      <td>0.000301</td>\n      <td>...</td>\n      <td>0.000119</td>\n      <td>0.000119</td>\n      <td>0.000119</td>\n      <td>0.000119</td>\n      <td>0.000119</td>\n      <td>0.000119</td>\n      <td>0.000119</td>\n      <td>0.000119</td>\n      <td>0.000119</td>\n      <td>0.000120</td>\n    </tr>\n    <tr>\n      <th>topic14</th>\n      <td>0.000124</td>\n      <td>0.004293</td>\n      <td>0.000124</td>\n      <td>0.004293</td>\n      <td>0.000413</td>\n      <td>0.000339</td>\n      <td>0.000124</td>\n      <td>0.000574</td>\n      <td>0.000124</td>\n      <td>0.000124</td>\n      <td>...</td>\n      <td>0.000124</td>\n      <td>0.000124</td>\n      <td>0.000124</td>\n      <td>0.000124</td>\n      <td>0.000124</td>\n      <td>0.000124</td>\n      <td>0.000124</td>\n      <td>0.000124</td>\n      <td>0.000125</td>\n      <td>0.000124</td>\n    </tr>\n    <tr>\n      <th>topic15</th>\n      <td>0.000207</td>\n      <td>0.006340</td>\n      <td>0.000085</td>\n      <td>0.045292</td>\n      <td>0.000085</td>\n      <td>0.000085</td>\n      <td>0.000085</td>\n      <td>0.000243</td>\n      <td>0.000085</td>\n      <td>0.000296</td>\n      <td>...</td>\n      <td>0.000085</td>\n      <td>0.000085</td>\n      <td>0.000085</td>\n      <td>0.000085</td>\n      <td>0.000085</td>\n      <td>0.000085</td>\n      <td>0.000085</td>\n      <td>0.000085</td>\n      <td>0.000085</td>\n      <td>0.000085</td>\n    </tr>\n    <tr>\n      <th>topic16</th>\n      <td>0.000128</td>\n      <td>0.002635</td>\n      <td>0.000128</td>\n      <td>0.001473</td>\n      <td>0.000280</td>\n      <td>0.000359</td>\n      <td>0.000128</td>\n      <td>0.000337</td>\n      <td>0.000128</td>\n      <td>0.000128</td>\n      <td>...</td>\n      <td>0.000128</td>\n      <td>0.000128</td>\n      <td>0.000128</td>\n      <td>0.000128</td>\n      <td>0.000128</td>\n      <td>0.000128</td>\n      <td>0.000128</td>\n      <td>0.000128</td>\n      <td>0.000128</td>\n      <td>0.000128</td>\n    </tr>\n    <tr>\n      <th>topic17</th>\n      <td>0.000029</td>\n      <td>0.005181</td>\n      <td>0.000069</td>\n      <td>0.016895</td>\n      <td>0.000029</td>\n      <td>0.000029</td>\n      <td>0.000029</td>\n      <td>0.000145</td>\n      <td>0.000029</td>\n      <td>0.000029</td>\n      <td>...</td>\n      <td>0.000029</td>\n      <td>0.000029</td>\n      <td>0.000029</td>\n      <td>0.000029</td>\n      <td>0.000029</td>\n      <td>0.000029</td>\n      <td>0.000029</td>\n      <td>0.000029</td>\n      <td>0.000029</td>\n      <td>0.000029</td>\n    </tr>\n    <tr>\n      <th>topic18</th>\n      <td>0.000159</td>\n      <td>0.000159</td>\n      <td>0.000313</td>\n      <td>0.006106</td>\n      <td>0.001028</td>\n      <td>0.000159</td>\n      <td>0.000159</td>\n      <td>0.000159</td>\n      <td>0.000159</td>\n      <td>0.000390</td>\n      <td>...</td>\n      <td>0.000159</td>\n      <td>0.000159</td>\n      <td>0.000159</td>\n      <td>0.000159</td>\n      <td>0.000159</td>\n      <td>0.000159</td>\n      <td>0.000159</td>\n      <td>0.000159</td>\n      <td>0.000159</td>\n      <td>0.000160</td>\n    </tr>\n  </tbody>\n</table>\n<p>19 rows × 3438 columns</p>\n</div>"
     },
     "execution_count": 11,
     "metadata": {},
     "output_type": "execute_result"
    }
   ],
   "source": [
    "df_topic_term = pd.DataFrame(ldamodel_gensim.get_topics(), columns=ldamodel_gensim.id2word.values(), index=[f'topic{i}' for i in range(ldamodel_gensim.num_topics)])\n",
    "df_topic_term"
   ],
   "metadata": {
    "collapsed": false,
    "pycharm": {
     "name": "#%%\n"
    }
   }
  },
  {
   "cell_type": "code",
   "execution_count": 12,
   "outputs": [
    {
     "data": {
      "text/plain": "ejercicio             0.003889\nconstitucion          0.003235\nley                   0.002773\nintegrante            0.002685\ndeterminar            0.002366\n                        ...   \nindependiente         0.000185\nrelevante             0.000185\ntransdisciplinario    0.000185\necosistema            0.000185\nsantiago              0.000185\nName: topic1, Length: 3438, dtype: float32"
     },
     "execution_count": 12,
     "metadata": {},
     "output_type": "execute_result"
    }
   ],
   "source": [
    "df_topic_term.loc['topic1'].sort_values(ascending=False)"
   ],
   "metadata": {
    "collapsed": false,
    "pycharm": {
     "name": "#%%\n"
    }
   }
  },
  {
   "cell_type": "code",
   "execution_count": 12,
   "outputs": [],
   "source": [],
   "metadata": {
    "collapsed": false,
    "pycharm": {
     "name": "#%%\n"
    }
   }
  }
 ],
 "metadata": {
  "kernelspec": {
   "display_name": "Python 3",
   "language": "python",
   "name": "python3"
  },
  "language_info": {
   "codemirror_mode": {
    "name": "ipython",
    "version": 2
   },
   "file_extension": ".py",
   "mimetype": "text/x-python",
   "name": "python",
   "nbconvert_exporter": "python",
   "pygments_lexer": "ipython2",
   "version": "2.7.6"
  }
 },
 "nbformat": 4,
 "nbformat_minor": 0
}