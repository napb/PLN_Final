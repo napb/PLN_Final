{
 "cells": [
  {
   "cell_type": "code",
   "execution_count": 10,
   "outputs": [],
   "source": [
    "import re\n",
    "from unicodedata import normalize\n",
    "\n",
    "import gensim\n",
    "import spacy\n",
    "from gensim import corpora\n",
    "from gensim import models\n",
    "from nltk import word_tokenize\n",
    "from nltk.corpus import stopwords\n",
    "\n",
    "import pandas as pd"
   ],
   "metadata": {
    "collapsed": false,
    "pycharm": {
     "name": "#%%\n"
    }
   }
  },
  {
   "cell_type": "code",
   "execution_count": 11,
   "outputs": [],
   "source": [
    "nlp = spacy.load('es_core_news_sm')"
   ],
   "metadata": {
    "collapsed": false,
    "pycharm": {
     "name": "#%%\n"
    }
   }
  },
  {
   "cell_type": "markdown",
   "source": [
    "### Apertura archivo y preprocesamiento"
   ],
   "metadata": {
    "collapsed": false,
    "pycharm": {
     "name": "#%% md\n"
    }
   }
  },
  {
   "cell_type": "code",
   "execution_count": 73,
   "outputs": [],
   "source": [
    "with open(\"data/nc_ch.txt\", \"r\") as file:\n",
    "    data = file.read()\n",
    "    data = data.replace(\"\\n\", \" \")\n",
    "    data = re.sub(\"\\d+\", \"\", data)\n",
    "    data = data.lower()\n",
    "    list_art = data.split(\"--articulo--\")"
   ],
   "metadata": {
    "collapsed": false,
    "pycharm": {
     "name": "#%%\n"
    }
   }
  },
  {
   "cell_type": "code",
   "execution_count": 74,
   "outputs": [],
   "source": [
    "df_art = pd.DataFrame(list_art, columns = [\"article\"])"
   ],
   "metadata": {
    "collapsed": false,
    "pycharm": {
     "name": "#%%\n"
    }
   }
  },
  {
   "cell_type": "code",
   "execution_count": 89,
   "outputs": [],
   "source": [
    "import string\n",
    "\n",
    "def preprocess(df):\n",
    "  articles = df\n",
    "\n",
    "  articles['article'] = articles['article'].str.translate(str.maketrans(' ', ' ', string.punctuation))\n",
    "  articles['article'] = articles['article'].str.strip()\n",
    "  articles['article'] = articles['article'].str.replace('\\n', ' ')\n",
    "  articles['article'] = articles['article'].str.translate(str.maketrans(' ', ' ', string.punctuation))\n",
    "  articles['article'] = articles['article'].apply(lambda x: \" \".join(x.split()))\n",
    "  articles['article'] = articles['article'].apply(lambda x: re.sub(r\"([^n\\u0300-\\u036f]|n(?!\\u0303(?![\\u0300-\\u036f])))[\\u0300-\\u036f]+\", r\"\\1\", normalize(\"NFD\", x), 0, re.I))\n",
    "\n",
    "  articles = articles[[len(str(x).split()) > 2 for x in articles[\"article\"]]]\n",
    "  return articles.reset_index(drop=True)"
   ],
   "metadata": {
    "collapsed": false,
    "pycharm": {
     "name": "#%%\n"
    }
   }
  },
  {
   "cell_type": "code",
   "execution_count": 93,
   "outputs": [],
   "source": [
    "df_art_p = preprocess(df_art)"
   ],
   "metadata": {
    "collapsed": false,
    "pycharm": {
     "name": "#%%\n"
    }
   }
  },
  {
   "cell_type": "code",
   "execution_count": 94,
   "outputs": [],
   "source": [
    "esp_stop = stopwords.words('spanish')\n",
    "esp_stop = esp_stop\n",
    "esp_stop.remove('estado')"
   ],
   "metadata": {
    "collapsed": false,
    "pycharm": {
     "name": "#%%\n"
    }
   }
  },
  {
   "cell_type": "code",
   "execution_count": 95,
   "outputs": [],
   "source": [
    "def lemmatizer(text):\n",
    "  doc = nlp(text)\n",
    "  return ' '.join([word.lemma_ for word in doc if word.lemma_ not in esp_stop])"
   ],
   "metadata": {
    "collapsed": false,
    "pycharm": {
     "name": "#%%\n"
    }
   }
  },
  {
   "cell_type": "code",
   "execution_count": 96,
   "outputs": [],
   "source": [
    "corpus = [word_tokenize(lemmatizer(i)) for i in df_art_p[\"article\"]]"
   ],
   "metadata": {
    "collapsed": false,
    "pycharm": {
     "name": "#%%\n"
    }
   }
  },
  {
   "cell_type": "code",
   "execution_count": 99,
   "outputs": [],
   "source": [
    "dict_corpus = corpora.Dictionary(corpus)\n",
    "\n",
    "dtm_gensim = [dict_corpus.doc2bow(i) for i in corpus]\n",
    "dtm_gensim_tfidf = models.TfidfModel(dtm_gensim)[dtm_gensim]"
   ],
   "metadata": {
    "collapsed": false,
    "pycharm": {
     "name": "#%%\n"
    }
   }
  },
  {
   "cell_type": "code",
   "execution_count": 100,
   "outputs": [],
   "source": [
    "lda_gensim = gensim.models.ldamodel.LdaModel\n",
    "ldamodel_gensim = lda_gensim(\n",
    "    dtm_gensim_tfidf,\n",
    "    num_topics = 50,\n",
    "    passes = 100,\n",
    "    id2word = dict_corpus,\n",
    "    random_state = 0,\n",
    "    eval_every = None,\n",
    "    alpha = 'auto'\n",
    ")"
   ],
   "metadata": {
    "collapsed": false,
    "pycharm": {
     "name": "#%%\n"
    }
   }
  },
  {
   "cell_type": "code",
   "execution_count": 104,
   "outputs": [
    {
     "data": {
      "text/plain": "[(12,\n  '0.005*\"sobreviniente\" + 0.005*\"incapacidad\" + 0.004*\"remocion\" + 0.003*\"merecer\" + 0.003*\"setento\" + 0.003*\"aflictivo\" + 0.003*\"constatado\" + 0.003*\"aceptar\" + 0.003*\"mental\" + 0.003*\"condena\" + 0.003*\"cesarar\" + 0.003*\"renunciar\" + 0.002*\"renuncia\" + 0.002*\"delito\" + 0.000*\"integrar\"'),\n (10,\n  '0.004*\"devolucion\" + 0.004*\"modificada\" + 0.004*\"derogada\" + 0.004*\"enviara\" + 0.004*\"continuar\" + 0.004*\"terminado\" + 0.003*\"despachado\" + 0.002*\"tratar\" + 0.002*\"aprobado\" + 0.002*\"momento\" + 0.002*\"presidencia\" + 0.002*\"efecto\" + 0.000*\"votacion\" + 0.000*\"tramitacion\" + 0.000*\"miembro\"'),\n (39,\n  '0.006*\"corrupcion\" + 0.004*\"perseguir\" + 0.003*\"atentar\" + 0.003*\"sector\" + 0.003*\"contrario\" + 0.003*\"sancion\" + 0.002*\"democratico\" + 0.001*\"estudio\" + 0.000*\"sanción\" + 0.000*\"competente\" + 0.000*\"coordinar\" + 0.000*\"aplicacion\" + 0.000*\"velarar\" + 0.000*\"penitenciario\" + 0.000*\"pena\"'),\n (17,\n  '0.008*\"compuesto\" + 0.005*\"orientación\" + 0.005*\"sexoafectiva\" + 0.004*\"afirmativo\" + 0.004*\"nombre\" + 0.003*\"caracteristica\" + 0.003*\"dimensión\" + 0.003*\"manifestación\" + 0.003*\"x\" + 0.003*\"resuelto\" + 0.003*\"revisable\" + 0.003*\"impugnable\" + 0.003*\"impugnada\" + 0.003*\"poner\" + 0.003*\"elegiran\"'),\n (27,\n  '0.005*\"desterrar\" + 0.005*\"resido\" + 0.005*\"relegada\" + 0.005*\"exiliado\" + 0.005*\"desplazamiento\" + 0.004*\"forzado\" + 0.003*\"empleador\" + 0.003*\"enfermedad\" + 0.002*\"financie\" + 0.002*\"accident\" + 0.002*\"empleadora\" + 0.002*\"desempleo\" + 0.002*\"supervivencio\" + 0.002*\"vejez\" + 0.002*\"integralidad\"'),\n (2,\n  '0.013*\"glaciar\" + 0.008*\"razón\" + 0.006*\"fiscalizador\" + 0.005*\"minero\" + 0.005*\"hidrografico\" + 0.005*\"excluido\" + 0.005*\"desconcentrado\" + 0.005*\"centralizado\" + 0.004*\"mantendran\" + 0.004*\"trata\" + 0.004*\"remediacion\" + 0.004*\"servidumbre\" + 0.004*\"eficiencia\" + 0.004*\"erradicacion\" + 0.004*\"esclavitud\"'),\n (49,\n  '0.005*\"registro\" + 0.005*\"contralorio\" + 0.005*\"cincuenta\" + 0.004*\"afirmativo\" + 0.004*\"rendirar\" + 0.004*\"transmision\" + 0.004*\"salvaguardio\" + 0.004*\"aumento\" + 0.004*\"ejerza\" + 0.004*\"autonomos\" + 0.004*\"anualmente\" + 0.004*\"difusion\" + 0.004*\"revitalizacion\" + 0.004*\"titularidad\" + 0.003*\"generación\"'),\n (40,\n  '0.005*\"consanguineo\" + 0.005*\"filiativo\" + 0.005*\"restringirla\" + 0.005*\"modos\" + 0.005*\"maritorio\" + 0.004*\"practicar\" + 0.004*\"radicar\" + 0.004*\"ultima\" + 0.004*\"reserven\" + 0.003*\"exclusivamente\" + 0.003*\"subrogar\" + 0.003*\"priorizar\" + 0.003*\"mandatado\" + 0.003*\"cumplido\" + 0.003*\"rapido\"'),\n (3,\n  '0.007*\"basar\" + 0.006*\"inamovilidad\" + 0.006*\"incompatible\" + 0.006*\"rector\" + 0.005*\"cesar\" + 0.004*\"remocion\" + 0.004*\"fortalecer\" + 0.004*\"enfermedad\" + 0.004*\"torno\" + 0.004*\"condenatorio\" + 0.004*\"sobreviniente\" + 0.004*\"colaboracion\" + 0.004*\"incapacidad\" + 0.004*\"concernir\" + 0.003*\"incomerciable\"'),\n (7,\n  '0.006*\"ministro\" + 0.005*\"acuerdir\" + 0.005*\"ministra\" + 0.005*\"sesión\" + 0.005*\"modernizacion\" + 0.005*\"realizarar\" + 0.005*\"argumento\" + 0.004*\"extensivo\" + 0.004*\"den\" + 0.004*\"usuario\" + 0.004*\"secretaria\" + 0.004*\"auxiliar\" + 0.004*\"audiencia\" + 0.004*\"interseccional\" + 0.003*\"obligatoriamente\"'),\n (21,\n  '0.010*\"apelación\" + 0.006*\"reforma\" + 0.006*\"referendum\" + 0.005*\"constituyente\" + 0.004*\"formula\" + 0.004*\"ratificatorio\" + 0.004*\"funcionarar\" + 0.003*\"impugnación\" + 0.003*\"principal\" + 0.003*\"duracion\" + 0.003*\"preferentemente\" + 0.003*\"paritariamente\" + 0.003*\"redaccion\" + 0.003*\"sala\" + 0.003*\"competente\"'),\n (30,\n  '0.009*\"institucional\" + 0.007*\"gozara\" + 0.005*\"custodio\" + 0.005*\"sue\" + 0.005*\"bombero\" + 0.005*\"anualmente\" + 0.004*\"destinar\" + 0.004*\"humedal\" + 0.004*\"hidrico\" + 0.004*\"cobertura\" + 0.004*\"bosque\" + 0.004*\"nativo\" + 0.004*\"entorpezcar\" + 0.004*\"conectividad\" + 0.004*\"obstaculo\"'),\n (9,\n  '0.008*\"conciencia\" + 0.006*\"culto\" + 0.005*\"ecologicar\" + 0.005*\"denunciar\" + 0.005*\"infracción\" + 0.005*\"espiritual\" + 0.005*\"indemnidad\" + 0.005*\"confidencialidad\" + 0.004*\"fortalecer\" + 0.004*\"requerido\" + 0.004*\"corrupcion\" + 0.004*\"precedente\" + 0.004*\"sagrado\" + 0.003*\"dimensión\" + 0.003*\"regiran\"'),\n (15,\n  '0.009*\"salud\" + 0.006*\"deporte\" + 0.006*\"nacionalizacion\" + 0.005*\"condicion\" + 0.005*\"practica\" + 0.004*\"carta\" + 0.004*\"entregar\" + 0.004*\"interferencia\" + 0.004*\"cooperar\" + 0.004*\"coordinadamente\" + 0.004*\"duplicidad\" + 0.004*\"constar\" + 0.003*\"atribuir\" + 0.003*\"evitar\" + 0.003*\"competente\"'),\n (48,\n  '0.007*\"division\" + 0.005*\"neurodivergent\" + 0.005*\"neurodiversidad\" + 0.005*\"nuevamente\" + 0.004*\"autonomar\" + 0.004*\"investigativo\" + 0.004*\"tecnologiar\" + 0.004*\"sintiencia\" + 0.004*\"bioetico\" + 0.004*\"aplicación\" + 0.004*\"fusion\" + 0.004*\"animal\" + 0.004*\"ciencia\" + 0.003*\"libremente\" + 0.003*\"reelecto\"'),\n (42,\n  '0.010*\"crimen\" + 0.007*\"existiran\" + 0.007*\"confianza\" + 0.006*\"conectividad\" + 0.006*\"estandar\" + 0.005*\"guerra\" + 0.005*\"exigencia\" + 0.005*\"delegación\" + 0.005*\"rendicion\" + 0.005*\"concurrir\" + 0.005*\"domestico\" + 0.004*\"humanidad\" + 0.004*\"lés\" + 0.004*\"atender\" + 0.004*\"distrito\"'),\n (26,\n  '0.013*\"democratico\" + 0.010*\"reconocido\" + 0.010*\"terna\" + 0.010*\"representacion\" + 0.009*\"ciudadania\" + 0.008*\"seis\" + 0.008*\"partir\" + 0.007*\"defensora\" + 0.007*\"defensor\" + 0.007*\"democracia\" + 0.007*\"exigido\" + 0.007*\"colectivamente\" + 0.006*\"colegiado\" + 0.006*\"propuesto\" + 0.005*\"asambleista\"'),\n (19,\n  '0.009*\"armado\" + 0.007*\"limitar\" + 0.007*\"precepto\" + 0.006*\"vacancia\" + 0.006*\"inconstitucionalidad\" + 0.006*\"causa\" + 0.005*\"alcance\" + 0.005*\"suspender\" + 0.005*\"conduccion\" + 0.005*\"climatico\" + 0.005*\"inaplicabilidad\" + 0.005*\"aprobacion\" + 0.004*\"cuanto\" + 0.004*\"alguno\" + 0.004*\"normalidad\"'),\n (8,\n  '0.010*\"enfoque\" + 0.007*\"inclusion\" + 0.007*\"interculturalidad\" + 0.006*\"linguistico\" + 0.006*\"exclusivamente\" + 0.006*\"oficial\" + 0.006*\"pertinencia\" + 0.005*\"expropiado\" + 0.005*\"rango\" + 0.005*\"multipl\" + 0.005*\"formativo\" + 0.004*\"idioma\" + 0.004*\"crearo\" + 0.004*\"minero\" + 0.004*\"destinar\"'),\n (35,\n  '0.008*\"provincia\" + 0.008*\"representar\" + 0.008*\"region\" + 0.008*\"cautelar\" + 0.008*\"carrera\" + 0.008*\"gobierno\" + 0.008*\"estructura\" + 0.007*\"portuario\" + 0.006*\"indivisible\" + 0.006*\"historico\" + 0.006*\"geografico\" + 0.006*\"municipalidad\" + 0.006*\"refugiado\" + 0.006*\"asilo\" + 0.005*\"realizacion\"'),\n (20,\n  '0.006*\"instrumento\" + 0.006*\"deuda\" + 0.006*\"crear\" + 0.005*\"promedio\" + 0.005*\"juridicidad\" + 0.005*\"debidamente\" + 0.004*\"tratamiento\" + 0.004*\"gobernacion\" + 0.004*\"incondicional\" + 0.004*\"financiamiento\" + 0.004*\"individualmente\" + 0.004*\"conferir\" + 0.004*\"restitucion\" + 0.004*\"anual\" + 0.004*\"ejecutado\"'),\n (14,\n  '0.011*\"sino\" + 0.010*\"exclusivo\" + 0.009*\"delito\" + 0.007*\"ministra\" + 0.007*\"ministro\" + 0.007*\"acusacion\" + 0.007*\"resolucion\" + 0.006*\"flagrante\" + 0.006*\"suspendido\" + 0.005*\"libertad\" + 0.005*\"apelación\" + 0.005*\"detenido\" + 0.005*\"culpable\" + 0.005*\"querella\" + 0.005*\"competente\"'),\n (13,\n  '0.009*\"tributo\" + 0.009*\"concejo\" + 0.008*\"gasto\" + 0.007*\"municipal\" + 0.007*\"consecutivamente\" + 0.007*\"elaborado\" + 0.006*\"nui\" + 0.006*\"rapa\" + 0.006*\"sustancia\" + 0.005*\"mitad\" + 0.005*\"autorizar\" + 0.005*\"apoderado\" + 0.005*\"ejercerar\" + 0.005*\"emprestito\" + 0.004*\"podrir\"'),\n (4,\n  '0.026*\"region\" + 0.018*\"legislativo\" + 0.013*\"asamblea\" + 0.013*\"ambito\" + 0.011*\"integrado\" + 0.011*\"gobierno\" + 0.010*\"presidencia\" + 0.009*\"dispuesto\" + 0.008*\"nombramiento\" + 0.008*\"cuyo\" + 0.008*\"coordinado\" + 0.008*\"calidad\" + 0.007*\"designacion\" + 0.007*\"nº\" + 0.006*\"permitir\"'),\n (18,\n  '0.021*\"proceso\" + 0.019*\"libertad\" + 0.017*\"podro\" + 0.016*\"judicial\" + 0.016*\"igualdad\" + 0.015*\"personal\" + 0.015*\"mediante\" + 0.014*\"ninguno\" + 0.014*\"grupo\" + 0.012*\"hacer\" + 0.011*\"sentencia\" + 0.010*\"permanente\" + 0.009*\"igual\" + 0.009*\"votacion\" + 0.009*\"resguardo\"'),\n (1,\n  '0.016*\"financiero\" + 0.016*\"adecuado\" + 0.016*\"menos\" + 0.013*\"incluir\" + 0.013*\"coordinacion\" + 0.013*\"criterio\" + 0.012*\"humano\" + 0.012*\"solidaridad\" + 0.012*\"distinto\" + 0.012*\"trabajo\" + 0.011*\"democracia\" + 0.011*\"presupuestario\" + 0.011*\"vinculante\" + 0.011*\"unidad\" + 0.011*\"equidad\"'),\n (6,\n  '0.018*\"mecanismo\" + 0.016*\"estatuto\" + 0.015*\"privado\" + 0.014*\"cada\" + 0.014*\"solo\" + 0.014*\"juez\" + 0.013*\"institución\" + 0.013*\"penal\" + 0.013*\"responsabilidad\" + 0.013*\"respetar\" + 0.013*\"proteger\" + 0.012*\"vecinal\" + 0.011*\"diverso\" + 0.011*\"ejecucion\" + 0.011*\"nivel\"'),\n (31,\n  '0.022*\"organo\" + 0.018*\"funcion\" + 0.018*\"naturaleza\" + 0.017*\"ejercer\" + 0.015*\"general\" + 0.014*\"juridico\" + 0.014*\"ambiental\" + 0.014*\"funcionamiento\" + 0.012*\"propio\" + 0.011*\"autonomo\" + 0.011*\"acceso\" + 0.011*\"defensoria\" + 0.011*\"perjuicio\" + 0.011*\"sero\" + 0.010*\"considerar\"'),\n (25,\n  '0.022*\"derecho\" + 0.017*\"estado\" + 0.017*\"persona\" + 0.016*\"territorial\" + 0.014*\"tener\" + 0.014*\"deber\" + 0.013*\"entidad\" + 0.013*\"garantizar\" + 0.013*\"publico\" + 0.012*\"nacional\" + 0.011*\"territorio\" + 0.011*\"justicia\" + 0.011*\"pueblo\" + 0.011*\"principio\" + 0.011*\"sistema\"'),\n (23,\n  '0.015*\"regional\" + 0.011*\"constitucion\" + 0.011*\"ley\" + 0.011*\"ser\" + 0.011*\"ejercicio\" + 0.011*\"cargo\" + 0.011*\"él\" + 0.010*\"establecer\" + 0.009*\"congreso\" + 0.009*\"diputado\" + 0.009*\"diputada\" + 0.009*\"competencia\" + 0.009*\"tribunal\" + 0.009*\"podra\" + 0.008*\"caso\"')]"
     },
     "execution_count": 104,
     "metadata": {},
     "output_type": "execute_result"
    }
   ],
   "source": [
    "ldamodel_gensim.print_topics(\n",
    "    num_words = 15,\n",
    "    num_topics = 30\n",
    ")"
   ],
   "metadata": {
    "collapsed": false,
    "pycharm": {
     "name": "#%%\n"
    }
   }
  },
  {
   "cell_type": "code",
   "execution_count": 102,
   "outputs": [
    {
     "data": {
      "text/plain": "         actividad  asegurar      bien     chile  colectivo  condición  \\\ntopic0    0.000231  0.000231  0.000231  0.000231   0.000231   0.000231   \ntopic1    0.000133  0.000133  0.000133  0.000133   0.000133   0.000133   \ntopic2    0.000262  0.000262  0.000262  0.000262   0.000262   0.000262   \ntopic3    0.000260  0.000260  0.000260  0.000260   0.000260   0.000260   \ntopic4    0.000179  0.000179  0.000179  0.000179   0.000179   0.000179   \ntopic5    0.000223  0.000223  0.000223  0.000223   0.000223   0.000223   \ntopic6    0.000091  0.000091  0.000091  0.000091   0.000091   0.000091   \ntopic7    0.000247  0.000247  0.000247  0.000247   0.000247   0.000247   \ntopic8    0.000218  0.000218  0.000218  0.000218   0.000218   0.000218   \ntopic9    0.000254  0.000254  0.000254  0.000254   0.000254   0.000254   \ntopic10   0.000280  0.000280  0.000280  0.000280   0.000280   0.000280   \ntopic11   0.000240  0.000240  0.000240  0.000240   0.000240   0.000240   \ntopic12   0.000278  0.000278  0.000278  0.000278   0.000278   0.000278   \ntopic13   0.000206  0.000206  0.000206  0.000206   0.000206   0.000206   \ntopic14   0.000199  0.000199  0.000199  0.000199   0.000199   0.000199   \ntopic15   0.000252  0.000252  0.000252  0.000252   0.000252   0.000252   \ntopic16   0.000237  0.000237  0.000237  0.000237   0.000237   0.000237   \ntopic17   0.000269  0.000269  0.000269  0.000269   0.000269   0.000269   \ntopic18   0.000131  0.000131  0.000131  0.000131   0.000131   0.000131   \ntopic19   0.000214  0.000214  0.000214  0.000214   0.000214   0.000214   \ntopic20   0.000219  0.000219  0.000219  0.000219   0.000219   0.000219   \ntopic21   0.000259  0.000259  0.000259  0.000259   0.000259   0.000259   \ntopic22   0.000249  0.000249  0.000249  0.000249   0.000249   0.000249   \ntopic23   0.000033  0.000033  0.000033  0.006058   0.000033   0.000033   \ntopic24   0.000247  0.000247  0.000247  0.000247   0.000247   0.000247   \ntopic25   0.006083  0.007898  0.005790  0.000041   0.000041   0.006685   \ntopic26   0.000229  0.000229  0.000229  0.000229   0.000229   0.000229   \ntopic27   0.000272  0.000272  0.000272  0.000272   0.000272   0.000272   \ntopic28   0.000239  0.000239  0.000239  0.000239   0.000239   0.000239   \ntopic29   0.000225  0.000225  0.000225  0.000225   0.000225   0.000225   \ntopic30   0.000247  0.000247  0.000247  0.000247   0.000247   0.000247   \ntopic31   0.000072  0.000072  0.000072  0.000072   0.005284   0.000072   \ntopic32   0.000244  0.000244  0.000244  0.000244   0.000244   0.000244   \ntopic33   0.000265  0.000265  0.000265  0.000265   0.000265   0.000265   \ntopic34   0.000247  0.000247  0.000247  0.000247   0.000247   0.000247   \ntopic35   0.000205  0.000205  0.000205  0.000205   0.000205   0.000205   \ntopic36   0.000217  0.000217  0.000217  0.000217   0.000217   0.000217   \ntopic37   0.000242  0.000242  0.000242  0.000242   0.000242   0.000242   \ntopic38   0.000255  0.000255  0.000255  0.000255   0.000255   0.000255   \ntopic39   0.000284  0.000284  0.000284  0.000284   0.000284   0.000284   \ntopic40   0.000259  0.000259  0.000259  0.000259   0.000259   0.000259   \ntopic41   0.000241  0.000241  0.000241  0.000241   0.000241   0.000241   \ntopic42   0.000217  0.000217  0.000217  0.000217   0.000217   0.000217   \ntopic43   0.000236  0.000236  0.000236  0.000236   0.000236   0.000236   \ntopic44   0.000237  0.000237  0.000237  0.000237   0.000237   0.000237   \ntopic45   0.000254  0.000254  0.000254  0.000254   0.000254   0.000254   \ntopic46   0.000253  0.000253  0.000253  0.000253   0.000253   0.000253   \ntopic47   0.000260  0.000260  0.000260  0.000260   0.000260   0.000260   \ntopic48   0.000258  0.000258  0.000258  0.000258   0.000258   0.000258   \ntopic49   0.000262  0.000262  0.000262  0.000262   0.000262   0.000262   \n\n         constituir  cultural     deber  democracia  ...  quincuagesima  \\\ntopic0     0.000231  0.000231  0.000231    0.000231  ...       0.000231   \ntopic1     0.000133  0.000133  0.000133    0.011262  ...       0.000133   \ntopic2     0.000262  0.000262  0.000262    0.000262  ...       0.000262   \ntopic3     0.000260  0.000260  0.000260    0.000353  ...       0.000260   \ntopic4     0.000179  0.000179  0.000179    0.000179  ...       0.000179   \ntopic5     0.000223  0.000223  0.000223    0.000223  ...       0.000223   \ntopic6     0.000091  0.000091  0.000091    0.000091  ...       0.000958   \ntopic7     0.000247  0.000247  0.000247    0.000247  ...       0.000247   \ntopic8     0.000218  0.000218  0.000218    0.000218  ...       0.000218   \ntopic9     0.000254  0.000254  0.000254    0.000254  ...       0.000254   \ntopic10    0.000280  0.000280  0.000280    0.000280  ...       0.000280   \ntopic11    0.000240  0.000240  0.000240    0.000240  ...       0.000240   \ntopic12    0.000278  0.000278  0.000278    0.000278  ...       0.000278   \ntopic13    0.000206  0.000206  0.000206    0.000217  ...       0.000206   \ntopic14    0.000199  0.000199  0.000199    0.000199  ...       0.000199   \ntopic15    0.000252  0.000252  0.000252    0.000263  ...       0.000252   \ntopic16    0.000237  0.000237  0.000237    0.000237  ...       0.000237   \ntopic17    0.000269  0.000269  0.000269    0.000269  ...       0.000269   \ntopic18    0.008101  0.000131  0.000131    0.000131  ...       0.000131   \ntopic19    0.000214  0.000214  0.000214    0.000214  ...       0.000214   \ntopic20    0.000219  0.000219  0.000219    0.000219  ...       0.000219   \ntopic21    0.000259  0.000259  0.000259    0.000259  ...       0.000259   \ntopic22    0.000249  0.000249  0.000249    0.000249  ...       0.000249   \ntopic23    0.000033  0.005824  0.000033    0.000033  ...       0.000033   \ntopic24    0.000247  0.000247  0.000247    0.000247  ...       0.000247   \ntopic25    0.000041  0.000041  0.013538    0.000041  ...       0.000041   \ntopic26    0.000229  0.000229  0.000229    0.007251  ...       0.000229   \ntopic27    0.000272  0.000272  0.000272    0.000272  ...       0.000272   \ntopic28    0.000239  0.000239  0.000239    0.000239  ...       0.000239   \ntopic29    0.000225  0.000225  0.000225    0.000225  ...       0.000225   \ntopic30    0.000247  0.000247  0.000247    0.000247  ...       0.000247   \ntopic31    0.000072  0.000072  0.000072    0.000072  ...       0.000072   \ntopic32    0.000244  0.000244  0.000244    0.000244  ...       0.000244   \ntopic33    0.000265  0.000265  0.000265    0.000265  ...       0.000265   \ntopic34    0.000247  0.000247  0.000247    0.000247  ...       0.000247   \ntopic35    0.000205  0.000205  0.000205    0.000205  ...       0.000205   \ntopic36    0.000217  0.000217  0.000217    0.000217  ...       0.000217   \ntopic37    0.000242  0.000242  0.000242    0.000242  ...       0.000242   \ntopic38    0.000255  0.000255  0.000255    0.000255  ...       0.000255   \ntopic39    0.000284  0.000284  0.000284    0.000284  ...       0.000284   \ntopic40    0.000259  0.000259  0.000259    0.000259  ...       0.000259   \ntopic41    0.000241  0.000241  0.000241    0.000241  ...       0.000241   \ntopic42    0.000422  0.000217  0.000217    0.000217  ...       0.000217   \ntopic43    0.000236  0.000236  0.000236    0.000236  ...       0.000236   \ntopic44    0.000237  0.000237  0.000237    0.000237  ...       0.000237   \ntopic45    0.000254  0.000254  0.000254    0.000254  ...       0.000254   \ntopic46    0.000253  0.000253  0.000253    0.000253  ...       0.000253   \ntopic47    0.000260  0.000260  0.000260    0.000260  ...       0.000260   \ntopic48    0.000258  0.000258  0.000258    0.000258  ...       0.000258   \ntopic49    0.000262  0.000262  0.000262    0.000262  ...       0.000262   \n\n         quincuagesimo   rebajar    recaer  reclamacion  reconstruccion  \\\ntopic0        0.000231  0.000231  0.000231     0.000231        0.000231   \ntopic1        0.000133  0.000133  0.000133     0.000133        0.000133   \ntopic2        0.000262  0.000262  0.000262     0.000262        0.000262   \ntopic3        0.000260  0.000260  0.000260     0.000260        0.000260   \ntopic4        0.000179  0.000179  0.000179     0.000179        0.000179   \ntopic5        0.000223  0.000223  0.000223     0.000223        0.000223   \ntopic6        0.000091  0.000091  0.000091     0.000091        0.000091   \ntopic7        0.000247  0.000247  0.000247     0.000247        0.000247   \ntopic8        0.000218  0.000218  0.000218     0.000218        0.000218   \ntopic9        0.000254  0.000254  0.000254     0.000254        0.000254   \ntopic10       0.000280  0.000280  0.000280     0.000280        0.000280   \ntopic11       0.000240  0.000240  0.000240     0.000240        0.000240   \ntopic12       0.000278  0.000278  0.000278     0.000278        0.000278   \ntopic13       0.000206  0.000206  0.000206     0.000206        0.000206   \ntopic14       0.000199  0.000199  0.000199     0.000199        0.000199   \ntopic15       0.000252  0.000252  0.000252     0.000252        0.000252   \ntopic16       0.000237  0.000237  0.000237     0.000237        0.000237   \ntopic17       0.000269  0.000269  0.000269     0.000269        0.000269   \ntopic18       0.000131  0.000131  0.000131     0.000131        0.000131   \ntopic19       0.000214  0.000214  0.000214     0.000214        0.000214   \ntopic20       0.000219  0.000219  0.000219     0.000219        0.000219   \ntopic21       0.000259  0.000259  0.000259     0.000259        0.000259   \ntopic22       0.000249  0.000249  0.000249     0.000249        0.000249   \ntopic23       0.000033  0.000033  0.000033     0.000033        0.000033   \ntopic24       0.000247  0.000247  0.000247     0.000247        0.000247   \ntopic25       0.000041  0.000041  0.000041     0.000041        0.000041   \ntopic26       0.000229  0.000229  0.000229     0.000229        0.000229   \ntopic27       0.000272  0.000272  0.000272     0.000272        0.000272   \ntopic28       0.000239  0.000239  0.000239     0.000239        0.000239   \ntopic29       0.000225  0.000225  0.000225     0.000225        0.000225   \ntopic30       0.000247  0.000247  0.000247     0.000247        0.000247   \ntopic31       0.000072  0.000072  0.000072     0.000072        0.000072   \ntopic32       0.000244  0.000244  0.000244     0.000244        0.000244   \ntopic33       0.000265  0.000265  0.000265     0.000265        0.000265   \ntopic34       0.000247  0.000247  0.000247     0.000247        0.000247   \ntopic35       0.000205  0.000205  0.000205     0.000205        0.000205   \ntopic36       0.000217  0.000217  0.000217     0.000217        0.000217   \ntopic37       0.000242  0.000242  0.000242     0.000242        0.000242   \ntopic38       0.000255  0.000255  0.000255     0.000255        0.000255   \ntopic39       0.000284  0.000284  0.000284     0.000284        0.000284   \ntopic40       0.000259  0.000259  0.000259     0.000259        0.000259   \ntopic41       0.000241  0.000241  0.000241     0.000241        0.000241   \ntopic42       0.000217  0.000217  0.000217     0.000217        0.000217   \ntopic43       0.000236  0.000236  0.000236     0.000236        0.000236   \ntopic44       0.000237  0.000237  0.000237     0.000237        0.000237   \ntopic45       0.000254  0.000254  0.000254     0.000254        0.000254   \ntopic46       0.000253  0.000253  0.000253     0.000253        0.000253   \ntopic47       0.000260  0.000260  0.000260     0.000260        0.000260   \ntopic48       0.000258  0.000258  0.000258     0.000258        0.000258   \ntopic49       0.000262  0.000262  0.000262     0.000262        0.000262   \n\n            rever   segunir  tipificado  transitarar  \ntopic0   0.000231  0.000231    0.000231     0.000231  \ntopic1   0.000133  0.000133    0.000133     0.000133  \ntopic2   0.000262  0.000262    0.000262     0.000262  \ntopic3   0.000260  0.000260    0.000260     0.000260  \ntopic4   0.000179  0.000179    0.000179     0.000179  \ntopic5   0.000223  0.000223    0.000223     0.000223  \ntopic6   0.000091  0.000091    0.000091     0.000091  \ntopic7   0.000247  0.000247    0.000247     0.000247  \ntopic8   0.000218  0.000218    0.000218     0.000218  \ntopic9   0.000254  0.000254    0.000254     0.000254  \ntopic10  0.000280  0.000280    0.000280     0.000280  \ntopic11  0.000240  0.000240    0.000240     0.000240  \ntopic12  0.000278  0.000278    0.000278     0.000278  \ntopic13  0.000206  0.000206    0.000206     0.000206  \ntopic14  0.000199  0.000199    0.000199     0.000199  \ntopic15  0.000252  0.000252    0.000252     0.000252  \ntopic16  0.000237  0.000237    0.000237     0.000237  \ntopic17  0.000269  0.000269    0.000269     0.000269  \ntopic18  0.000131  0.000131    0.000131     0.000131  \ntopic19  0.000214  0.000214    0.000214     0.000214  \ntopic20  0.000219  0.000219    0.000219     0.000219  \ntopic21  0.000259  0.000259    0.000259     0.000259  \ntopic22  0.000249  0.000249    0.000249     0.000249  \ntopic23  0.000033  0.000033    0.000033     0.000033  \ntopic24  0.000247  0.000247    0.000247     0.000247  \ntopic25  0.000041  0.000041    0.000041     0.000041  \ntopic26  0.000229  0.000229    0.000229     0.000229  \ntopic27  0.000272  0.000272    0.000272     0.000272  \ntopic28  0.000239  0.000239    0.000239     0.000239  \ntopic29  0.000225  0.000225    0.000225     0.000225  \ntopic30  0.000247  0.000247    0.000247     0.000247  \ntopic31  0.000072  0.000072    0.000072     0.000072  \ntopic32  0.000244  0.000244    0.000244     0.000244  \ntopic33  0.000265  0.000265    0.000265     0.000265  \ntopic34  0.000247  0.000247    0.000247     0.000247  \ntopic35  0.000205  0.000205    0.000205     0.000205  \ntopic36  0.000217  0.000217    0.000217     0.000217  \ntopic37  0.000242  0.000242    0.000242     0.000242  \ntopic38  0.000255  0.000255    0.000255     0.000255  \ntopic39  0.000284  0.000284    0.000284     0.000284  \ntopic40  0.000259  0.000259    0.000259     0.000259  \ntopic41  0.000241  0.000241    0.000241     0.000241  \ntopic42  0.000217  0.000217    0.000217     0.000217  \ntopic43  0.000236  0.000236    0.000236     0.000236  \ntopic44  0.000237  0.000237    0.000237     0.000237  \ntopic45  0.000254  0.000254    0.000254     0.000254  \ntopic46  0.000253  0.000253    0.000253     0.000253  \ntopic47  0.000260  0.000260    0.000260     0.000260  \ntopic48  0.000258  0.000258    0.000258     0.000258  \ntopic49  0.000262  0.000262    0.000262     0.000262  \n\n[50 rows x 3448 columns]",
      "text/html": "<div>\n<style scoped>\n    .dataframe tbody tr th:only-of-type {\n        vertical-align: middle;\n    }\n\n    .dataframe tbody tr th {\n        vertical-align: top;\n    }\n\n    .dataframe thead th {\n        text-align: right;\n    }\n</style>\n<table border=\"1\" class=\"dataframe\">\n  <thead>\n    <tr style=\"text-align: right;\">\n      <th></th>\n      <th>actividad</th>\n      <th>asegurar</th>\n      <th>bien</th>\n      <th>chile</th>\n      <th>colectivo</th>\n      <th>condición</th>\n      <th>constituir</th>\n      <th>cultural</th>\n      <th>deber</th>\n      <th>democracia</th>\n      <th>...</th>\n      <th>quincuagesima</th>\n      <th>quincuagesimo</th>\n      <th>rebajar</th>\n      <th>recaer</th>\n      <th>reclamacion</th>\n      <th>reconstruccion</th>\n      <th>rever</th>\n      <th>segunir</th>\n      <th>tipificado</th>\n      <th>transitarar</th>\n    </tr>\n  </thead>\n  <tbody>\n    <tr>\n      <th>topic0</th>\n      <td>0.000231</td>\n      <td>0.000231</td>\n      <td>0.000231</td>\n      <td>0.000231</td>\n      <td>0.000231</td>\n      <td>0.000231</td>\n      <td>0.000231</td>\n      <td>0.000231</td>\n      <td>0.000231</td>\n      <td>0.000231</td>\n      <td>...</td>\n      <td>0.000231</td>\n      <td>0.000231</td>\n      <td>0.000231</td>\n      <td>0.000231</td>\n      <td>0.000231</td>\n      <td>0.000231</td>\n      <td>0.000231</td>\n      <td>0.000231</td>\n      <td>0.000231</td>\n      <td>0.000231</td>\n    </tr>\n    <tr>\n      <th>topic1</th>\n      <td>0.000133</td>\n      <td>0.000133</td>\n      <td>0.000133</td>\n      <td>0.000133</td>\n      <td>0.000133</td>\n      <td>0.000133</td>\n      <td>0.000133</td>\n      <td>0.000133</td>\n      <td>0.000133</td>\n      <td>0.011262</td>\n      <td>...</td>\n      <td>0.000133</td>\n      <td>0.000133</td>\n      <td>0.000133</td>\n      <td>0.000133</td>\n      <td>0.000133</td>\n      <td>0.000133</td>\n      <td>0.000133</td>\n      <td>0.000133</td>\n      <td>0.000133</td>\n      <td>0.000133</td>\n    </tr>\n    <tr>\n      <th>topic2</th>\n      <td>0.000262</td>\n      <td>0.000262</td>\n      <td>0.000262</td>\n      <td>0.000262</td>\n      <td>0.000262</td>\n      <td>0.000262</td>\n      <td>0.000262</td>\n      <td>0.000262</td>\n      <td>0.000262</td>\n      <td>0.000262</td>\n      <td>...</td>\n      <td>0.000262</td>\n      <td>0.000262</td>\n      <td>0.000262</td>\n      <td>0.000262</td>\n      <td>0.000262</td>\n      <td>0.000262</td>\n      <td>0.000262</td>\n      <td>0.000262</td>\n      <td>0.000262</td>\n      <td>0.000262</td>\n    </tr>\n    <tr>\n      <th>topic3</th>\n      <td>0.000260</td>\n      <td>0.000260</td>\n      <td>0.000260</td>\n      <td>0.000260</td>\n      <td>0.000260</td>\n      <td>0.000260</td>\n      <td>0.000260</td>\n      <td>0.000260</td>\n      <td>0.000260</td>\n      <td>0.000353</td>\n      <td>...</td>\n      <td>0.000260</td>\n      <td>0.000260</td>\n      <td>0.000260</td>\n      <td>0.000260</td>\n      <td>0.000260</td>\n      <td>0.000260</td>\n      <td>0.000260</td>\n      <td>0.000260</td>\n      <td>0.000260</td>\n      <td>0.000260</td>\n    </tr>\n    <tr>\n      <th>topic4</th>\n      <td>0.000179</td>\n      <td>0.000179</td>\n      <td>0.000179</td>\n      <td>0.000179</td>\n      <td>0.000179</td>\n      <td>0.000179</td>\n      <td>0.000179</td>\n      <td>0.000179</td>\n      <td>0.000179</td>\n      <td>0.000179</td>\n      <td>...</td>\n      <td>0.000179</td>\n      <td>0.000179</td>\n      <td>0.000179</td>\n      <td>0.000179</td>\n      <td>0.000179</td>\n      <td>0.000179</td>\n      <td>0.000179</td>\n      <td>0.000179</td>\n      <td>0.000179</td>\n      <td>0.000179</td>\n    </tr>\n    <tr>\n      <th>topic5</th>\n      <td>0.000223</td>\n      <td>0.000223</td>\n      <td>0.000223</td>\n      <td>0.000223</td>\n      <td>0.000223</td>\n      <td>0.000223</td>\n      <td>0.000223</td>\n      <td>0.000223</td>\n      <td>0.000223</td>\n      <td>0.000223</td>\n      <td>...</td>\n      <td>0.000223</td>\n      <td>0.000223</td>\n      <td>0.000223</td>\n      <td>0.000223</td>\n      <td>0.000223</td>\n      <td>0.000223</td>\n      <td>0.000223</td>\n      <td>0.000223</td>\n      <td>0.000223</td>\n      <td>0.000223</td>\n    </tr>\n    <tr>\n      <th>topic6</th>\n      <td>0.000091</td>\n      <td>0.000091</td>\n      <td>0.000091</td>\n      <td>0.000091</td>\n      <td>0.000091</td>\n      <td>0.000091</td>\n      <td>0.000091</td>\n      <td>0.000091</td>\n      <td>0.000091</td>\n      <td>0.000091</td>\n      <td>...</td>\n      <td>0.000958</td>\n      <td>0.000091</td>\n      <td>0.000091</td>\n      <td>0.000091</td>\n      <td>0.000091</td>\n      <td>0.000091</td>\n      <td>0.000091</td>\n      <td>0.000091</td>\n      <td>0.000091</td>\n      <td>0.000091</td>\n    </tr>\n    <tr>\n      <th>topic7</th>\n      <td>0.000247</td>\n      <td>0.000247</td>\n      <td>0.000247</td>\n      <td>0.000247</td>\n      <td>0.000247</td>\n      <td>0.000247</td>\n      <td>0.000247</td>\n      <td>0.000247</td>\n      <td>0.000247</td>\n      <td>0.000247</td>\n      <td>...</td>\n      <td>0.000247</td>\n      <td>0.000247</td>\n      <td>0.000247</td>\n      <td>0.000247</td>\n      <td>0.000247</td>\n      <td>0.000247</td>\n      <td>0.000247</td>\n      <td>0.000247</td>\n      <td>0.000247</td>\n      <td>0.000247</td>\n    </tr>\n    <tr>\n      <th>topic8</th>\n      <td>0.000218</td>\n      <td>0.000218</td>\n      <td>0.000218</td>\n      <td>0.000218</td>\n      <td>0.000218</td>\n      <td>0.000218</td>\n      <td>0.000218</td>\n      <td>0.000218</td>\n      <td>0.000218</td>\n      <td>0.000218</td>\n      <td>...</td>\n      <td>0.000218</td>\n      <td>0.000218</td>\n      <td>0.000218</td>\n      <td>0.000218</td>\n      <td>0.000218</td>\n      <td>0.000218</td>\n      <td>0.000218</td>\n      <td>0.000218</td>\n      <td>0.000218</td>\n      <td>0.000218</td>\n    </tr>\n    <tr>\n      <th>topic9</th>\n      <td>0.000254</td>\n      <td>0.000254</td>\n      <td>0.000254</td>\n      <td>0.000254</td>\n      <td>0.000254</td>\n      <td>0.000254</td>\n      <td>0.000254</td>\n      <td>0.000254</td>\n      <td>0.000254</td>\n      <td>0.000254</td>\n      <td>...</td>\n      <td>0.000254</td>\n      <td>0.000254</td>\n      <td>0.000254</td>\n      <td>0.000254</td>\n      <td>0.000254</td>\n      <td>0.000254</td>\n      <td>0.000254</td>\n      <td>0.000254</td>\n      <td>0.000254</td>\n      <td>0.000254</td>\n    </tr>\n    <tr>\n      <th>topic10</th>\n      <td>0.000280</td>\n      <td>0.000280</td>\n      <td>0.000280</td>\n      <td>0.000280</td>\n      <td>0.000280</td>\n      <td>0.000280</td>\n      <td>0.000280</td>\n      <td>0.000280</td>\n      <td>0.000280</td>\n      <td>0.000280</td>\n      <td>...</td>\n      <td>0.000280</td>\n      <td>0.000280</td>\n      <td>0.000280</td>\n      <td>0.000280</td>\n      <td>0.000280</td>\n      <td>0.000280</td>\n      <td>0.000280</td>\n      <td>0.000280</td>\n      <td>0.000280</td>\n      <td>0.000280</td>\n    </tr>\n    <tr>\n      <th>topic11</th>\n      <td>0.000240</td>\n      <td>0.000240</td>\n      <td>0.000240</td>\n      <td>0.000240</td>\n      <td>0.000240</td>\n      <td>0.000240</td>\n      <td>0.000240</td>\n      <td>0.000240</td>\n      <td>0.000240</td>\n      <td>0.000240</td>\n      <td>...</td>\n      <td>0.000240</td>\n      <td>0.000240</td>\n      <td>0.000240</td>\n      <td>0.000240</td>\n      <td>0.000240</td>\n      <td>0.000240</td>\n      <td>0.000240</td>\n      <td>0.000240</td>\n      <td>0.000240</td>\n      <td>0.000240</td>\n    </tr>\n    <tr>\n      <th>topic12</th>\n      <td>0.000278</td>\n      <td>0.000278</td>\n      <td>0.000278</td>\n      <td>0.000278</td>\n      <td>0.000278</td>\n      <td>0.000278</td>\n      <td>0.000278</td>\n      <td>0.000278</td>\n      <td>0.000278</td>\n      <td>0.000278</td>\n      <td>...</td>\n      <td>0.000278</td>\n      <td>0.000278</td>\n      <td>0.000278</td>\n      <td>0.000278</td>\n      <td>0.000278</td>\n      <td>0.000278</td>\n      <td>0.000278</td>\n      <td>0.000278</td>\n      <td>0.000278</td>\n      <td>0.000278</td>\n    </tr>\n    <tr>\n      <th>topic13</th>\n      <td>0.000206</td>\n      <td>0.000206</td>\n      <td>0.000206</td>\n      <td>0.000206</td>\n      <td>0.000206</td>\n      <td>0.000206</td>\n      <td>0.000206</td>\n      <td>0.000206</td>\n      <td>0.000206</td>\n      <td>0.000217</td>\n      <td>...</td>\n      <td>0.000206</td>\n      <td>0.000206</td>\n      <td>0.000206</td>\n      <td>0.000206</td>\n      <td>0.000206</td>\n      <td>0.000206</td>\n      <td>0.000206</td>\n      <td>0.000206</td>\n      <td>0.000206</td>\n      <td>0.000206</td>\n    </tr>\n    <tr>\n      <th>topic14</th>\n      <td>0.000199</td>\n      <td>0.000199</td>\n      <td>0.000199</td>\n      <td>0.000199</td>\n      <td>0.000199</td>\n      <td>0.000199</td>\n      <td>0.000199</td>\n      <td>0.000199</td>\n      <td>0.000199</td>\n      <td>0.000199</td>\n      <td>...</td>\n      <td>0.000199</td>\n      <td>0.000199</td>\n      <td>0.000199</td>\n      <td>0.000199</td>\n      <td>0.000199</td>\n      <td>0.000199</td>\n      <td>0.000199</td>\n      <td>0.000199</td>\n      <td>0.000199</td>\n      <td>0.000199</td>\n    </tr>\n    <tr>\n      <th>topic15</th>\n      <td>0.000252</td>\n      <td>0.000252</td>\n      <td>0.000252</td>\n      <td>0.000252</td>\n      <td>0.000252</td>\n      <td>0.000252</td>\n      <td>0.000252</td>\n      <td>0.000252</td>\n      <td>0.000252</td>\n      <td>0.000263</td>\n      <td>...</td>\n      <td>0.000252</td>\n      <td>0.000252</td>\n      <td>0.000252</td>\n      <td>0.000252</td>\n      <td>0.000252</td>\n      <td>0.000252</td>\n      <td>0.000252</td>\n      <td>0.000252</td>\n      <td>0.000252</td>\n      <td>0.000252</td>\n    </tr>\n    <tr>\n      <th>topic16</th>\n      <td>0.000237</td>\n      <td>0.000237</td>\n      <td>0.000237</td>\n      <td>0.000237</td>\n      <td>0.000237</td>\n      <td>0.000237</td>\n      <td>0.000237</td>\n      <td>0.000237</td>\n      <td>0.000237</td>\n      <td>0.000237</td>\n      <td>...</td>\n      <td>0.000237</td>\n      <td>0.000237</td>\n      <td>0.000237</td>\n      <td>0.000237</td>\n      <td>0.000237</td>\n      <td>0.000237</td>\n      <td>0.000237</td>\n      <td>0.000237</td>\n      <td>0.000237</td>\n      <td>0.000237</td>\n    </tr>\n    <tr>\n      <th>topic17</th>\n      <td>0.000269</td>\n      <td>0.000269</td>\n      <td>0.000269</td>\n      <td>0.000269</td>\n      <td>0.000269</td>\n      <td>0.000269</td>\n      <td>0.000269</td>\n      <td>0.000269</td>\n      <td>0.000269</td>\n      <td>0.000269</td>\n      <td>...</td>\n      <td>0.000269</td>\n      <td>0.000269</td>\n      <td>0.000269</td>\n      <td>0.000269</td>\n      <td>0.000269</td>\n      <td>0.000269</td>\n      <td>0.000269</td>\n      <td>0.000269</td>\n      <td>0.000269</td>\n      <td>0.000269</td>\n    </tr>\n    <tr>\n      <th>topic18</th>\n      <td>0.000131</td>\n      <td>0.000131</td>\n      <td>0.000131</td>\n      <td>0.000131</td>\n      <td>0.000131</td>\n      <td>0.000131</td>\n      <td>0.008101</td>\n      <td>0.000131</td>\n      <td>0.000131</td>\n      <td>0.000131</td>\n      <td>...</td>\n      <td>0.000131</td>\n      <td>0.000131</td>\n      <td>0.000131</td>\n      <td>0.000131</td>\n      <td>0.000131</td>\n      <td>0.000131</td>\n      <td>0.000131</td>\n      <td>0.000131</td>\n      <td>0.000131</td>\n      <td>0.000131</td>\n    </tr>\n    <tr>\n      <th>topic19</th>\n      <td>0.000214</td>\n      <td>0.000214</td>\n      <td>0.000214</td>\n      <td>0.000214</td>\n      <td>0.000214</td>\n      <td>0.000214</td>\n      <td>0.000214</td>\n      <td>0.000214</td>\n      <td>0.000214</td>\n      <td>0.000214</td>\n      <td>...</td>\n      <td>0.000214</td>\n      <td>0.000214</td>\n      <td>0.000214</td>\n      <td>0.000214</td>\n      <td>0.000214</td>\n      <td>0.000214</td>\n      <td>0.000214</td>\n      <td>0.000214</td>\n      <td>0.000214</td>\n      <td>0.000214</td>\n    </tr>\n    <tr>\n      <th>topic20</th>\n      <td>0.000219</td>\n      <td>0.000219</td>\n      <td>0.000219</td>\n      <td>0.000219</td>\n      <td>0.000219</td>\n      <td>0.000219</td>\n      <td>0.000219</td>\n      <td>0.000219</td>\n      <td>0.000219</td>\n      <td>0.000219</td>\n      <td>...</td>\n      <td>0.000219</td>\n      <td>0.000219</td>\n      <td>0.000219</td>\n      <td>0.000219</td>\n      <td>0.000219</td>\n      <td>0.000219</td>\n      <td>0.000219</td>\n      <td>0.000219</td>\n      <td>0.000219</td>\n      <td>0.000219</td>\n    </tr>\n    <tr>\n      <th>topic21</th>\n      <td>0.000259</td>\n      <td>0.000259</td>\n      <td>0.000259</td>\n      <td>0.000259</td>\n      <td>0.000259</td>\n      <td>0.000259</td>\n      <td>0.000259</td>\n      <td>0.000259</td>\n      <td>0.000259</td>\n      <td>0.000259</td>\n      <td>...</td>\n      <td>0.000259</td>\n      <td>0.000259</td>\n      <td>0.000259</td>\n      <td>0.000259</td>\n      <td>0.000259</td>\n      <td>0.000259</td>\n      <td>0.000259</td>\n      <td>0.000259</td>\n      <td>0.000259</td>\n      <td>0.000259</td>\n    </tr>\n    <tr>\n      <th>topic22</th>\n      <td>0.000249</td>\n      <td>0.000249</td>\n      <td>0.000249</td>\n      <td>0.000249</td>\n      <td>0.000249</td>\n      <td>0.000249</td>\n      <td>0.000249</td>\n      <td>0.000249</td>\n      <td>0.000249</td>\n      <td>0.000249</td>\n      <td>...</td>\n      <td>0.000249</td>\n      <td>0.000249</td>\n      <td>0.000249</td>\n      <td>0.000249</td>\n      <td>0.000249</td>\n      <td>0.000249</td>\n      <td>0.000249</td>\n      <td>0.000249</td>\n      <td>0.000249</td>\n      <td>0.000249</td>\n    </tr>\n    <tr>\n      <th>topic23</th>\n      <td>0.000033</td>\n      <td>0.000033</td>\n      <td>0.000033</td>\n      <td>0.006058</td>\n      <td>0.000033</td>\n      <td>0.000033</td>\n      <td>0.000033</td>\n      <td>0.005824</td>\n      <td>0.000033</td>\n      <td>0.000033</td>\n      <td>...</td>\n      <td>0.000033</td>\n      <td>0.000033</td>\n      <td>0.000033</td>\n      <td>0.000033</td>\n      <td>0.000033</td>\n      <td>0.000033</td>\n      <td>0.000033</td>\n      <td>0.000033</td>\n      <td>0.000033</td>\n      <td>0.000033</td>\n    </tr>\n    <tr>\n      <th>topic24</th>\n      <td>0.000247</td>\n      <td>0.000247</td>\n      <td>0.000247</td>\n      <td>0.000247</td>\n      <td>0.000247</td>\n      <td>0.000247</td>\n      <td>0.000247</td>\n      <td>0.000247</td>\n      <td>0.000247</td>\n      <td>0.000247</td>\n      <td>...</td>\n      <td>0.000247</td>\n      <td>0.000247</td>\n      <td>0.000247</td>\n      <td>0.000247</td>\n      <td>0.000247</td>\n      <td>0.000247</td>\n      <td>0.000247</td>\n      <td>0.000247</td>\n      <td>0.000247</td>\n      <td>0.000247</td>\n    </tr>\n    <tr>\n      <th>topic25</th>\n      <td>0.006083</td>\n      <td>0.007898</td>\n      <td>0.005790</td>\n      <td>0.000041</td>\n      <td>0.000041</td>\n      <td>0.006685</td>\n      <td>0.000041</td>\n      <td>0.000041</td>\n      <td>0.013538</td>\n      <td>0.000041</td>\n      <td>...</td>\n      <td>0.000041</td>\n      <td>0.000041</td>\n      <td>0.000041</td>\n      <td>0.000041</td>\n      <td>0.000041</td>\n      <td>0.000041</td>\n      <td>0.000041</td>\n      <td>0.000041</td>\n      <td>0.000041</td>\n      <td>0.000041</td>\n    </tr>\n    <tr>\n      <th>topic26</th>\n      <td>0.000229</td>\n      <td>0.000229</td>\n      <td>0.000229</td>\n      <td>0.000229</td>\n      <td>0.000229</td>\n      <td>0.000229</td>\n      <td>0.000229</td>\n      <td>0.000229</td>\n      <td>0.000229</td>\n      <td>0.007251</td>\n      <td>...</td>\n      <td>0.000229</td>\n      <td>0.000229</td>\n      <td>0.000229</td>\n      <td>0.000229</td>\n      <td>0.000229</td>\n      <td>0.000229</td>\n      <td>0.000229</td>\n      <td>0.000229</td>\n      <td>0.000229</td>\n      <td>0.000229</td>\n    </tr>\n    <tr>\n      <th>topic27</th>\n      <td>0.000272</td>\n      <td>0.000272</td>\n      <td>0.000272</td>\n      <td>0.000272</td>\n      <td>0.000272</td>\n      <td>0.000272</td>\n      <td>0.000272</td>\n      <td>0.000272</td>\n      <td>0.000272</td>\n      <td>0.000272</td>\n      <td>...</td>\n      <td>0.000272</td>\n      <td>0.000272</td>\n      <td>0.000272</td>\n      <td>0.000272</td>\n      <td>0.000272</td>\n      <td>0.000272</td>\n      <td>0.000272</td>\n      <td>0.000272</td>\n      <td>0.000272</td>\n      <td>0.000272</td>\n    </tr>\n    <tr>\n      <th>topic28</th>\n      <td>0.000239</td>\n      <td>0.000239</td>\n      <td>0.000239</td>\n      <td>0.000239</td>\n      <td>0.000239</td>\n      <td>0.000239</td>\n      <td>0.000239</td>\n      <td>0.000239</td>\n      <td>0.000239</td>\n      <td>0.000239</td>\n      <td>...</td>\n      <td>0.000239</td>\n      <td>0.000239</td>\n      <td>0.000239</td>\n      <td>0.000239</td>\n      <td>0.000239</td>\n      <td>0.000239</td>\n      <td>0.000239</td>\n      <td>0.000239</td>\n      <td>0.000239</td>\n      <td>0.000239</td>\n    </tr>\n    <tr>\n      <th>topic29</th>\n      <td>0.000225</td>\n      <td>0.000225</td>\n      <td>0.000225</td>\n      <td>0.000225</td>\n      <td>0.000225</td>\n      <td>0.000225</td>\n      <td>0.000225</td>\n      <td>0.000225</td>\n      <td>0.000225</td>\n      <td>0.000225</td>\n      <td>...</td>\n      <td>0.000225</td>\n      <td>0.000225</td>\n      <td>0.000225</td>\n      <td>0.000225</td>\n      <td>0.000225</td>\n      <td>0.000225</td>\n      <td>0.000225</td>\n      <td>0.000225</td>\n      <td>0.000225</td>\n      <td>0.000225</td>\n    </tr>\n    <tr>\n      <th>topic30</th>\n      <td>0.000247</td>\n      <td>0.000247</td>\n      <td>0.000247</td>\n      <td>0.000247</td>\n      <td>0.000247</td>\n      <td>0.000247</td>\n      <td>0.000247</td>\n      <td>0.000247</td>\n      <td>0.000247</td>\n      <td>0.000247</td>\n      <td>...</td>\n      <td>0.000247</td>\n      <td>0.000247</td>\n      <td>0.000247</td>\n      <td>0.000247</td>\n      <td>0.000247</td>\n      <td>0.000247</td>\n      <td>0.000247</td>\n      <td>0.000247</td>\n      <td>0.000247</td>\n      <td>0.000247</td>\n    </tr>\n    <tr>\n      <th>topic31</th>\n      <td>0.000072</td>\n      <td>0.000072</td>\n      <td>0.000072</td>\n      <td>0.000072</td>\n      <td>0.005284</td>\n      <td>0.000072</td>\n      <td>0.000072</td>\n      <td>0.000072</td>\n      <td>0.000072</td>\n      <td>0.000072</td>\n      <td>...</td>\n      <td>0.000072</td>\n      <td>0.000072</td>\n      <td>0.000072</td>\n      <td>0.000072</td>\n      <td>0.000072</td>\n      <td>0.000072</td>\n      <td>0.000072</td>\n      <td>0.000072</td>\n      <td>0.000072</td>\n      <td>0.000072</td>\n    </tr>\n    <tr>\n      <th>topic32</th>\n      <td>0.000244</td>\n      <td>0.000244</td>\n      <td>0.000244</td>\n      <td>0.000244</td>\n      <td>0.000244</td>\n      <td>0.000244</td>\n      <td>0.000244</td>\n      <td>0.000244</td>\n      <td>0.000244</td>\n      <td>0.000244</td>\n      <td>...</td>\n      <td>0.000244</td>\n      <td>0.000244</td>\n      <td>0.000244</td>\n      <td>0.000244</td>\n      <td>0.000244</td>\n      <td>0.000244</td>\n      <td>0.000244</td>\n      <td>0.000244</td>\n      <td>0.000244</td>\n      <td>0.000244</td>\n    </tr>\n    <tr>\n      <th>topic33</th>\n      <td>0.000265</td>\n      <td>0.000265</td>\n      <td>0.000265</td>\n      <td>0.000265</td>\n      <td>0.000265</td>\n      <td>0.000265</td>\n      <td>0.000265</td>\n      <td>0.000265</td>\n      <td>0.000265</td>\n      <td>0.000265</td>\n      <td>...</td>\n      <td>0.000265</td>\n      <td>0.000265</td>\n      <td>0.000265</td>\n      <td>0.000265</td>\n      <td>0.000265</td>\n      <td>0.000265</td>\n      <td>0.000265</td>\n      <td>0.000265</td>\n      <td>0.000265</td>\n      <td>0.000265</td>\n    </tr>\n    <tr>\n      <th>topic34</th>\n      <td>0.000247</td>\n      <td>0.000247</td>\n      <td>0.000247</td>\n      <td>0.000247</td>\n      <td>0.000247</td>\n      <td>0.000247</td>\n      <td>0.000247</td>\n      <td>0.000247</td>\n      <td>0.000247</td>\n      <td>0.000247</td>\n      <td>...</td>\n      <td>0.000247</td>\n      <td>0.000247</td>\n      <td>0.000247</td>\n      <td>0.000247</td>\n      <td>0.000247</td>\n      <td>0.000247</td>\n      <td>0.000247</td>\n      <td>0.000247</td>\n      <td>0.000247</td>\n      <td>0.000247</td>\n    </tr>\n    <tr>\n      <th>topic35</th>\n      <td>0.000205</td>\n      <td>0.000205</td>\n      <td>0.000205</td>\n      <td>0.000205</td>\n      <td>0.000205</td>\n      <td>0.000205</td>\n      <td>0.000205</td>\n      <td>0.000205</td>\n      <td>0.000205</td>\n      <td>0.000205</td>\n      <td>...</td>\n      <td>0.000205</td>\n      <td>0.000205</td>\n      <td>0.000205</td>\n      <td>0.000205</td>\n      <td>0.000205</td>\n      <td>0.000205</td>\n      <td>0.000205</td>\n      <td>0.000205</td>\n      <td>0.000205</td>\n      <td>0.000205</td>\n    </tr>\n    <tr>\n      <th>topic36</th>\n      <td>0.000217</td>\n      <td>0.000217</td>\n      <td>0.000217</td>\n      <td>0.000217</td>\n      <td>0.000217</td>\n      <td>0.000217</td>\n      <td>0.000217</td>\n      <td>0.000217</td>\n      <td>0.000217</td>\n      <td>0.000217</td>\n      <td>...</td>\n      <td>0.000217</td>\n      <td>0.000217</td>\n      <td>0.000217</td>\n      <td>0.000217</td>\n      <td>0.000217</td>\n      <td>0.000217</td>\n      <td>0.000217</td>\n      <td>0.000217</td>\n      <td>0.000217</td>\n      <td>0.000217</td>\n    </tr>\n    <tr>\n      <th>topic37</th>\n      <td>0.000242</td>\n      <td>0.000242</td>\n      <td>0.000242</td>\n      <td>0.000242</td>\n      <td>0.000242</td>\n      <td>0.000242</td>\n      <td>0.000242</td>\n      <td>0.000242</td>\n      <td>0.000242</td>\n      <td>0.000242</td>\n      <td>...</td>\n      <td>0.000242</td>\n      <td>0.000242</td>\n      <td>0.000242</td>\n      <td>0.000242</td>\n      <td>0.000242</td>\n      <td>0.000242</td>\n      <td>0.000242</td>\n      <td>0.000242</td>\n      <td>0.000242</td>\n      <td>0.000242</td>\n    </tr>\n    <tr>\n      <th>topic38</th>\n      <td>0.000255</td>\n      <td>0.000255</td>\n      <td>0.000255</td>\n      <td>0.000255</td>\n      <td>0.000255</td>\n      <td>0.000255</td>\n      <td>0.000255</td>\n      <td>0.000255</td>\n      <td>0.000255</td>\n      <td>0.000255</td>\n      <td>...</td>\n      <td>0.000255</td>\n      <td>0.000255</td>\n      <td>0.000255</td>\n      <td>0.000255</td>\n      <td>0.000255</td>\n      <td>0.000255</td>\n      <td>0.000255</td>\n      <td>0.000255</td>\n      <td>0.000255</td>\n      <td>0.000255</td>\n    </tr>\n    <tr>\n      <th>topic39</th>\n      <td>0.000284</td>\n      <td>0.000284</td>\n      <td>0.000284</td>\n      <td>0.000284</td>\n      <td>0.000284</td>\n      <td>0.000284</td>\n      <td>0.000284</td>\n      <td>0.000284</td>\n      <td>0.000284</td>\n      <td>0.000284</td>\n      <td>...</td>\n      <td>0.000284</td>\n      <td>0.000284</td>\n      <td>0.000284</td>\n      <td>0.000284</td>\n      <td>0.000284</td>\n      <td>0.000284</td>\n      <td>0.000284</td>\n      <td>0.000284</td>\n      <td>0.000284</td>\n      <td>0.000284</td>\n    </tr>\n    <tr>\n      <th>topic40</th>\n      <td>0.000259</td>\n      <td>0.000259</td>\n      <td>0.000259</td>\n      <td>0.000259</td>\n      <td>0.000259</td>\n      <td>0.000259</td>\n      <td>0.000259</td>\n      <td>0.000259</td>\n      <td>0.000259</td>\n      <td>0.000259</td>\n      <td>...</td>\n      <td>0.000259</td>\n      <td>0.000259</td>\n      <td>0.000259</td>\n      <td>0.000259</td>\n      <td>0.000259</td>\n      <td>0.000259</td>\n      <td>0.000259</td>\n      <td>0.000259</td>\n      <td>0.000259</td>\n      <td>0.000259</td>\n    </tr>\n    <tr>\n      <th>topic41</th>\n      <td>0.000241</td>\n      <td>0.000241</td>\n      <td>0.000241</td>\n      <td>0.000241</td>\n      <td>0.000241</td>\n      <td>0.000241</td>\n      <td>0.000241</td>\n      <td>0.000241</td>\n      <td>0.000241</td>\n      <td>0.000241</td>\n      <td>...</td>\n      <td>0.000241</td>\n      <td>0.000241</td>\n      <td>0.000241</td>\n      <td>0.000241</td>\n      <td>0.000241</td>\n      <td>0.000241</td>\n      <td>0.000241</td>\n      <td>0.000241</td>\n      <td>0.000241</td>\n      <td>0.000241</td>\n    </tr>\n    <tr>\n      <th>topic42</th>\n      <td>0.000217</td>\n      <td>0.000217</td>\n      <td>0.000217</td>\n      <td>0.000217</td>\n      <td>0.000217</td>\n      <td>0.000217</td>\n      <td>0.000422</td>\n      <td>0.000217</td>\n      <td>0.000217</td>\n      <td>0.000217</td>\n      <td>...</td>\n      <td>0.000217</td>\n      <td>0.000217</td>\n      <td>0.000217</td>\n      <td>0.000217</td>\n      <td>0.000217</td>\n      <td>0.000217</td>\n      <td>0.000217</td>\n      <td>0.000217</td>\n      <td>0.000217</td>\n      <td>0.000217</td>\n    </tr>\n    <tr>\n      <th>topic43</th>\n      <td>0.000236</td>\n      <td>0.000236</td>\n      <td>0.000236</td>\n      <td>0.000236</td>\n      <td>0.000236</td>\n      <td>0.000236</td>\n      <td>0.000236</td>\n      <td>0.000236</td>\n      <td>0.000236</td>\n      <td>0.000236</td>\n      <td>...</td>\n      <td>0.000236</td>\n      <td>0.000236</td>\n      <td>0.000236</td>\n      <td>0.000236</td>\n      <td>0.000236</td>\n      <td>0.000236</td>\n      <td>0.000236</td>\n      <td>0.000236</td>\n      <td>0.000236</td>\n      <td>0.000236</td>\n    </tr>\n    <tr>\n      <th>topic44</th>\n      <td>0.000237</td>\n      <td>0.000237</td>\n      <td>0.000237</td>\n      <td>0.000237</td>\n      <td>0.000237</td>\n      <td>0.000237</td>\n      <td>0.000237</td>\n      <td>0.000237</td>\n      <td>0.000237</td>\n      <td>0.000237</td>\n      <td>...</td>\n      <td>0.000237</td>\n      <td>0.000237</td>\n      <td>0.000237</td>\n      <td>0.000237</td>\n      <td>0.000237</td>\n      <td>0.000237</td>\n      <td>0.000237</td>\n      <td>0.000237</td>\n      <td>0.000237</td>\n      <td>0.000237</td>\n    </tr>\n    <tr>\n      <th>topic45</th>\n      <td>0.000254</td>\n      <td>0.000254</td>\n      <td>0.000254</td>\n      <td>0.000254</td>\n      <td>0.000254</td>\n      <td>0.000254</td>\n      <td>0.000254</td>\n      <td>0.000254</td>\n      <td>0.000254</td>\n      <td>0.000254</td>\n      <td>...</td>\n      <td>0.000254</td>\n      <td>0.000254</td>\n      <td>0.000254</td>\n      <td>0.000254</td>\n      <td>0.000254</td>\n      <td>0.000254</td>\n      <td>0.000254</td>\n      <td>0.000254</td>\n      <td>0.000254</td>\n      <td>0.000254</td>\n    </tr>\n    <tr>\n      <th>topic46</th>\n      <td>0.000253</td>\n      <td>0.000253</td>\n      <td>0.000253</td>\n      <td>0.000253</td>\n      <td>0.000253</td>\n      <td>0.000253</td>\n      <td>0.000253</td>\n      <td>0.000253</td>\n      <td>0.000253</td>\n      <td>0.000253</td>\n      <td>...</td>\n      <td>0.000253</td>\n      <td>0.000253</td>\n      <td>0.000253</td>\n      <td>0.000253</td>\n      <td>0.000253</td>\n      <td>0.000253</td>\n      <td>0.000253</td>\n      <td>0.000253</td>\n      <td>0.000253</td>\n      <td>0.000253</td>\n    </tr>\n    <tr>\n      <th>topic47</th>\n      <td>0.000260</td>\n      <td>0.000260</td>\n      <td>0.000260</td>\n      <td>0.000260</td>\n      <td>0.000260</td>\n      <td>0.000260</td>\n      <td>0.000260</td>\n      <td>0.000260</td>\n      <td>0.000260</td>\n      <td>0.000260</td>\n      <td>...</td>\n      <td>0.000260</td>\n      <td>0.000260</td>\n      <td>0.000260</td>\n      <td>0.000260</td>\n      <td>0.000260</td>\n      <td>0.000260</td>\n      <td>0.000260</td>\n      <td>0.000260</td>\n      <td>0.000260</td>\n      <td>0.000260</td>\n    </tr>\n    <tr>\n      <th>topic48</th>\n      <td>0.000258</td>\n      <td>0.000258</td>\n      <td>0.000258</td>\n      <td>0.000258</td>\n      <td>0.000258</td>\n      <td>0.000258</td>\n      <td>0.000258</td>\n      <td>0.000258</td>\n      <td>0.000258</td>\n      <td>0.000258</td>\n      <td>...</td>\n      <td>0.000258</td>\n      <td>0.000258</td>\n      <td>0.000258</td>\n      <td>0.000258</td>\n      <td>0.000258</td>\n      <td>0.000258</td>\n      <td>0.000258</td>\n      <td>0.000258</td>\n      <td>0.000258</td>\n      <td>0.000258</td>\n    </tr>\n    <tr>\n      <th>topic49</th>\n      <td>0.000262</td>\n      <td>0.000262</td>\n      <td>0.000262</td>\n      <td>0.000262</td>\n      <td>0.000262</td>\n      <td>0.000262</td>\n      <td>0.000262</td>\n      <td>0.000262</td>\n      <td>0.000262</td>\n      <td>0.000262</td>\n      <td>...</td>\n      <td>0.000262</td>\n      <td>0.000262</td>\n      <td>0.000262</td>\n      <td>0.000262</td>\n      <td>0.000262</td>\n      <td>0.000262</td>\n      <td>0.000262</td>\n      <td>0.000262</td>\n      <td>0.000262</td>\n      <td>0.000262</td>\n    </tr>\n  </tbody>\n</table>\n<p>50 rows × 3448 columns</p>\n</div>"
     },
     "execution_count": 102,
     "metadata": {},
     "output_type": "execute_result"
    }
   ],
   "source": [
    "df_topic_term = pd.DataFrame(\n",
    "    ldamodel_gensim.get_topics(),\n",
    "    columns = ldamodel_gensim.id2word.values(),\n",
    "    index = [f'topic{i}' for i in range(ldamodel_gensim.num_topics)])\n",
    "df_topic_term"
   ],
   "metadata": {
    "collapsed": false,
    "pycharm": {
     "name": "#%%\n"
    }
   }
  },
  {
   "cell_type": "code",
   "execution_count": 105,
   "outputs": [
    {
     "data": {
      "text/plain": "financiero      0.016182\nadecuado        0.015892\nmenos           0.015625\nincluir         0.013468\ncoordinacion    0.013318\n                  ...   \nllevar          0.000133\nmonto           0.000133\nposesion        0.000133\nprecio          0.000133\ntransitarar     0.000133\nName: topic1, Length: 3448, dtype: float32"
     },
     "execution_count": 105,
     "metadata": {},
     "output_type": "execute_result"
    }
   ],
   "source": [
    "df_topic_term.loc['topic1'].sort_values(ascending=False)"
   ],
   "metadata": {
    "collapsed": false,
    "pycharm": {
     "name": "#%%\n"
    }
   }
  },
  {
   "cell_type": "code",
   "execution_count": 13,
   "outputs": [],
   "source": [],
   "metadata": {
    "collapsed": false,
    "pycharm": {
     "name": "#%%\n"
    }
   }
  }
 ],
 "metadata": {
  "kernelspec": {
   "display_name": "Python 3",
   "language": "python",
   "name": "python3"
  },
  "language_info": {
   "codemirror_mode": {
    "name": "ipython",
    "version": 2
   },
   "file_extension": ".py",
   "mimetype": "text/x-python",
   "name": "python",
   "nbconvert_exporter": "python",
   "pygments_lexer": "ipython2",
   "version": "2.7.6"
  }
 },
 "nbformat": 4,
 "nbformat_minor": 0
}